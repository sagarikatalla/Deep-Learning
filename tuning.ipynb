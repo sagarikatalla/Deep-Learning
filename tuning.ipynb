{
  "nbformat": 4,
  "nbformat_minor": 0,
  "metadata": {
    "colab": {
      "name": "2798178, Exam 3",
      "version": "0.3.2",
      "provenance": [],
      "collapsed_sections": [
        "JKncP6S-bBJn"
      ]
    },
    "kernelspec": {
      "display_name": "Python 3",
      "language": "python",
      "name": "python3"
    }
  },
  "cells": [
    {
      "metadata": {
        "id": "64pcXdI2bBEF",
        "colab_type": "code",
        "outputId": "cc4ae188-322d-48d6-b1e2-639ee69ee418",
        "colab": {
          "base_uri": "https://localhost:8080/",
          "height": 35
        }
      },
      "cell_type": "code",
      "source": [
        "import keras\n",
        "keras.__version__"
      ],
      "execution_count": 55,
      "outputs": [
        {
          "output_type": "execute_result",
          "data": {
            "text/plain": [
              "'2.2.4'"
            ]
          },
          "metadata": {
            "tags": []
          },
          "execution_count": 55
        }
      ]
    },
    {
      "metadata": {
        "id": "a3WZZyl6bKEo",
        "colab_type": "code",
        "outputId": "36e2367c-6c77-4d8a-e833-183f0e93d801",
        "colab": {
          "base_uri": "https://localhost:8080/",
          "height": 35
        }
      },
      "cell_type": "code",
      "source": [
        "# mount your Drive\n",
        "\n",
        "from google.colab import drive, files\n",
        "drive.mount('/content/drive/') \n",
        "url = \"https://drive.google.com/uc?export=download&id=1PEwQhlQD-8AW5ghsghZea3_QbDgD46fN\" #jenna csv\n"
      ],
      "execution_count": 56,
      "outputs": [
        {
          "output_type": "stream",
          "text": [
            "Drive already mounted at /content/drive/; to attempt to forcibly remount, call drive.mount(\"/content/drive/\", force_remount=True).\n"
          ],
          "name": "stdout"
        }
      ]
    },
    {
      "metadata": {
        "id": "R9OvZYKabgCP",
        "colab_type": "code",
        "outputId": "8da230d9-6a49-4ade-b80a-bc082051c01d",
        "colab": {
          "base_uri": "https://localhost:8080/",
          "height": 488
        }
      },
      "cell_type": "code",
      "source": [
        "##read input data\n",
        "import pandas as pd\n",
        "import matplotlib.pyplot as plt\n",
        "import numpy as np\n",
        "import math\n",
        "from keras.models import Sequential\n",
        "from keras.layers import Dense\n",
        "\n",
        "\n",
        "df = pd.read_csv(url, engine = 'python')\n",
        "\n",
        "df = df.drop(['TimeStamp'], axis=1)\n",
        "print(df.columns)\n",
        "dataset = df.values\n",
        "dataset = dataset.astype('float32')\n",
        "\n",
        "float_data =dataset\n",
        "print(float_data)\n",
        "#data = dataset[1,]\n",
        "#lines = data.split(;\\n)\n",
        "plt.plot(dataset)\n",
        "plt.show()"
      ],
      "execution_count": 57,
      "outputs": [
        {
          "output_type": "stream",
          "text": [
            "Index(['Total Outages', 'Temp', 'Preci', 'Gust', 'Wind', 'WindDir'], dtype='object')\n",
            "[[  0.          2.5400023   0.          6.96        2.69      278.7      ]\n",
            " [  0.          2.0499816   0.          4.98        1.75      293.80002  ]\n",
            " [  0.          2.1799865   0.          5.69        1.9       283.30002  ]\n",
            " ...\n",
            " [  0.         -7.179999    0.          6.5099998   3.1599998 310.1      ]\n",
            " [  0.         -7.7000184   0.          7.16        3.07      306.1      ]\n",
            " [  0.        -10.700018    0.          3.27        2.72      301.       ]]\n"
          ],
          "name": "stdout"
        },
        {
          "output_type": "display_data",
          "data": {
            "image/png": "[encoded data removed]",
            "text/plain": [
              "<Figure size 576x396 with 1 Axes>"
            ]
          },
          "metadata": {
            "tags": []
          }
        }
      ]
    },
    {
      "metadata": {
        "id": "pWWtnh9ubBFj",
        "colab_type": "text"
      },
      "cell_type": "markdown",
      "source": [
        "#Question 1 -EDA"
      ]
    },
    {
      "metadata": {
        "id": "t4vMd5ZJYMDJ",
        "colab_type": "code",
        "colab": {
          "base_uri": "https://localhost:8080/",
          "height": 202
        },
        "outputId": "e98cd3ce-24ec-4b6a-8f5f-d54618f9c1c8"
      },
      "cell_type": "code",
      "source": [
        "df.head()"
      ],
      "execution_count": 58,
      "outputs": [
        {
          "output_type": "execute_result",
          "data": {
            "text/html": [
              "<div>\n",
              "<style scoped>\n",
              "    .dataframe tbody tr th:only-of-type {\n",
              "        vertical-align: middle;\n",
              "    }\n",
              "\n",
              "    .dataframe tbody tr th {\n",
              "        vertical-align: top;\n",
              "    }\n",
              "\n",
              "    .dataframe thead th {\n",
              "        text-align: right;\n",
              "    }\n",
              "</style>\n",
              "<table border=\"1\" class=\"dataframe\">\n",
              "  <thead>\n",
              "    <tr style=\"text-align: right;\">\n",
              "      <th></th>\n",
              "      <th>Total Outages</th>\n",
              "      <th>Temp</th>\n",
              "      <th>Preci</th>\n",
              "      <th>Gust</th>\n",
              "      <th>Wind</th>\n",
              "      <th>WindDir</th>\n",
              "    </tr>\n",
              "  </thead>\n",
              "  <tbody>\n",
              "    <tr>\n",
              "      <th>0</th>\n",
              "      <td>0</td>\n",
              "      <td>2.540002</td>\n",
              "      <td>0.0</td>\n",
              "      <td>6.96</td>\n",
              "      <td>2.69</td>\n",
              "      <td>278.700012</td>\n",
              "    </tr>\n",
              "    <tr>\n",
              "      <th>1</th>\n",
              "      <td>0</td>\n",
              "      <td>2.049982</td>\n",
              "      <td>0.0</td>\n",
              "      <td>4.98</td>\n",
              "      <td>1.75</td>\n",
              "      <td>293.800018</td>\n",
              "    </tr>\n",
              "    <tr>\n",
              "      <th>2</th>\n",
              "      <td>0</td>\n",
              "      <td>2.179987</td>\n",
              "      <td>0.0</td>\n",
              "      <td>5.69</td>\n",
              "      <td>1.90</td>\n",
              "      <td>283.300018</td>\n",
              "    </tr>\n",
              "    <tr>\n",
              "      <th>3</th>\n",
              "      <td>0</td>\n",
              "      <td>2.299982</td>\n",
              "      <td>0.0</td>\n",
              "      <td>7.15</td>\n",
              "      <td>1.74</td>\n",
              "      <td>278.600006</td>\n",
              "    </tr>\n",
              "    <tr>\n",
              "      <th>4</th>\n",
              "      <td>0</td>\n",
              "      <td>2.519983</td>\n",
              "      <td>0.0</td>\n",
              "      <td>7.42</td>\n",
              "      <td>2.77</td>\n",
              "      <td>293.200012</td>\n",
              "    </tr>\n",
              "  </tbody>\n",
              "</table>\n",
              "</div>"
            ],
            "text/plain": [
              "   Total Outages      Temp  Preci  Gust  Wind     WindDir\n",
              "0              0  2.540002    0.0  6.96  2.69  278.700012\n",
              "1              0  2.049982    0.0  4.98  1.75  293.800018\n",
              "2              0  2.179987    0.0  5.69  1.90  283.300018\n",
              "3              0  2.299982    0.0  7.15  1.74  278.600006\n",
              "4              0  2.519983    0.0  7.42  2.77  293.200012"
            ]
          },
          "metadata": {
            "tags": []
          },
          "execution_count": 58
        }
      ]
    },
    {
      "metadata": {
        "id": "KsfTRGtRWcCG",
        "colab_type": "code",
        "colab": {
          "base_uri": "https://localhost:8080/",
          "height": 35
        },
        "outputId": "51b39f9b-77cd-450d-a9c0-3c8400b6e006"
      },
      "cell_type": "code",
      "source": [
        "df.columns"
      ],
      "execution_count": 59,
      "outputs": [
        {
          "output_type": "execute_result",
          "data": {
            "text/plain": [
              "Index(['Total Outages', 'Temp', 'Preci', 'Gust', 'Wind', 'WindDir'], dtype='object')"
            ]
          },
          "metadata": {
            "tags": []
          },
          "execution_count": 59
        }
      ]
    },
    {
      "metadata": {
        "id": "NWAAI7kaYCvX",
        "colab_type": "code",
        "colab": {
          "base_uri": "https://localhost:8080/",
          "height": 35
        },
        "outputId": "3d499468-4379-4154-e9ed-7a5f9c6d8002"
      },
      "cell_type": "code",
      "source": [
        "df.shape"
      ],
      "execution_count": 60,
      "outputs": [
        {
          "output_type": "execute_result",
          "data": {
            "text/plain": [
              "(16396, 6)"
            ]
          },
          "metadata": {
            "tags": []
          },
          "execution_count": 60
        }
      ]
    },
    {
      "metadata": {
        "id": "HTOivHdJYpYi",
        "colab_type": "code",
        "colab": {
          "base_uri": "https://localhost:8080/",
          "height": 233
        },
        "outputId": "879f0b7b-af3f-41f3-eaf7-b0dbfcbacdbb"
      },
      "cell_type": "code",
      "source": [
        "#Checking for missing values\n",
        "total = df.isnull().sum().sort_values(ascending=False) #finding count of null values\n",
        "percent_1 = df.isnull().sum()/df.isnull().count()*100 #finding percent of null values\n",
        "percent_2 = (round(percent_1, 1)).sort_values(ascending=False) #sort percent of missing values\n",
        "missing_data = pd.concat([total, percent_2], axis=1, keys=['Total', '%']) \n",
        "missing_data"
      ],
      "execution_count": 61,
      "outputs": [
        {
          "output_type": "execute_result",
          "data": {
            "text/html": [
              "<div>\n",
              "<style scoped>\n",
              "    .dataframe tbody tr th:only-of-type {\n",
              "        vertical-align: middle;\n",
              "    }\n",
              "\n",
              "    .dataframe tbody tr th {\n",
              "        vertical-align: top;\n",
              "    }\n",
              "\n",
              "    .dataframe thead th {\n",
              "        text-align: right;\n",
              "    }\n",
              "</style>\n",
              "<table border=\"1\" class=\"dataframe\">\n",
              "  <thead>\n",
              "    <tr style=\"text-align: right;\">\n",
              "      <th></th>\n",
              "      <th>Total</th>\n",
              "      <th>%</th>\n",
              "    </tr>\n",
              "  </thead>\n",
              "  <tbody>\n",
              "    <tr>\n",
              "      <th>WindDir</th>\n",
              "      <td>0</td>\n",
              "      <td>0.0</td>\n",
              "    </tr>\n",
              "    <tr>\n",
              "      <th>Wind</th>\n",
              "      <td>0</td>\n",
              "      <td>0.0</td>\n",
              "    </tr>\n",
              "    <tr>\n",
              "      <th>Gust</th>\n",
              "      <td>0</td>\n",
              "      <td>0.0</td>\n",
              "    </tr>\n",
              "    <tr>\n",
              "      <th>Preci</th>\n",
              "      <td>0</td>\n",
              "      <td>0.0</td>\n",
              "    </tr>\n",
              "    <tr>\n",
              "      <th>Temp</th>\n",
              "      <td>0</td>\n",
              "      <td>0.0</td>\n",
              "    </tr>\n",
              "    <tr>\n",
              "      <th>Total Outages</th>\n",
              "      <td>0</td>\n",
              "      <td>0.0</td>\n",
              "    </tr>\n",
              "  </tbody>\n",
              "</table>\n",
              "</div>"
            ],
            "text/plain": [
              "               Total    %\n",
              "WindDir            0  0.0\n",
              "Wind               0  0.0\n",
              "Gust               0  0.0\n",
              "Preci              0  0.0\n",
              "Temp               0  0.0\n",
              "Total Outages      0  0.0"
            ]
          },
          "metadata": {
            "tags": []
          },
          "execution_count": 61
        }
      ]
    },
    {
      "metadata": {
        "id": "Fm9XySOhY2m7",
        "colab_type": "code",
        "colab": {
          "base_uri": "https://localhost:8080/",
          "height": 1621
        },
        "outputId": "7983a626-a1fb-4fc1-b4a6-e64974be447e"
      },
      "cell_type": "code",
      "source": [
        "#Histograms of numerical variables\n",
        "%matplotlib inline\n",
        "import matplotlib.pyplot as plt\n",
        "\n",
        "plt.plot(range(len(df['WindDir'])), df['WindDir'])\n",
        "plt.title('WindDir')\n",
        "plt.show()\n",
        "\n",
        "plt.plot(range(len(df['Wind'])), df['Wind'])\n",
        "plt.title('Wind')\n",
        "plt.show()\n",
        "\n",
        "plt.plot(range(len(df['Gust'])), df['Gust'])\n",
        "plt.title('Gust')\n",
        "plt.show()\n",
        "\n",
        "plt.plot(range(len(df['Preci'])), df['Preci'])\n",
        "plt.title('Preci')\n",
        "plt.show()\n",
        "\n",
        "\n",
        "plt.plot(range(len(df['Temp'])), df['Temp'])\n",
        "plt.title('Temp')\n",
        "plt.show()\n",
        "\n",
        "plt.plot(range(len(df['Total Outages'])), df['Total Outages'])\n",
        "plt.title('Total Outages')\n",
        "plt.show()\n"
      ],
      "execution_count": 62,
      "outputs": [
        {
          "output_type": "display_data",
          "data": {
            "image/png": "[encoded data removed]",
            "text/plain": [
              "<Figure size 432x288 with 1 Axes>"
            ]
          },
          "metadata": {
            "tags": []
          }
        },
        {
          "output_type": "display_data",
          "data": {
            "image/png": "[encoded data removed]",
            "text/plain": [
              "<Figure size 432x288 with 1 Axes>"
            ]
          },
          "metadata": {
            "tags": []
          }
        },
        {
          "output_type": "display_data",
          "data": {
            "image/png": "[encoded data removed]",
            "text/plain": [
              "<Figure size 432x288 with 1 Axes>"
            ]
          },
          "metadata": {
            "tags": []
          }
        },
        {
          "output_type": "display_data",
          "data": {
            "image/png": "[encoded data removed]",
            "text/plain": [
              "<Figure size 432x288 with 1 Axes>"
            ]
          },
          "metadata": {
            "tags": []
          }
        },
        {
          "output_type": "display_data",
          "data": {
            "image/png": "[encoded data removed]",
            "text/plain": [
              "<Figure size 432x288 with 1 Axes>"
            ]
          },
          "metadata": {
            "tags": []
          }
        },
        {
          "output_type": "display_data",
          "data": {
            "image/png": "[encoded data removed]",
            "text/plain": [
              "<Figure size 432x288 with 1 Axes>"
            ]
          },
          "metadata": {
            "tags": []
          }
        }
      ]
    },
    {
      "metadata": {
        "id": "aCccPvZMl3_6",
        "colab_type": "code",
        "colab": {
          "base_uri": "https://localhost:8080/",
          "height": 367
        },
        "outputId": "c95687ec-fd21-483b-fffa-86fa517c607d"
      },
      "cell_type": "code",
      "source": [
        "#Boxplot\n",
        "#df = pd.read_csv(url, engine = 'python')\n",
        "df.boxplot(column=['WindDir' ])\n"
      ],
      "execution_count": 104,
      "outputs": [
        {
          "output_type": "execute_result",
          "data": {
            "text/plain": [
              "<matplotlib.axes._subplots.AxesSubplot at 0x7f3c488e4940>"
            ]
          },
          "metadata": {
            "tags": []
          },
          "execution_count": 104
        },
        {
          "output_type": "display_data",
          "data": {
            "image/png": "[encoded data removed]",
            "text/plain": [
              "<Figure size 576x396 with 1 Axes>"
            ]
          },
          "metadata": {
            "tags": []
          }
        }
      ]
    },
    {
      "metadata": {
        "id": "nuWk7zQ9w9L3",
        "colab_type": "code",
        "colab": {
          "base_uri": "https://localhost:8080/",
          "height": 367
        },
        "outputId": "bdd1204c-04d5-4f89-ec5a-4d46121f6144"
      },
      "cell_type": "code",
      "source": [
        "\n",
        "df.boxplot(column=[  'Wind' ])\n"
      ],
      "execution_count": 105,
      "outputs": [
        {
          "output_type": "execute_result",
          "data": {
            "text/plain": [
              "<matplotlib.axes._subplots.AxesSubplot at 0x7f3c48e7c828>"
            ]
          },
          "metadata": {
            "tags": []
          },
          "execution_count": 105
        },
        {
          "output_type": "display_data",
          "data": {
            "image/png": "[encoded data removed]",
            "text/plain": [
              "<Figure size 576x396 with 1 Axes>"
            ]
          },
          "metadata": {
            "tags": []
          }
        }
      ]
    },
    {
      "metadata": {
        "id": "NQGvr7P6xAwr",
        "colab_type": "code",
        "colab": {
          "base_uri": "https://localhost:8080/",
          "height": 367
        },
        "outputId": "40ff9fef-5715-454e-8be5-3a5cdb46fba6"
      },
      "cell_type": "code",
      "source": [
        "\n",
        "df.boxplot(column=[ 'Temp' ])\n"
      ],
      "execution_count": 106,
      "outputs": [
        {
          "output_type": "execute_result",
          "data": {
            "text/plain": [
              "<matplotlib.axes._subplots.AxesSubplot at 0x7f3c493d2ba8>"
            ]
          },
          "metadata": {
            "tags": []
          },
          "execution_count": 106
        },
        {
          "output_type": "display_data",
          "data": {
            "image/png": "[encoded data removed]",
            "text/plain": [
              "<Figure size 576x396 with 1 Axes>"
            ]
          },
          "metadata": {
            "tags": []
          }
        }
      ]
    },
    {
      "metadata": {
        "id": "UtTgK2lmxExL",
        "colab_type": "code",
        "colab": {
          "base_uri": "https://localhost:8080/",
          "height": 367
        },
        "outputId": "2f8cb79f-040a-452e-c4af-1a74eb794e67"
      },
      "cell_type": "code",
      "source": [
        "df.boxplot(column=[ 'Gust' ])"
      ],
      "execution_count": 108,
      "outputs": [
        {
          "output_type": "execute_result",
          "data": {
            "text/plain": [
              "<matplotlib.axes._subplots.AxesSubplot at 0x7f3c59dced68>"
            ]
          },
          "metadata": {
            "tags": []
          },
          "execution_count": 108
        },
        {
          "output_type": "display_data",
          "data": {
            "image/png": "[encoded data removed]",
            "text/plain": [
              "<Figure size 576x396 with 1 Axes>"
            ]
          },
          "metadata": {
            "tags": []
          }
        }
      ]
    },
    {
      "metadata": {
        "id": "QX95pafGxIRC",
        "colab_type": "code",
        "colab": {
          "base_uri": "https://localhost:8080/",
          "height": 367
        },
        "outputId": "70af0c12-5c5d-432e-e8ce-0608c909dfd5"
      },
      "cell_type": "code",
      "source": [
        "df.boxplot(column=[ 'Preci'])"
      ],
      "execution_count": 109,
      "outputs": [
        {
          "output_type": "execute_result",
          "data": {
            "text/plain": [
              "<matplotlib.axes._subplots.AxesSubplot at 0x7f3c4ebd90f0>"
            ]
          },
          "metadata": {
            "tags": []
          },
          "execution_count": 109
        },
        {
          "output_type": "display_data",
          "data": {
            "image/png": "[encoded data removed]",
            "text/plain": [
              "<Figure size 576x396 with 1 Axes>"
            ]
          },
          "metadata": {
            "tags": []
          }
        }
      ]
    },
    {
      "metadata": {
        "id": "of6PdexgxPP7",
        "colab_type": "code",
        "colab": {
          "base_uri": "https://localhost:8080/",
          "height": 367
        },
        "outputId": "62bf633d-3659-481c-bac9-b612c8ed7667"
      },
      "cell_type": "code",
      "source": [
        "df.boxplot(column=['Total Outages'])"
      ],
      "execution_count": 110,
      "outputs": [
        {
          "output_type": "execute_result",
          "data": {
            "text/plain": [
              "<matplotlib.axes._subplots.AxesSubplot at 0x7f3c4940c9e8>"
            ]
          },
          "metadata": {
            "tags": []
          },
          "execution_count": 110
        },
        {
          "output_type": "display_data",
          "data": {
            "image/png": "[encoded data removed]",
            "text/plain": [
              "<Figure size 576x396 with 1 Axes>"
            ]
          },
          "metadata": {
            "tags": []
          }
        }
      ]
    },
    {
      "metadata": {
        "id": "I-SX9ohNd7bx",
        "colab_type": "code",
        "colab": {
          "base_uri": "https://localhost:8080/",
          "height": 417
        },
        "outputId": "c6206a23-3cb1-459f-cca4-49f3cab42ae7"
      },
      "cell_type": "code",
      "source": [
        "#Correlation plot\n",
        "#correlation matrix\n",
        "import numpy as np\n",
        "import seaborn as sns\n",
        "import math\n",
        "import matplotlib.pyplot as plt\n",
        "\n",
        "k = 6 #number of variables for heatmap\n",
        "#correlation matrix\n",
        "corrmat = df.corr()\n",
        "cols = corrmat.nlargest(k, 'Total Outages')['Total Outages'].index #Total Outages correlation matrix\n",
        " \n",
        "cm = np.corrcoef(df[cols].values.T) #creates numpy array of correlation values\n",
        " \n",
        "sns.set(font_scale=1.25) #sets font\n",
        "#plot heatmap\n",
        "hm = sns.heatmap(cm, cbar=True, annot=True, square=True, fmt='.2f', annot_kws={'size': 10}, yticklabels=cols.values, xticklabels=cols.values)\n",
        "plt.show()"
      ],
      "execution_count": 63,
      "outputs": [
        {
          "output_type": "display_data",
          "data": {
            "image/png": "[encoded data removed]",
            "text/plain": [
              "<Figure size 576x396 with 2 Axes>"
            ]
          },
          "metadata": {
            "tags": []
          }
        }
      ]
    },
    {
      "metadata": {
        "id": "2Pvxj6-tW4OZ",
        "colab_type": "text"
      },
      "cell_type": "markdown",
      "source": [
        "#Question 1-Normalize input data"
      ]
    },
    {
      "metadata": {
        "id": "4JoEmD8kVDeR",
        "colab_type": "code",
        "colab": {}
      },
      "cell_type": "code",
      "source": [
        "#combining response variable with normalized data\n",
        "df2 = df[['Total Outages']] #subset of rest of the columns\n",
        "\n",
        "#removing target variables\n",
        "df1 = df.drop(['Total Outages'], axis=1)\n",
        "\n",
        "from sklearn import preprocessing\n",
        "#min max normalization\n",
        "x = df1.values #returns a numpy array\n",
        "min_max_scaler = preprocessing.MinMaxScaler()\n",
        "x_scaled = min_max_scaler.fit_transform(x)\n",
        "df = pd.DataFrame(x_scaled)\n",
        "\n",
        "df.columns=df1.columns \n",
        "\n",
        "df = pd.concat([df2,df],axis =1) \n"
      ],
      "execution_count": 0,
      "outputs": []
    },
    {
      "metadata": {
        "id": "-iiVrSI9ZJEf",
        "colab_type": "code",
        "colab": {
          "base_uri": "https://localhost:8080/",
          "height": 121
        },
        "outputId": "3e98d293-6404-4047-87b2-1f2944fddba1"
      },
      "cell_type": "code",
      "source": [
        "print(df.head())"
      ],
      "execution_count": 65,
      "outputs": [
        {
          "output_type": "stream",
          "text": [
            "   Total Outages      Temp     Preci      Gust      Wind   WindDir\n",
            "0              0  0.414165  0.151507  0.212584  0.082163  0.774167\n",
            "1              0  0.405357  0.151507  0.152108  0.053451  0.816111\n",
            "2              0  0.407694  0.151507  0.173794  0.058033  0.786944\n",
            "3              0  0.409851  0.151507  0.218387  0.053146  0.773889\n",
            "4              0  0.413805  0.151507  0.226634  0.084606  0.814444\n"
          ],
          "name": "stdout"
        }
      ]
    },
    {
      "metadata": {
        "id": "wabhrkfRTWZv",
        "colab_type": "code",
        "colab": {
          "base_uri": "https://localhost:8080/",
          "height": 243
        },
        "outputId": "3bd70c65-ec8f-4828-d091-cfb7c71a2d13"
      },
      "cell_type": "code",
      "source": [
        "dataset = df.values\n",
        "dataset = dataset.astype('float32')\n",
        "\n",
        "float_data =dataset\n",
        "float_data"
      ],
      "execution_count": 66,
      "outputs": [
        {
          "output_type": "execute_result",
          "data": {
            "text/plain": [
              "array([[0.        , 0.41416514, 0.15150732, 0.2125841 , 0.08216254,\n",
              "        0.7741667 ],\n",
              "       [0.        , 0.40535656, 0.15150732, 0.15210758, 0.05345146,\n",
              "        0.81611115],\n",
              "       [0.        , 0.40769354, 0.15150732, 0.17379361, 0.05803302,\n",
              "        0.7869445 ],\n",
              "       ...,\n",
              "       [0.        , 0.23943926, 0.15150732, 0.19883943, 0.09651806,\n",
              "        0.8613889 ],\n",
              "       [0.        , 0.23009144, 0.15150732, 0.21869284, 0.09376913,\n",
              "        0.8502778 ],\n",
              "       [0.        , 0.1761637 , 0.15150732, 0.09987787, 0.08307885,\n",
              "        0.8361111 ]], dtype=float32)"
            ]
          },
          "metadata": {
            "tags": []
          },
          "execution_count": 66
        }
      ]
    },
    {
      "metadata": {
        "id": "WGBa22C2bBHa",
        "colab_type": "text"
      },
      "cell_type": "markdown",
      "source": [
        "\n",
        "Now here is the data generator that we will use. It yields a tuple `(samples, targets)` where `samples` is one batch of input data and \n",
        "`targets` is the corresponding array of target temperatures. It takes the following arguments:\n",
        "\n",
        "* `data`: The original array of floating point data, which we just normalized in the code snippet above.\n",
        "* `lookback`: How many timesteps back should our input data go.\n",
        "* `delay`: How many timesteps in the future should our target be.\n",
        "* `min_index` and `max_index`: Indices in the `data` array that delimit which timesteps to draw from. This is useful for keeping a segment \n",
        "of the data for validation and another one for testing.\n",
        "* `shuffle`: Whether to shuffle our samples or draw them in chronological order.\n",
        "* `batch_size`: The number of samples per batch.\n",
        "* `step`: The period, in timesteps, at which we sample data. We will set it 6 in order to draw one data point every hour."
      ]
    },
    {
      "metadata": {
        "id": "395xdOO_bBHe",
        "colab_type": "code",
        "colab": {}
      },
      "cell_type": "code",
      "source": [
        "def generator(data, lookback, delay, min_index, max_index,\n",
        "              shuffle=False, batch_size=128, step=6):\n",
        "    if max_index is None:\n",
        "        max_index = len(data) - delay - 1\n",
        "    i = min_index + lookback\n",
        "    while 1:\n",
        "        if shuffle:\n",
        "            rows = np.random.randint(\n",
        "                min_index + lookback, max_index, size=batch_size)\n",
        "        else:\n",
        "            if i + batch_size >= max_index:\n",
        "                i = min_index + lookback\n",
        "            rows = np.arange(i, min(i + batch_size, max_index))\n",
        "            i += len(rows)\n",
        "\n",
        "        samples = np.zeros((len(rows),\n",
        "                           lookback // step,\n",
        "                           data.shape[-1]))\n",
        "        targets = np.zeros((len(rows),))\n",
        "        for j, row in enumerate(rows):\n",
        "            indices = range(rows[j] - lookback, rows[j], step)\n",
        "            samples[j] = data[indices]\n",
        "            targets[j] = data[rows[j] + delay][0]\n",
        "        yield samples, targets"
      ],
      "execution_count": 0,
      "outputs": []
    },
    {
      "metadata": {
        "id": "MITYkqvTtvum",
        "colab_type": "text"
      },
      "cell_type": "markdown",
      "source": [
        "#Question 2: Evaluation metric\n",
        "I am using Mean absolute error as the evaluation metric for predicting total outages as it is a continuous variable and am giving it as the loss measure for my model.\n",
        "The equation is: np.mean(history_gru.history['loss'])"
      ]
    },
    {
      "metadata": {
        "id": "j8xDUKuFQQlk",
        "colab_type": "text"
      },
      "cell_type": "markdown",
      "source": [
        "#Question 3\n"
      ]
    },
    {
      "metadata": {
        "id": "g2R0zNuxKSxu",
        "colab_type": "code",
        "outputId": "43e17b3e-74c5-4ab2-b36c-1bccaeb7cd85",
        "colab": {
          "base_uri": "https://localhost:8080/",
          "height": 121
        }
      },
      "cell_type": "code",
      "source": [
        "print(df.shape)\n",
        "tr_end = round(df.shape[0]*0.8)\n",
        "print(tr_end)\n",
        "gap = (round((df.shape[0] - tr_end)*0.5))\n",
        "val_beg = tr_end+1\n",
        "val_end = val_beg + gap\n",
        "test_beg= val_end+1\n",
        "test_end =  round(df.shape[0] )\n",
        "print(val_beg)\n",
        "print(val_end)\n",
        "print(test_beg)\n",
        "print(test_end)\n"
      ],
      "execution_count": 68,
      "outputs": [
        {
          "output_type": "stream",
          "text": [
            "(16396, 6)\n",
            "13117\n",
            "13118\n",
            "14758\n",
            "14759\n",
            "16396\n"
          ],
          "name": "stdout"
        }
      ]
    },
    {
      "metadata": {
        "id": "PYMtIoO1bBHo",
        "colab_type": "code",
        "colab": {}
      },
      "cell_type": "code",
      "source": [
        "lookback = 16\n",
        "step = 1\n",
        "delay = 1\n",
        "batch_size = 128\n",
        "\n",
        "train_gen = generator(float_data,\n",
        "                      lookback=lookback,\n",
        "                      delay=delay,\n",
        "                      min_index=0,\n",
        "                      max_index=tr_end,\n",
        "                      shuffle=False,\n",
        "                      step=step, \n",
        "                      batch_size=batch_size)\n",
        "val_gen = generator(float_data,\n",
        "                    lookback=lookback,\n",
        "                    delay=delay,\n",
        "                    min_index=val_beg,\n",
        "                    max_index=val_end,\n",
        "                    step=step,\n",
        "                    batch_size=batch_size)\n",
        "test_gen = generator(float_data,\n",
        "                     lookback=lookback,\n",
        "                     delay=delay,\n",
        "                     min_index=test_beg,\n",
        "                     max_index=None,\n",
        "                     step=step,\n",
        "                     batch_size=batch_size)\n",
        "\n",
        "# This is how many steps to draw from `val_gen`\n",
        "# in order to see the whole validation set:\n",
        "val_steps = (val_end - val_beg - lookback) // batch_size\n",
        "\n",
        "# This is how many steps to draw from `test_gen`\n",
        "# in order to see the whole test set:\n",
        "test_steps = (len(float_data) - test_beg - lookback) // batch_size"
      ],
      "execution_count": 0,
      "outputs": []
    },
    {
      "metadata": {
        "id": "h7u72EN8iIg8",
        "colab_type": "code",
        "outputId": "d7117d53-757d-4f75-a1f0-0dc4b31e4f80",
        "colab": {
          "base_uri": "https://localhost:8080/",
          "height": 35
        }
      },
      "cell_type": "code",
      "source": [
        "lookback // step\n",
        "float_data.shape[-1]"
      ],
      "execution_count": 70,
      "outputs": [
        {
          "output_type": "execute_result",
          "data": {
            "text/plain": [
              "6"
            ]
          },
          "metadata": {
            "tags": []
          },
          "execution_count": 70
        }
      ]
    },
    {
      "metadata": {
        "id": "Ha35wchYOZLi",
        "colab_type": "text"
      },
      "cell_type": "markdown",
      "source": [
        "#Baseline model"
      ]
    },
    {
      "metadata": {
        "id": "77JU_SUPOYdw",
        "colab_type": "code",
        "colab": {
          "base_uri": "https://localhost:8080/",
          "height": 6951
        },
        "outputId": "c5df1c04-1256-4ab4-886d-43063cad7e61"
      },
      "cell_type": "code",
      "source": [
        "from keras.models import Sequential\n",
        "from keras import layers\n",
        "from keras.optimizers import RMSprop\n",
        "\n",
        "model = Sequential()\n",
        "model.add(layers.Flatten(input_shape=(lookback // step, float_data.shape[-1])))\n",
        "model.add(layers.Dense(32, activation='relu'))\n",
        "model.add(layers.Dense(1))\n",
        "\n",
        "model.compile(optimizer=RMSprop(), loss='mae')\n",
        "\n",
        "from google.colab import drive, files\n",
        "\n",
        "from tensorflow.keras.callbacks import ModelCheckpoint\n",
        "\n",
        "filepath=\"/content/drive/My Drive/Colab Notebooks/myweights_base.hdf5\"\n",
        "\n",
        "checkpointer = ModelCheckpoint(filepath, monitor='loss', verbose=1, save_best_only=True,mode='min')\n",
        "\n",
        "history_base = model.fit_generator(train_gen,\n",
        "                              steps_per_epoch=500,\n",
        "                              epochs=100,\n",
        "                              validation_data=val_gen,\n",
        "                              validation_steps=val_steps,\n",
        "                                 callbacks = [checkpointer] )\n",
        "model.load_weights(\"/content/drive/My Drive/Colab Notebooks/myweights_base.hdf5\")"
      ],
      "execution_count": 71,
      "outputs": [
        {
          "output_type": "stream",
          "text": [
            "Epoch 1/100\n",
            "500/500 [==============================] - 5s 10ms/step - loss: 55.0504 - val_loss: 14.6229\n",
            "\n",
            "Epoch 00001: loss improved from inf to 55.05039, saving model to /content/drive/My Drive/Colab Notebooks/myweights_base.hdf5\n",
            "Epoch 2/100\n",
            "500/500 [==============================] - 3s 5ms/step - loss: 46.5130 - val_loss: 14.6678\n",
            "\n",
            "Epoch 00002: loss improved from 55.05039 to 46.51302, saving model to /content/drive/My Drive/Colab Notebooks/myweights_base.hdf5\n",
            "Epoch 3/100\n",
            "500/500 [==============================] - 3s 5ms/step - loss: 45.4137 - val_loss: 15.4752\n",
            "\n",
            "Epoch 00003: loss improved from 46.51302 to 45.41372, saving model to /content/drive/My Drive/Colab Notebooks/myweights_base.hdf5\n",
            "Epoch 4/100\n",
            "500/500 [==============================] - 3s 5ms/step - loss: 44.3600 - val_loss: 14.1766\n",
            "\n",
            "Epoch 00004: loss improved from 45.41372 to 44.35998, saving model to /content/drive/My Drive/Colab Notebooks/myweights_base.hdf5\n",
            "Epoch 5/100\n",
            "500/500 [==============================] - 3s 5ms/step - loss: 44.3135 - val_loss: 14.2751\n",
            "\n",
            "Epoch 00005: loss improved from 44.35998 to 44.31349, saving model to /content/drive/My Drive/Colab Notebooks/myweights_base.hdf5\n",
            "Epoch 6/100\n",
            "500/500 [==============================] - 2s 5ms/step - loss: 44.1995 - val_loss: 14.1248\n",
            "\n",
            "Epoch 00006: loss improved from 44.31349 to 44.19953, saving model to /content/drive/My Drive/Colab Notebooks/myweights_base.hdf5\n",
            "Epoch 7/100\n",
            "500/500 [==============================] - 3s 5ms/step - loss: 42.8174 - val_loss: 14.1317\n",
            "\n",
            "Epoch 00007: loss improved from 44.19953 to 42.81736, saving model to /content/drive/My Drive/Colab Notebooks/myweights_base.hdf5\n",
            "Epoch 8/100\n",
            "500/500 [==============================] - 3s 5ms/step - loss: 43.1206 - val_loss: 14.2964\n",
            "\n",
            "Epoch 00008: loss did not improve from 42.81736\n",
            "Epoch 9/100\n",
            "500/500 [==============================] - 3s 5ms/step - loss: 43.6425 - val_loss: 15.1719\n",
            "\n",
            "Epoch 00009: loss did not improve from 42.81736\n",
            "Epoch 10/100\n",
            "500/500 [==============================] - 3s 5ms/step - loss: 42.4484 - val_loss: 14.0940\n",
            "\n",
            "Epoch 00010: loss improved from 42.81736 to 42.44844, saving model to /content/drive/My Drive/Colab Notebooks/myweights_base.hdf5\n",
            "Epoch 11/100\n",
            "500/500 [==============================] - 2s 5ms/step - loss: 43.3696 - val_loss: 14.0830\n",
            "\n",
            "Epoch 00011: loss did not improve from 42.44844\n",
            "Epoch 12/100\n",
            "500/500 [==============================] - 2s 5ms/step - loss: 43.0761 - val_loss: 14.1294\n",
            "\n",
            "Epoch 00012: loss did not improve from 42.44844\n",
            "Epoch 13/100\n",
            "500/500 [==============================] - 2s 5ms/step - loss: 43.4404 - val_loss: 14.8834\n",
            "\n",
            "Epoch 00013: loss did not improve from 42.44844\n",
            "Epoch 14/100\n",
            "500/500 [==============================] - 2s 5ms/step - loss: 42.9310 - val_loss: 14.1198\n",
            "\n",
            "Epoch 00014: loss did not improve from 42.44844\n",
            "Epoch 15/100\n",
            "500/500 [==============================] - 3s 5ms/step - loss: 43.2904 - val_loss: 14.0876\n",
            "\n",
            "Epoch 00015: loss did not improve from 42.44844\n",
            "Epoch 16/100\n",
            "500/500 [==============================] - 3s 5ms/step - loss: 43.1606 - val_loss: 14.0269\n",
            "\n",
            "Epoch 00016: loss did not improve from 42.44844\n",
            "Epoch 17/100\n",
            "500/500 [==============================] - 3s 5ms/step - loss: 42.0473 - val_loss: 14.2390\n",
            "\n",
            "Epoch 00017: loss improved from 42.44844 to 42.04727, saving model to /content/drive/My Drive/Colab Notebooks/myweights_base.hdf5\n",
            "Epoch 18/100\n",
            "500/500 [==============================] - 3s 5ms/step - loss: 42.6971 - val_loss: 14.1408\n",
            "\n",
            "Epoch 00018: loss did not improve from 42.04727\n",
            "Epoch 19/100\n",
            "500/500 [==============================] - 3s 5ms/step - loss: 42.7883 - val_loss: 14.6732\n",
            "\n",
            "Epoch 00019: loss did not improve from 42.04727\n",
            "Epoch 20/100\n",
            "500/500 [==============================] - 2s 5ms/step - loss: 42.0104 - val_loss: 14.1023\n",
            "\n",
            "Epoch 00020: loss improved from 42.04727 to 42.01036, saving model to /content/drive/My Drive/Colab Notebooks/myweights_base.hdf5\n",
            "Epoch 21/100\n",
            "500/500 [==============================] - 2s 5ms/step - loss: 42.7532 - val_loss: 13.9943\n",
            "\n",
            "Epoch 00021: loss did not improve from 42.01036\n",
            "Epoch 22/100\n",
            "500/500 [==============================] - 3s 5ms/step - loss: 42.4772 - val_loss: 13.9738\n",
            "\n",
            "Epoch 00022: loss did not improve from 42.01036\n",
            "Epoch 23/100\n",
            "500/500 [==============================] - 2s 5ms/step - loss: 42.9071 - val_loss: 14.1534\n",
            "\n",
            "Epoch 00023: loss did not improve from 42.01036\n",
            "Epoch 24/100\n",
            "500/500 [==============================] - 2s 5ms/step - loss: 42.4413 - val_loss: 14.0570\n",
            "\n",
            "Epoch 00024: loss did not improve from 42.01036\n",
            "Epoch 25/100\n",
            "500/500 [==============================] - 2s 5ms/step - loss: 43.0323 - val_loss: 14.2105\n",
            "\n",
            "Epoch 00025: loss did not improve from 42.01036\n",
            "Epoch 26/100\n",
            "500/500 [==============================] - 3s 5ms/step - loss: 42.4636 - val_loss: 14.0014\n",
            "\n",
            "Epoch 00026: loss did not improve from 42.01036\n",
            "Epoch 27/100\n",
            "500/500 [==============================] - 2s 5ms/step - loss: 42.7538 - val_loss: 14.3535\n",
            "\n",
            "Epoch 00027: loss did not improve from 42.01036\n",
            "Epoch 28/100\n",
            "500/500 [==============================] - 3s 5ms/step - loss: 41.2757 - val_loss: 14.0924\n",
            "\n",
            "Epoch 00028: loss improved from 42.01036 to 41.27570, saving model to /content/drive/My Drive/Colab Notebooks/myweights_base.hdf5\n",
            "Epoch 29/100\n",
            "500/500 [==============================] - 3s 5ms/step - loss: 42.2126 - val_loss: 14.6043\n",
            "\n",
            "Epoch 00029: loss did not improve from 41.27570\n",
            "Epoch 30/100\n",
            "500/500 [==============================] - 3s 5ms/step - loss: 41.6694 - val_loss: 14.0448\n",
            "\n",
            "Epoch 00030: loss did not improve from 41.27570\n",
            "Epoch 31/100\n",
            "500/500 [==============================] - 3s 5ms/step - loss: 42.5883 - val_loss: 14.1423\n",
            "\n",
            "Epoch 00031: loss did not improve from 41.27570\n",
            "Epoch 32/100\n",
            "500/500 [==============================] - 3s 5ms/step - loss: 42.4064 - val_loss: 14.1673\n",
            "\n",
            "Epoch 00032: loss did not improve from 41.27570\n",
            "Epoch 33/100\n",
            "500/500 [==============================] - 3s 5ms/step - loss: 42.5315 - val_loss: 14.3703\n",
            "\n",
            "Epoch 00033: loss did not improve from 41.27570\n",
            "Epoch 34/100\n",
            "500/500 [==============================] - 3s 5ms/step - loss: 42.0079 - val_loss: 14.1213\n",
            "\n",
            "Epoch 00034: loss did not improve from 41.27570\n",
            "Epoch 35/100\n",
            "500/500 [==============================] - 3s 5ms/step - loss: 42.8098 - val_loss: 14.3390\n",
            "\n",
            "Epoch 00035: loss did not improve from 41.27570\n",
            "Epoch 36/100\n",
            "500/500 [==============================] - 3s 5ms/step - loss: 42.2276 - val_loss: 14.0396\n",
            "\n",
            "Epoch 00036: loss did not improve from 41.27570\n",
            "Epoch 37/100\n",
            "500/500 [==============================] - 3s 5ms/step - loss: 42.5874 - val_loss: 14.4488\n",
            "\n",
            "Epoch 00037: loss did not improve from 41.27570\n",
            "Epoch 38/100\n",
            "500/500 [==============================] - 3s 5ms/step - loss: 41.1152 - val_loss: 14.1264\n",
            "\n",
            "Epoch 00038: loss improved from 41.27570 to 41.11523, saving model to /content/drive/My Drive/Colab Notebooks/myweights_base.hdf5\n",
            "Epoch 39/100\n",
            "500/500 [==============================] - 3s 5ms/step - loss: 41.9614 - val_loss: 14.5918\n",
            "\n",
            "Epoch 00039: loss did not improve from 41.11523\n",
            "Epoch 40/100\n",
            "500/500 [==============================] - 2s 5ms/step - loss: 41.5990 - val_loss: 14.4894\n",
            "\n",
            "Epoch 00040: loss did not improve from 41.11523\n",
            "Epoch 41/100\n",
            "500/500 [==============================] - 3s 5ms/step - loss: 42.1845 - val_loss: 14.0627\n",
            "\n",
            "Epoch 00041: loss did not improve from 41.11523\n",
            "Epoch 42/100\n",
            "500/500 [==============================] - 3s 5ms/step - loss: 42.2695 - val_loss: 14.0970\n",
            "\n",
            "Epoch 00042: loss did not improve from 41.11523\n",
            "Epoch 43/100\n",
            "500/500 [==============================] - 3s 5ms/step - loss: 42.1619 - val_loss: 14.5148\n",
            "\n",
            "Epoch 00043: loss did not improve from 41.11523\n",
            "Epoch 44/100\n",
            "500/500 [==============================] - 2s 5ms/step - loss: 42.3981 - val_loss: 15.0879\n",
            "\n",
            "Epoch 00044: loss did not improve from 41.11523\n",
            "Epoch 45/100\n",
            "500/500 [==============================] - 3s 5ms/step - loss: 42.1144 - val_loss: 14.1116\n",
            "\n",
            "Epoch 00045: loss did not improve from 41.11523\n",
            "Epoch 46/100\n",
            "500/500 [==============================] - 3s 5ms/step - loss: 42.1031 - val_loss: 14.0408\n",
            "\n",
            "Epoch 00046: loss did not improve from 41.11523\n",
            "Epoch 47/100\n",
            "500/500 [==============================] - 3s 5ms/step - loss: 42.4325 - val_loss: 14.2038\n",
            "\n",
            "Epoch 00047: loss did not improve from 41.11523\n",
            "Epoch 48/100\n",
            "500/500 [==============================] - 3s 5ms/step - loss: 40.9581 - val_loss: 14.1441\n",
            "\n",
            "Epoch 00048: loss improved from 41.11523 to 40.95813, saving model to /content/drive/My Drive/Colab Notebooks/myweights_base.hdf5\n",
            "Epoch 49/100\n",
            "500/500 [==============================] - 2s 5ms/step - loss: 41.5649 - val_loss: 14.2497\n",
            "\n",
            "Epoch 00049: loss did not improve from 40.95813\n",
            "Epoch 50/100\n",
            "500/500 [==============================] - 3s 5ms/step - loss: 41.4666 - val_loss: 14.4398\n",
            "\n",
            "Epoch 00050: loss did not improve from 40.95813\n",
            "Epoch 51/100\n",
            "500/500 [==============================] - 3s 5ms/step - loss: 42.0652 - val_loss: 14.1256\n",
            "\n",
            "Epoch 00051: loss did not improve from 40.95813\n",
            "Epoch 52/100\n",
            "500/500 [==============================] - 3s 5ms/step - loss: 42.0789 - val_loss: 14.4529\n",
            "\n",
            "Epoch 00052: loss did not improve from 40.95813\n",
            "Epoch 53/100\n",
            "500/500 [==============================] - 3s 5ms/step - loss: 41.8634 - val_loss: 14.2741\n",
            "\n",
            "Epoch 00053: loss did not improve from 40.95813\n",
            "Epoch 54/100\n",
            "500/500 [==============================] - 3s 5ms/step - loss: 42.1504 - val_loss: 14.3241\n",
            "\n",
            "Epoch 00054: loss did not improve from 40.95813\n",
            "Epoch 55/100\n",
            "500/500 [==============================] - 3s 5ms/step - loss: 41.8750 - val_loss: 14.2104\n",
            "\n",
            "Epoch 00055: loss did not improve from 40.95813\n",
            "Epoch 56/100\n",
            "500/500 [==============================] - 3s 5ms/step - loss: 42.0145 - val_loss: 14.0967\n",
            "\n",
            "Epoch 00056: loss did not improve from 40.95813\n",
            "Epoch 57/100\n",
            "500/500 [==============================] - 2s 5ms/step - loss: 42.2162 - val_loss: 14.2036\n",
            "\n",
            "Epoch 00057: loss did not improve from 40.95813\n",
            "Epoch 58/100\n",
            "500/500 [==============================] - 2s 5ms/step - loss: 40.9719 - val_loss: 14.2116\n",
            "\n",
            "Epoch 00058: loss did not improve from 40.95813\n",
            "Epoch 59/100\n",
            "500/500 [==============================] - 2s 5ms/step - loss: 41.3929 - val_loss: 14.3944\n",
            "\n",
            "Epoch 00059: loss did not improve from 40.95813\n",
            "Epoch 60/100\n",
            "500/500 [==============================] - 2s 5ms/step - loss: 41.9307 - val_loss: 14.6566\n",
            "\n",
            "Epoch 00060: loss did not improve from 40.95813\n",
            "Epoch 61/100\n",
            "500/500 [==============================] - 3s 5ms/step - loss: 41.0785 - val_loss: 14.3525\n",
            "\n",
            "Epoch 00061: loss did not improve from 40.95813\n",
            "Epoch 62/100\n",
            "500/500 [==============================] - 2s 5ms/step - loss: 41.8180 - val_loss: 14.1772\n",
            "\n",
            "Epoch 00062: loss did not improve from 40.95813\n",
            "Epoch 63/100\n",
            "500/500 [==============================] - 2s 5ms/step - loss: 41.5341 - val_loss: 14.2180\n",
            "\n",
            "Epoch 00063: loss did not improve from 40.95813\n",
            "Epoch 64/100\n",
            "500/500 [==============================] - 3s 5ms/step - loss: 41.9928 - val_loss: 14.2978\n",
            "\n",
            "Epoch 00064: loss did not improve from 40.95813\n",
            "Epoch 65/100\n",
            "500/500 [==============================] - 3s 5ms/step - loss: 41.5987 - val_loss: 14.1608\n",
            "\n",
            "Epoch 00065: loss did not improve from 40.95813\n",
            "Epoch 66/100\n",
            "500/500 [==============================] - 3s 5ms/step - loss: 41.9987 - val_loss: 14.1811\n",
            "\n",
            "Epoch 00066: loss did not improve from 40.95813\n",
            "Epoch 67/100\n",
            "500/500 [==============================] - 3s 5ms/step - loss: 41.9128 - val_loss: 14.1991\n",
            "\n",
            "Epoch 00067: loss did not improve from 40.95813\n",
            "Epoch 68/100\n",
            "500/500 [==============================] - 3s 5ms/step - loss: 40.8103 - val_loss: 14.3606\n",
            "\n",
            "Epoch 00068: loss improved from 40.95813 to 40.81031, saving model to /content/drive/My Drive/Colab Notebooks/myweights_base.hdf5\n",
            "Epoch 69/100\n",
            "500/500 [==============================] - 3s 5ms/step - loss: 41.4631 - val_loss: 14.2843\n",
            "\n",
            "Epoch 00069: loss did not improve from 40.81031\n",
            "Epoch 70/100\n",
            "500/500 [==============================] - 3s 5ms/step - loss: 41.6306 - val_loss: 14.6677\n",
            "\n",
            "Epoch 00070: loss did not improve from 40.81031\n",
            "Epoch 71/100\n",
            "500/500 [==============================] - 3s 5ms/step - loss: 41.0348 - val_loss: 14.1722\n",
            "\n",
            "Epoch 00071: loss did not improve from 40.81031\n",
            "Epoch 72/100\n",
            "500/500 [==============================] - 2s 5ms/step - loss: 41.6959 - val_loss: 14.1440\n",
            "\n",
            "Epoch 00072: loss did not improve from 40.81031\n",
            "Epoch 73/100\n",
            "500/500 [==============================] - 3s 5ms/step - loss: 41.5172 - val_loss: 14.0974\n",
            "\n",
            "Epoch 00073: loss did not improve from 40.81031\n",
            "Epoch 74/100\n",
            "500/500 [==============================] - 3s 5ms/step - loss: 41.8996 - val_loss: 14.2883\n",
            "\n",
            "Epoch 00074: loss did not improve from 40.81031\n",
            "Epoch 75/100\n",
            "500/500 [==============================] - 2s 5ms/step - loss: 41.5271 - val_loss: 14.1673\n",
            "\n",
            "Epoch 00075: loss did not improve from 40.81031\n",
            "Epoch 76/100\n",
            "500/500 [==============================] - 3s 5ms/step - loss: 42.1235 - val_loss: 14.3592\n",
            "\n",
            "Epoch 00076: loss did not improve from 40.81031\n",
            "Epoch 77/100\n",
            "500/500 [==============================] - 3s 5ms/step - loss: 41.5886 - val_loss: 14.0873\n",
            "\n",
            "Epoch 00077: loss did not improve from 40.81031\n",
            "Epoch 78/100\n",
            "500/500 [==============================] - 3s 5ms/step - loss: 41.8728 - val_loss: 14.3457\n",
            "\n",
            "Epoch 00078: loss did not improve from 40.81031\n",
            "Epoch 79/100\n",
            "500/500 [==============================] - 3s 5ms/step - loss: 40.4528 - val_loss: 14.3213\n",
            "\n",
            "Epoch 00079: loss improved from 40.81031 to 40.45284, saving model to /content/drive/My Drive/Colab Notebooks/myweights_base.hdf5\n",
            "Epoch 80/100\n",
            "500/500 [==============================] - 2s 5ms/step - loss: 41.3765 - val_loss: 14.5787\n",
            "\n",
            "Epoch 00080: loss did not improve from 40.45284\n",
            "Epoch 81/100\n",
            "500/500 [==============================] - 3s 5ms/step - loss: 40.9087 - val_loss: 14.1640\n",
            "\n",
            "Epoch 00081: loss did not improve from 40.45284\n",
            "Epoch 82/100\n",
            "500/500 [==============================] - 3s 5ms/step - loss: 41.7524 - val_loss: 14.1480\n",
            "\n",
            "Epoch 00082: loss did not improve from 40.45284\n",
            "Epoch 83/100\n",
            "500/500 [==============================] - 3s 5ms/step - loss: 41.5785 - val_loss: 14.2087\n",
            "\n",
            "Epoch 00083: loss did not improve from 40.45284\n",
            "Epoch 84/100\n",
            "500/500 [==============================] - 2s 5ms/step - loss: 41.7601 - val_loss: 14.3552\n",
            "\n",
            "Epoch 00084: loss did not improve from 40.45284\n",
            "Epoch 85/100\n",
            "500/500 [==============================] - 3s 5ms/step - loss: 41.3330 - val_loss: 14.3246\n",
            "\n",
            "Epoch 00085: loss did not improve from 40.45284\n",
            "Epoch 86/100\n",
            "500/500 [==============================] - 2s 5ms/step - loss: 41.9362 - val_loss: 14.3857\n",
            "\n",
            "Epoch 00086: loss did not improve from 40.45284\n",
            "Epoch 87/100\n",
            "500/500 [==============================] - 3s 5ms/step - loss: 41.5167 - val_loss: 14.0888\n",
            "\n",
            "Epoch 00087: loss did not improve from 40.45284\n",
            "Epoch 88/100\n",
            "500/500 [==============================] - 2s 5ms/step - loss: 41.8712 - val_loss: 14.3074\n",
            "\n",
            "Epoch 00088: loss did not improve from 40.45284\n",
            "Epoch 89/100\n",
            "500/500 [==============================] - 2s 5ms/step - loss: 40.3450 - val_loss: 14.0923\n",
            "\n",
            "Epoch 00089: loss improved from 40.45284 to 40.34496, saving model to /content/drive/My Drive/Colab Notebooks/myweights_base.hdf5\n",
            "Epoch 90/100\n",
            "500/500 [==============================] - 3s 5ms/step - loss: 41.2277 - val_loss: 14.5426\n",
            "\n",
            "Epoch 00090: loss did not improve from 40.34496\n",
            "Epoch 91/100\n",
            "500/500 [==============================] - 3s 5ms/step - loss: 41.0517 - val_loss: 14.2964\n",
            "\n",
            "Epoch 00091: loss did not improve from 40.34496\n",
            "Epoch 92/100\n",
            "500/500 [==============================] - 3s 5ms/step - loss: 41.6121 - val_loss: 14.0402\n",
            "\n",
            "Epoch 00092: loss did not improve from 40.34496\n",
            "Epoch 93/100\n",
            "500/500 [==============================] - 3s 5ms/step - loss: 41.7239 - val_loss: 14.0393\n",
            "\n",
            "Epoch 00093: loss did not improve from 40.34496\n",
            "Epoch 94/100\n",
            "500/500 [==============================] - 3s 5ms/step - loss: 41.5947 - val_loss: 14.6005\n",
            "\n",
            "Epoch 00094: loss did not improve from 40.34496\n",
            "Epoch 95/100\n",
            "500/500 [==============================] - 3s 5ms/step - loss: 41.8128 - val_loss: 15.5666\n",
            "\n",
            "Epoch 00095: loss did not improve from 40.34496\n",
            "Epoch 96/100\n",
            "500/500 [==============================] - 2s 5ms/step - loss: 41.4789 - val_loss: 14.1188\n",
            "\n",
            "Epoch 00096: loss did not improve from 40.34496\n",
            "Epoch 97/100\n",
            "500/500 [==============================] - 3s 5ms/step - loss: 41.4940 - val_loss: 14.0742\n",
            "\n",
            "Epoch 00097: loss did not improve from 40.34496\n",
            "Epoch 98/100\n",
            "500/500 [==============================] - 4s 8ms/step - loss: 41.8400 - val_loss: 14.2592\n",
            "\n",
            "Epoch 00098: loss did not improve from 40.34496\n",
            "Epoch 99/100\n",
            "500/500 [==============================] - 3s 5ms/step - loss: 40.5664 - val_loss: 14.1485\n",
            "\n",
            "Epoch 00099: loss did not improve from 40.34496\n",
            "Epoch 100/100\n",
            "500/500 [==============================] - 4s 8ms/step - loss: 41.0043 - val_loss: 14.1939\n",
            "\n",
            "Epoch 00100: loss did not improve from 40.34496\n"
          ],
          "name": "stdout"
        }
      ]
    },
    {
      "metadata": {
        "id": "pSZfcnDcPDn0",
        "colab_type": "code",
        "colab": {
          "base_uri": "https://localhost:8080/",
          "height": 79
        },
        "outputId": "02aabb6c-ac77-404c-b9eb-e039e045a911"
      },
      "cell_type": "code",
      "source": [
        "base_train = np.mean(history_base.history['loss'])\n",
        "base_test = model.evaluate_generator(test_gen,test_steps) \n",
        "base_val = np.mean(history_base.history['val_loss'])\n",
        "\n",
        "error_metrics = pd.DataFrame([[base_train,base_test,base_val]],columns = [\"Train\" ,\"Test\",\"Validation\"] )\n",
        "error_metrics.rename(index={0:'base'}, inplace=True)\n",
        "error_metrics"
      ],
      "execution_count": 72,
      "outputs": [
        {
          "output_type": "execute_result",
          "data": {
            "text/html": [
              "<div>\n",
              "<style scoped>\n",
              "    .dataframe tbody tr th:only-of-type {\n",
              "        vertical-align: middle;\n",
              "    }\n",
              "\n",
              "    .dataframe tbody tr th {\n",
              "        vertical-align: top;\n",
              "    }\n",
              "\n",
              "    .dataframe thead th {\n",
              "        text-align: right;\n",
              "    }\n",
              "</style>\n",
              "<table border=\"1\" class=\"dataframe\">\n",
              "  <thead>\n",
              "    <tr style=\"text-align: right;\">\n",
              "      <th></th>\n",
              "      <th>Train</th>\n",
              "      <th>Test</th>\n",
              "      <th>Validation</th>\n",
              "    </tr>\n",
              "  </thead>\n",
              "  <tbody>\n",
              "    <tr>\n",
              "      <th>base</th>\n",
              "      <td>42.240589</td>\n",
              "      <td>39.651912</td>\n",
              "      <td>14.291612</td>\n",
              "    </tr>\n",
              "  </tbody>\n",
              "</table>\n",
              "</div>"
            ],
            "text/plain": [
              "          Train       Test  Validation\n",
              "base  42.240589  39.651912   14.291612"
            ]
          },
          "metadata": {
            "tags": []
          },
          "execution_count": 72
        }
      ]
    },
    {
      "metadata": {
        "id": "9vFhNT0fQN4h",
        "colab_type": "code",
        "colab": {
          "base_uri": "https://localhost:8080/",
          "height": 367
        },
        "outputId": "cec5fe9d-1a38-4cc0-9a02-2273b0db76e3"
      },
      "cell_type": "code",
      "source": [
        "import matplotlib.pyplot as plt\n",
        "\n",
        "loss = history_base.history['loss']\n",
        "val_loss = history_base.history['val_loss']\n",
        "\n",
        "epochs = range(len(loss))\n",
        "\n",
        "plt.figure()\n",
        "\n",
        "plt.plot(epochs, loss, 'bo', label='Training loss')\n",
        "plt.plot(epochs, val_loss, 'b', label='Validation loss')\n",
        "plt.title('Training and validation loss')\n",
        "plt.legend()\n",
        "\n",
        "plt.show()"
      ],
      "execution_count": 73,
      "outputs": [
        {
          "output_type": "display_data",
          "data": {
            "image/png": "[encoded data removed]",
            "text/plain": [
              "<Figure size 576x396 with 1 Axes>"
            ]
          },
          "metadata": {
            "tags": []
          }
        }
      ]
    },
    {
      "metadata": {
        "id": "BoecEctTYxfm",
        "colab_type": "text"
      },
      "cell_type": "markdown",
      "source": [
        "#GRU"
      ]
    },
    {
      "metadata": {
        "id": "12k04sIKYxHE",
        "colab_type": "code",
        "colab": {
          "base_uri": "https://localhost:8080/",
          "height": 6951
        },
        "outputId": "de29b7ac-20bf-40ef-8a0e-eca646678ae9"
      },
      "cell_type": "code",
      "source": [
        "from keras.models import Sequential\n",
        "from keras import layers\n",
        "from keras.optimizers import RMSprop\n",
        "\n",
        "model = Sequential()\n",
        "model.add(layers.GRU(32,dropout=0.2,recurrent_dropout=0.2,input_shape=(None, float_data.shape[-1])))\n",
        "model.add(layers.Dense(1))\n",
        "\n",
        "model.compile(optimizer=RMSprop(), loss='mae')\n",
        "\n",
        "filepath=\"/content/drive/My Drive/Colab Notebooks/myweights_gru.hdf5\"\n",
        "\n",
        "checkpointer = ModelCheckpoint(filepath, monitor='loss', verbose=1, save_best_only=True,mode='min')\n",
        "\n",
        "history_gru = model.fit_generator(train_gen,\n",
        "                              steps_per_epoch=500,\n",
        "                              epochs=100,\n",
        "                              validation_data=val_gen,\n",
        "                              validation_steps=val_steps,\n",
        "                              callbacks = [checkpointer])\n",
        "\n",
        "model.load_weights(\"/content/drive/My Drive/Colab Notebooks/myweights_gru.hdf5\")"
      ],
      "execution_count": 74,
      "outputs": [
        {
          "output_type": "stream",
          "text": [
            "Epoch 1/100\n",
            "500/500 [==============================] - 10s 20ms/step - loss: 49.8391 - val_loss: 13.4052\n",
            "\n",
            "Epoch 00001: loss improved from inf to 49.83911, saving model to /content/drive/My Drive/Colab Notebooks/myweights_gru.hdf5\n",
            "Epoch 2/100\n",
            "500/500 [==============================] - 7s 14ms/step - loss: 50.3913 - val_loss: 13.3914\n",
            "\n",
            "Epoch 00002: loss did not improve from 49.83911\n",
            "Epoch 3/100\n",
            "500/500 [==============================] - 7s 14ms/step - loss: 48.2696 - val_loss: 13.3953\n",
            "\n",
            "Epoch 00003: loss improved from 49.83911 to 48.26959, saving model to /content/drive/My Drive/Colab Notebooks/myweights_gru.hdf5\n",
            "Epoch 4/100\n",
            "500/500 [==============================] - 7s 14ms/step - loss: 50.2353 - val_loss: 13.3992\n",
            "\n",
            "Epoch 00004: loss did not improve from 48.26959\n",
            "Epoch 5/100\n",
            "500/500 [==============================] - 7s 14ms/step - loss: 49.8874 - val_loss: 13.3974\n",
            "\n",
            "Epoch 00005: loss did not improve from 48.26959\n",
            "Epoch 6/100\n",
            "500/500 [==============================] - 7s 14ms/step - loss: 50.3114 - val_loss: 13.3969\n",
            "\n",
            "Epoch 00006: loss did not improve from 48.26959\n",
            "Epoch 7/100\n",
            "500/500 [==============================] - 7s 14ms/step - loss: 49.3767 - val_loss: 13.3920\n",
            "\n",
            "Epoch 00007: loss did not improve from 48.26959\n",
            "Epoch 8/100\n",
            "500/500 [==============================] - 7s 14ms/step - loss: 50.2506 - val_loss: 13.3946\n",
            "\n",
            "Epoch 00008: loss did not improve from 48.26959\n",
            "Epoch 9/100\n",
            "500/500 [==============================] - 7s 14ms/step - loss: 50.3340 - val_loss: 13.3904\n",
            "\n",
            "Epoch 00009: loss did not improve from 48.26959\n",
            "Epoch 10/100\n",
            "500/500 [==============================] - 7s 14ms/step - loss: 48.8463 - val_loss: 13.3914\n",
            "\n",
            "Epoch 00010: loss did not improve from 48.26959\n",
            "Epoch 11/100\n",
            "500/500 [==============================] - 7s 14ms/step - loss: 49.8699 - val_loss: 13.3923\n",
            "\n",
            "Epoch 00011: loss did not improve from 48.26959\n",
            "Epoch 12/100\n",
            "500/500 [==============================] - 7s 14ms/step - loss: 50.0712 - val_loss: 13.3937\n",
            "\n",
            "Epoch 00012: loss did not improve from 48.26959\n",
            "Epoch 13/100\n",
            "500/500 [==============================] - 7s 14ms/step - loss: 48.4777 - val_loss: 13.3911\n",
            "\n",
            "Epoch 00013: loss did not improve from 48.26959\n",
            "Epoch 14/100\n",
            "500/500 [==============================] - 7s 14ms/step - loss: 50.1403 - val_loss: 13.3930\n",
            "\n",
            "Epoch 00014: loss did not improve from 48.26959\n",
            "Epoch 15/100\n",
            "500/500 [==============================] - 7s 13ms/step - loss: 49.8577 - val_loss: 13.3915\n",
            "\n",
            "Epoch 00015: loss did not improve from 48.26959\n",
            "Epoch 16/100\n",
            "500/500 [==============================] - 7s 13ms/step - loss: 50.1893 - val_loss: 13.3913\n",
            "\n",
            "Epoch 00016: loss did not improve from 48.26959\n",
            "Epoch 17/100\n",
            "500/500 [==============================] - 7s 14ms/step - loss: 49.3737 - val_loss: 13.3899\n",
            "\n",
            "Epoch 00017: loss did not improve from 48.26959\n",
            "Epoch 18/100\n",
            "500/500 [==============================] - 7s 14ms/step - loss: 50.4834 - val_loss: 13.3905\n",
            "\n",
            "Epoch 00018: loss did not improve from 48.26959\n",
            "Epoch 19/100\n",
            "500/500 [==============================] - 7s 13ms/step - loss: 50.1325 - val_loss: 13.3912\n",
            "\n",
            "Epoch 00019: loss did not improve from 48.26959\n",
            "Epoch 20/100\n",
            "500/500 [==============================] - 7s 14ms/step - loss: 50.0237 - val_loss: 13.3885\n",
            "\n",
            "Epoch 00020: loss did not improve from 48.26959\n",
            "Epoch 21/100\n",
            "500/500 [==============================] - 7s 14ms/step - loss: 48.8114 - val_loss: 13.3896\n",
            "\n",
            "Epoch 00021: loss did not improve from 48.26959\n",
            "Epoch 22/100\n",
            "500/500 [==============================] - 7s 14ms/step - loss: 49.9533 - val_loss: 13.3909\n",
            "\n",
            "Epoch 00022: loss did not improve from 48.26959\n",
            "Epoch 23/100\n",
            "500/500 [==============================] - 7s 14ms/step - loss: 48.4823 - val_loss: 13.3920\n",
            "\n",
            "Epoch 00023: loss did not improve from 48.26959\n",
            "Epoch 24/100\n",
            "500/500 [==============================] - 7s 14ms/step - loss: 50.2184 - val_loss: 13.3898\n",
            "\n",
            "Epoch 00024: loss did not improve from 48.26959\n",
            "Epoch 25/100\n",
            "500/500 [==============================] - 7s 14ms/step - loss: 49.9881 - val_loss: 13.3908\n",
            "\n",
            "Epoch 00025: loss did not improve from 48.26959\n",
            "Epoch 26/100\n",
            "500/500 [==============================] - 7s 14ms/step - loss: 50.0754 - val_loss: 13.3895\n",
            "\n",
            "Epoch 00026: loss did not improve from 48.26959\n",
            "Epoch 27/100\n",
            "500/500 [==============================] - 7s 14ms/step - loss: 49.2850 - val_loss: 13.3907\n",
            "\n",
            "Epoch 00027: loss did not improve from 48.26959\n",
            "Epoch 28/100\n",
            "500/500 [==============================] - 7s 14ms/step - loss: 50.5336 - val_loss: 13.3899\n",
            "\n",
            "Epoch 00028: loss did not improve from 48.26959\n",
            "Epoch 29/100\n",
            "500/500 [==============================] - 7s 14ms/step - loss: 50.0196 - val_loss: 13.3907\n",
            "\n",
            "Epoch 00029: loss did not improve from 48.26959\n",
            "Epoch 30/100\n",
            "500/500 [==============================] - 7s 14ms/step - loss: 50.4416 - val_loss: 13.3904\n",
            "\n",
            "Epoch 00030: loss did not improve from 48.26959\n",
            "Epoch 31/100\n",
            "500/500 [==============================] - 7s 14ms/step - loss: 48.4745 - val_loss: 13.3895\n",
            "\n",
            "Epoch 00031: loss did not improve from 48.26959\n",
            "Epoch 32/100\n",
            "500/500 [==============================] - 7s 14ms/step - loss: 49.8695 - val_loss: 13.3899\n",
            "\n",
            "Epoch 00032: loss did not improve from 48.26959\n",
            "Epoch 33/100\n",
            "500/500 [==============================] - 7s 13ms/step - loss: 48.6510 - val_loss: 13.3891\n",
            "\n",
            "Epoch 00033: loss did not improve from 48.26959\n",
            "Epoch 34/100\n",
            "500/500 [==============================] - 7s 14ms/step - loss: 50.0805 - val_loss: 13.3890\n",
            "\n",
            "Epoch 00034: loss did not improve from 48.26959\n",
            "Epoch 35/100\n",
            "500/500 [==============================] - 7s 14ms/step - loss: 50.1011 - val_loss: 13.3892\n",
            "\n",
            "Epoch 00035: loss did not improve from 48.26959\n",
            "Epoch 36/100\n",
            "500/500 [==============================] - 7s 14ms/step - loss: 50.1357 - val_loss: 13.3907\n",
            "\n",
            "Epoch 00036: loss did not improve from 48.26959\n",
            "Epoch 37/100\n",
            "500/500 [==============================] - 7s 14ms/step - loss: 49.7696 - val_loss: 13.3885\n",
            "\n",
            "Epoch 00037: loss did not improve from 48.26959\n",
            "Epoch 38/100\n",
            "500/500 [==============================] - 7s 13ms/step - loss: 49.9027 - val_loss: 13.3892\n",
            "\n",
            "Epoch 00038: loss did not improve from 48.26959\n",
            "Epoch 39/100\n",
            "500/500 [==============================] - 7s 14ms/step - loss: 50.0215 - val_loss: 13.3897\n",
            "\n",
            "Epoch 00039: loss did not improve from 48.26959\n",
            "Epoch 40/100\n",
            "500/500 [==============================] - 7s 14ms/step - loss: 50.3873 - val_loss: 13.3895\n",
            "\n",
            "Epoch 00040: loss did not improve from 48.26959\n",
            "Epoch 41/100\n",
            "500/500 [==============================] - 7s 14ms/step - loss: 48.7051 - val_loss: 13.3892\n",
            "\n",
            "Epoch 00041: loss did not improve from 48.26959\n",
            "Epoch 42/100\n",
            "500/500 [==============================] - 7s 14ms/step - loss: 49.7097 - val_loss: 13.3894\n",
            "\n",
            "Epoch 00042: loss did not improve from 48.26959\n",
            "Epoch 43/100\n",
            "500/500 [==============================] - 7s 14ms/step - loss: 48.7508 - val_loss: 13.3891\n",
            "\n",
            "Epoch 00043: loss did not improve from 48.26959\n",
            "Epoch 44/100\n",
            "500/500 [==============================] - 7s 14ms/step - loss: 50.0577 - val_loss: 13.3883\n",
            "\n",
            "Epoch 00044: loss did not improve from 48.26959\n",
            "Epoch 45/100\n",
            "500/500 [==============================] - 7s 14ms/step - loss: 49.9704 - val_loss: 13.3890\n",
            "\n",
            "Epoch 00045: loss did not improve from 48.26959\n",
            "Epoch 46/100\n",
            "500/500 [==============================] - 7s 14ms/step - loss: 50.1595 - val_loss: 13.3890\n",
            "\n",
            "Epoch 00046: loss did not improve from 48.26959\n",
            "Epoch 47/100\n",
            "500/500 [==============================] - 7s 14ms/step - loss: 50.1927 - val_loss: 13.3894\n",
            "\n",
            "Epoch 00047: loss did not improve from 48.26959\n",
            "Epoch 48/100\n",
            "500/500 [==============================] - 7s 14ms/step - loss: 49.4907 - val_loss: 13.3886\n",
            "\n",
            "Epoch 00048: loss did not improve from 48.26959\n",
            "Epoch 49/100\n",
            "500/500 [==============================] - 7s 14ms/step - loss: 50.1338 - val_loss: 13.3887\n",
            "\n",
            "Epoch 00049: loss did not improve from 48.26959\n",
            "Epoch 50/100\n",
            "500/500 [==============================] - 7s 14ms/step - loss: 50.2834 - val_loss: 13.3894\n",
            "\n",
            "Epoch 00050: loss did not improve from 48.26959\n",
            "Epoch 51/100\n",
            "500/500 [==============================] - 7s 14ms/step - loss: 48.7449 - val_loss: 13.3889\n",
            "\n",
            "Epoch 00051: loss did not improve from 48.26959\n",
            "Epoch 52/100\n",
            "500/500 [==============================] - 7s 14ms/step - loss: 49.8205 - val_loss: 13.3882\n",
            "\n",
            "Epoch 00052: loss did not improve from 48.26959\n",
            "Epoch 53/100\n",
            "500/500 [==============================] - 7s 14ms/step - loss: 50.3795 - val_loss: 13.3879\n",
            "\n",
            "Epoch 00053: loss did not improve from 48.26959\n",
            "Epoch 54/100\n",
            "500/500 [==============================] - 7s 14ms/step - loss: 48.2609 - val_loss: 13.3884\n",
            "\n",
            "Epoch 00054: loss improved from 48.26959 to 48.26090, saving model to /content/drive/My Drive/Colab Notebooks/myweights_gru.hdf5\n",
            "Epoch 55/100\n",
            "500/500 [==============================] - 7s 14ms/step - loss: 50.2282 - val_loss: 13.3886\n",
            "\n",
            "Epoch 00055: loss did not improve from 48.26090\n",
            "Epoch 56/100\n",
            "500/500 [==============================] - 7s 14ms/step - loss: 49.8808 - val_loss: 13.3894\n",
            "\n",
            "Epoch 00056: loss did not improve from 48.26090\n",
            "Epoch 57/100\n",
            "500/500 [==============================] - 7s 14ms/step - loss: 50.3054 - val_loss: 13.3890\n",
            "\n",
            "Epoch 00057: loss did not improve from 48.26090\n",
            "Epoch 58/100\n",
            "500/500 [==============================] - 7s 14ms/step - loss: 49.3714 - val_loss: 13.3886\n",
            "\n",
            "Epoch 00058: loss did not improve from 48.26090\n",
            "Epoch 59/100\n",
            "500/500 [==============================] - 7s 14ms/step - loss: 50.2458 - val_loss: 13.3886\n",
            "\n",
            "Epoch 00059: loss did not improve from 48.26090\n",
            "Epoch 60/100\n",
            "500/500 [==============================] - 7s 14ms/step - loss: 50.3295 - val_loss: 13.3878\n",
            "\n",
            "Epoch 00060: loss did not improve from 48.26090\n",
            "Epoch 61/100\n",
            "500/500 [==============================] - 7s 14ms/step - loss: 48.8422 - val_loss: 13.3877\n",
            "\n",
            "Epoch 00061: loss did not improve from 48.26090\n",
            "Epoch 62/100\n",
            "500/500 [==============================] - 7s 14ms/step - loss: 49.8660 - val_loss: 13.3890\n",
            "\n",
            "Epoch 00062: loss did not improve from 48.26090\n",
            "Epoch 63/100\n",
            "500/500 [==============================] - 7s 14ms/step - loss: 50.0677 - val_loss: 13.3894\n",
            "\n",
            "Epoch 00063: loss did not improve from 48.26090\n",
            "Epoch 64/100\n",
            "500/500 [==============================] - 7s 14ms/step - loss: 48.4741 - val_loss: 13.3885\n",
            "\n",
            "Epoch 00064: loss did not improve from 48.26090\n",
            "Epoch 65/100\n",
            "500/500 [==============================] - 7s 14ms/step - loss: 50.1369 - val_loss: 13.3885\n",
            "\n",
            "Epoch 00065: loss did not improve from 48.26090\n",
            "Epoch 66/100\n",
            "500/500 [==============================] - 7s 14ms/step - loss: 49.8545 - val_loss: 13.3896\n",
            "\n",
            "Epoch 00066: loss did not improve from 48.26090\n",
            "Epoch 67/100\n",
            "500/500 [==============================] - 7s 14ms/step - loss: 50.1866 - val_loss: 13.3892\n",
            "\n",
            "Epoch 00067: loss did not improve from 48.26090\n",
            "Epoch 68/100\n",
            "500/500 [==============================] - 7s 14ms/step - loss: 49.3711 - val_loss: 13.3888\n",
            "\n",
            "Epoch 00068: loss did not improve from 48.26090\n",
            "Epoch 69/100\n",
            "500/500 [==============================] - 7s 14ms/step - loss: 50.4808 - val_loss: 13.3891\n",
            "\n",
            "Epoch 00069: loss did not improve from 48.26090\n",
            "Epoch 70/100\n",
            "500/500 [==============================] - 7s 14ms/step - loss: 50.1300 - val_loss: 13.3889\n",
            "\n",
            "Epoch 00070: loss did not improve from 48.26090\n",
            "Epoch 71/100\n",
            "500/500 [==============================] - 7s 14ms/step - loss: 50.0208 - val_loss: 13.3889\n",
            "\n",
            "Epoch 00071: loss did not improve from 48.26090\n",
            "Epoch 72/100\n",
            "500/500 [==============================] - 7s 14ms/step - loss: 48.8092 - val_loss: 13.3889\n",
            "\n",
            "Epoch 00072: loss did not improve from 48.26090\n",
            "Epoch 73/100\n",
            "500/500 [==============================] - 7s 14ms/step - loss: 49.9511 - val_loss: 13.3895\n",
            "\n",
            "Epoch 00073: loss did not improve from 48.26090\n",
            "Epoch 74/100\n",
            "500/500 [==============================] - 7s 14ms/step - loss: 48.4802 - val_loss: 13.3886\n",
            "\n",
            "Epoch 00074: loss did not improve from 48.26090\n",
            "Epoch 75/100\n",
            "500/500 [==============================] - 7s 14ms/step - loss: 50.2163 - val_loss: 13.3887\n",
            "\n",
            "Epoch 00075: loss did not improve from 48.26090\n",
            "Epoch 76/100\n",
            "500/500 [==============================] - 7s 14ms/step - loss: 49.9862 - val_loss: 13.3889\n",
            "\n",
            "Epoch 00076: loss did not improve from 48.26090\n",
            "Epoch 77/100\n",
            "500/500 [==============================] - 7s 14ms/step - loss: 50.0730 - val_loss: 13.3888\n",
            "\n",
            "Epoch 00077: loss did not improve from 48.26090\n",
            "Epoch 78/100\n",
            "500/500 [==============================] - 7s 14ms/step - loss: 49.2828 - val_loss: 13.3888\n",
            "\n",
            "Epoch 00078: loss did not improve from 48.26090\n",
            "Epoch 79/100\n",
            "500/500 [==============================] - 7s 14ms/step - loss: 50.5316 - val_loss: 13.3886\n",
            "\n",
            "Epoch 00079: loss did not improve from 48.26090\n",
            "Epoch 80/100\n",
            "500/500 [==============================] - 7s 14ms/step - loss: 50.0174 - val_loss: 13.3892\n",
            "\n",
            "Epoch 00080: loss did not improve from 48.26090\n",
            "Epoch 81/100\n",
            "500/500 [==============================] - 7s 14ms/step - loss: 50.4392 - val_loss: 13.3885\n",
            "\n",
            "Epoch 00081: loss did not improve from 48.26090\n",
            "Epoch 82/100\n",
            "500/500 [==============================] - 7s 14ms/step - loss: 48.4721 - val_loss: 13.3886\n",
            "\n",
            "Epoch 00082: loss did not improve from 48.26090\n",
            "Epoch 83/100\n",
            "500/500 [==============================] - 7s 14ms/step - loss: 49.8671 - val_loss: 13.3893\n",
            "\n",
            "Epoch 00083: loss did not improve from 48.26090\n",
            "Epoch 84/100\n",
            "500/500 [==============================] - 7s 14ms/step - loss: 48.6484 - val_loss: 13.3884\n",
            "\n",
            "Epoch 00084: loss did not improve from 48.26090\n",
            "Epoch 85/100\n",
            "500/500 [==============================] - 7s 14ms/step - loss: 50.0778 - val_loss: 13.3891\n",
            "\n",
            "Epoch 00085: loss did not improve from 48.26090\n",
            "Epoch 86/100\n",
            "500/500 [==============================] - 7s 14ms/step - loss: 50.0981 - val_loss: 13.3892\n",
            "\n",
            "Epoch 00086: loss did not improve from 48.26090\n",
            "Epoch 87/100\n",
            "500/500 [==============================] - 7s 14ms/step - loss: 50.1330 - val_loss: 13.3897\n",
            "\n",
            "Epoch 00087: loss did not improve from 48.26090\n",
            "Epoch 88/100\n",
            "500/500 [==============================] - 7s 13ms/step - loss: 49.7669 - val_loss: 13.3879\n",
            "\n",
            "Epoch 00088: loss did not improve from 48.26090\n",
            "Epoch 89/100\n",
            "500/500 [==============================] - 7s 14ms/step - loss: 49.8989 - val_loss: 13.3893\n",
            "\n",
            "Epoch 00089: loss did not improve from 48.26090\n",
            "Epoch 90/100\n",
            "500/500 [==============================] - 7s 14ms/step - loss: 50.0179 - val_loss: 13.3893\n",
            "\n",
            "Epoch 00090: loss did not improve from 48.26090\n",
            "Epoch 91/100\n",
            "500/500 [==============================] - 7s 14ms/step - loss: 50.3846 - val_loss: 13.3891\n",
            "\n",
            "Epoch 00091: loss did not improve from 48.26090\n",
            "Epoch 92/100\n",
            "500/500 [==============================] - 7s 14ms/step - loss: 48.7014 - val_loss: 13.3902\n",
            "\n",
            "Epoch 00092: loss did not improve from 48.26090\n",
            "Epoch 93/100\n",
            "500/500 [==============================] - 7s 14ms/step - loss: 49.7060 - val_loss: 13.3894\n",
            "\n",
            "Epoch 00093: loss did not improve from 48.26090\n",
            "Epoch 94/100\n",
            "500/500 [==============================] - 7s 14ms/step - loss: 48.7465 - val_loss: 13.3888\n",
            "\n",
            "Epoch 00094: loss did not improve from 48.26090\n",
            "Epoch 95/100\n",
            "500/500 [==============================] - 7s 13ms/step - loss: 50.0551 - val_loss: 13.3881\n",
            "\n",
            "Epoch 00095: loss did not improve from 48.26090\n",
            "Epoch 96/100\n",
            "500/500 [==============================] - 7s 13ms/step - loss: 49.9677 - val_loss: 13.3896\n",
            "\n",
            "Epoch 00096: loss did not improve from 48.26090\n",
            "Epoch 97/100\n",
            "500/500 [==============================] - 7s 13ms/step - loss: 50.1557 - val_loss: 13.3896\n",
            "\n",
            "Epoch 00097: loss did not improve from 48.26090\n",
            "Epoch 98/100\n",
            "500/500 [==============================] - 7s 14ms/step - loss: 50.1877 - val_loss: 13.3894\n",
            "\n",
            "Epoch 00098: loss did not improve from 48.26090\n",
            "Epoch 99/100\n",
            "500/500 [==============================] - 7s 14ms/step - loss: 49.4874 - val_loss: 13.3894\n",
            "\n",
            "Epoch 00099: loss did not improve from 48.26090\n",
            "Epoch 100/100\n",
            "500/500 [==============================] - 7s 14ms/step - loss: 50.1283 - val_loss: 13.3892\n",
            "\n",
            "Epoch 00100: loss did not improve from 48.26090\n"
          ],
          "name": "stdout"
        }
      ]
    },
    {
      "metadata": {
        "id": "GemvrKQUZOXw",
        "colab_type": "code",
        "colab": {
          "base_uri": "https://localhost:8080/",
          "height": 110
        },
        "outputId": "1af39a63-9d9b-44e8-c596-7489d4004597"
      },
      "cell_type": "code",
      "source": [
        "gru_train = np.mean(history_gru.history['loss'])\n",
        "gru_test =  model.evaluate_generator(test_gen,test_steps) \n",
        "gru_val = np.mean(history_gru.history['val_loss'])\n",
        "\n",
        "error_metrics1 = pd.DataFrame([[gru_train,gru_test,gru_val]],columns = [\"Train\" ,\"Test\",\"Validation\"] )\n",
        "error_metrics1.rename(index={0:'GRU'}, inplace=True)\n",
        "error_metrics = error_metrics.append(error_metrics1)\n",
        "error_metrics"
      ],
      "execution_count": 75,
      "outputs": [
        {
          "output_type": "execute_result",
          "data": {
            "text/html": [
              "<div>\n",
              "<style scoped>\n",
              "    .dataframe tbody tr th:only-of-type {\n",
              "        vertical-align: middle;\n",
              "    }\n",
              "\n",
              "    .dataframe tbody tr th {\n",
              "        vertical-align: top;\n",
              "    }\n",
              "\n",
              "    .dataframe thead th {\n",
              "        text-align: right;\n",
              "    }\n",
              "</style>\n",
              "<table border=\"1\" class=\"dataframe\">\n",
              "  <thead>\n",
              "    <tr style=\"text-align: right;\">\n",
              "      <th></th>\n",
              "      <th>Train</th>\n",
              "      <th>Test</th>\n",
              "      <th>Validation</th>\n",
              "    </tr>\n",
              "  </thead>\n",
              "  <tbody>\n",
              "    <tr>\n",
              "      <th>base</th>\n",
              "      <td>42.240589</td>\n",
              "      <td>39.651912</td>\n",
              "      <td>14.291612</td>\n",
              "    </tr>\n",
              "    <tr>\n",
              "      <th>GRU</th>\n",
              "      <td>49.763021</td>\n",
              "      <td>50.932512</td>\n",
              "      <td>13.390008</td>\n",
              "    </tr>\n",
              "  </tbody>\n",
              "</table>\n",
              "</div>"
            ],
            "text/plain": [
              "          Train       Test  Validation\n",
              "base  42.240589  39.651912   14.291612\n",
              "GRU   49.763021  50.932512   13.390008"
            ]
          },
          "metadata": {
            "tags": []
          },
          "execution_count": 75
        }
      ]
    },
    {
      "metadata": {
        "id": "x0z9g77gZUDJ",
        "colab_type": "code",
        "colab": {
          "base_uri": "https://localhost:8080/",
          "height": 367
        },
        "outputId": "ab7c2d7e-51c3-4551-b434-2c296a7b88d2"
      },
      "cell_type": "code",
      "source": [
        "import matplotlib.pyplot as plt\n",
        "\n",
        "loss = history_gru.history['loss']\n",
        "val_loss = history_gru.history['val_loss']\n",
        "\n",
        "epochs = range(len(loss))\n",
        "\n",
        "plt.figure()\n",
        "\n",
        "plt.plot(epochs, loss, 'bo', label='Training loss')\n",
        "plt.plot(epochs, val_loss, 'b', label='Validation loss')\n",
        "plt.title('Training and validation loss')\n",
        "plt.legend()\n",
        "\n",
        "plt.show()"
      ],
      "execution_count": 76,
      "outputs": [
        {
          "output_type": "display_data",
          "data": {
            "image/png": "[encoded data removed]",
            "text/plain": [
              "<Figure size 576x396 with 1 Axes>"
            ]
          },
          "metadata": {
            "tags": []
          }
        }
      ]
    },
    {
      "metadata": {
        "id": "1vEqYyqutmUt",
        "colab_type": "text"
      },
      "cell_type": "markdown",
      "source": [
        "#Stacked RNN"
      ]
    },
    {
      "metadata": {
        "id": "83qDrFSPbBID",
        "colab_type": "code",
        "outputId": "1ed4b250-6a90-4a97-d7e5-a91323683718",
        "colab": {
          "base_uri": "https://localhost:8080/",
          "height": 2791
        }
      },
      "cell_type": "code",
      "source": [
        "from keras.models import Sequential\n",
        "from keras import layers\n",
        "from keras.optimizers import RMSprop\n",
        "\n",
        "model = Sequential()\n",
        "model.add(layers.GRU(32, dropout=0.2,\n",
        "                     recurrent_dropout=0.2,return_sequences=True, input_shape=(None, float_data.shape[-1])))\n",
        "model.add(layers.GRU(64, activation='relu',\n",
        "                     dropout=0.1, \n",
        "                     recurrent_dropout=0.5))\n",
        "model.add(layers.Dense(1))\n",
        "\n",
        "model.compile(optimizer=RMSprop(), loss='mae')\n",
        "\n",
        "filepath=\"/content/drive/My Drive/Colab Notebooks/myweights_srnn.hdf5\"\n",
        "\n",
        "checkpointer = ModelCheckpoint(filepath, monitor='loss', verbose=1, save_best_only=True,mode='min')\n",
        "\n",
        "history_srnn = model.fit_generator(train_gen,\n",
        "                              steps_per_epoch=500,\n",
        "                              epochs=40,\n",
        "                              validation_data=val_gen,\n",
        "                              validation_steps=val_steps,\n",
        "                              callbacks = [checkpointer])\n",
        "\n",
        "model.load_weights(\"/content/drive/My Drive/Colab Notebooks/myweights_srnn.hdf5\")"
      ],
      "execution_count": 86,
      "outputs": [
        {
          "output_type": "stream",
          "text": [
            "Epoch 1/40\n",
            "500/500 [==============================] - 22s 45ms/step - loss: 48.7548 - val_loss: 13.3889\n",
            "\n",
            "Epoch 00001: loss improved from inf to 48.75480, saving model to /content/drive/My Drive/Colab Notebooks/myweights_srnn.hdf5\n",
            "Epoch 2/40\n",
            "500/500 [==============================] - 18s 37ms/step - loss: 50.0476 - val_loss: 13.3923\n",
            "\n",
            "Epoch 00002: loss did not improve from 48.75480\n",
            "Epoch 3/40\n",
            "500/500 [==============================] - 19s 37ms/step - loss: 49.9193 - val_loss: 13.4037\n",
            "\n",
            "Epoch 00003: loss did not improve from 48.75480\n",
            "Epoch 4/40\n",
            "500/500 [==============================] - 18s 36ms/step - loss: 50.1010 - val_loss: 13.4157\n",
            "\n",
            "Epoch 00004: loss did not improve from 48.75480\n",
            "Epoch 5/40\n",
            "500/500 [==============================] - 18s 36ms/step - loss: 49.9738 - val_loss: 13.4380\n",
            "\n",
            "Epoch 00005: loss did not improve from 48.75480\n",
            "Epoch 6/40\n",
            "500/500 [==============================] - 18s 36ms/step - loss: 49.7703 - val_loss: 13.4153\n",
            "\n",
            "Epoch 00006: loss did not improve from 48.75480\n",
            "Epoch 7/40\n",
            "500/500 [==============================] - 18s 36ms/step - loss: 49.9000 - val_loss: 13.4254\n",
            "\n",
            "Epoch 00007: loss did not improve from 48.75480\n",
            "Epoch 8/40\n",
            "500/500 [==============================] - 18s 36ms/step - loss: 50.1569 - val_loss: 13.4201\n",
            "\n",
            "Epoch 00008: loss did not improve from 48.75480\n",
            "Epoch 9/40\n",
            "500/500 [==============================] - 18s 36ms/step - loss: 48.5446 - val_loss: 13.4428\n",
            "\n",
            "Epoch 00009: loss improved from 48.75480 to 48.54462, saving model to /content/drive/My Drive/Colab Notebooks/myweights_srnn.hdf5\n",
            "Epoch 10/40\n",
            "500/500 [==============================] - 18s 36ms/step - loss: 49.8269 - val_loss: 13.5845\n",
            "\n",
            "Epoch 00010: loss did not improve from 48.54462\n",
            "Epoch 11/40\n",
            "500/500 [==============================] - 18s 36ms/step - loss: 56.2149 - val_loss: 14.1578\n",
            "\n",
            "Epoch 00011: loss did not improve from 48.54462\n",
            "Epoch 12/40\n",
            "500/500 [==============================] - 18s 36ms/step - loss: 49.6100 - val_loss: 13.5781\n",
            "\n",
            "Epoch 00012: loss did not improve from 48.54462\n",
            "Epoch 13/40\n",
            "500/500 [==============================] - 18s 36ms/step - loss: 50.2799 - val_loss: 13.5375\n",
            "\n",
            "Epoch 00013: loss did not improve from 48.54462\n",
            "Epoch 14/40\n",
            "500/500 [==============================] - 18s 36ms/step - loss: 49.3619 - val_loss: 13.6137\n",
            "\n",
            "Epoch 00014: loss did not improve from 48.54462\n",
            "Epoch 15/40\n",
            "500/500 [==============================] - 18s 36ms/step - loss: 50.9309 - val_loss: 13.6413\n",
            "\n",
            "Epoch 00015: loss did not improve from 48.54462\n",
            "Epoch 16/40\n",
            "500/500 [==============================] - 18s 37ms/step - loss: 48.7192 - val_loss: 13.5809\n",
            "\n",
            "Epoch 00016: loss did not improve from 48.54462\n",
            "Epoch 17/40\n",
            "500/500 [==============================] - 18s 37ms/step - loss: 50.0063 - val_loss: 13.6164\n",
            "\n",
            "Epoch 00017: loss did not improve from 48.54462\n",
            "Epoch 18/40\n",
            "500/500 [==============================] - 18s 36ms/step - loss: 49.6591 - val_loss: 13.5928\n",
            "\n",
            "Epoch 00018: loss did not improve from 48.54462\n",
            "Epoch 19/40\n",
            "500/500 [==============================] - 18s 36ms/step - loss: 49.1600 - val_loss: 13.5759\n",
            "\n",
            "Epoch 00019: loss did not improve from 48.54462\n",
            "Epoch 20/40\n",
            "500/500 [==============================] - 18s 36ms/step - loss: 49.1343 - val_loss: 13.5930\n",
            "\n",
            "Epoch 00020: loss did not improve from 48.54462\n",
            "Epoch 21/40\n",
            "500/500 [==============================] - 18s 36ms/step - loss: 49.4172 - val_loss: 13.6783\n",
            "\n",
            "Epoch 00021: loss did not improve from 48.54462\n",
            "Epoch 22/40\n",
            "500/500 [==============================] - 18s 37ms/step - loss: 49.4537 - val_loss: 13.7061\n",
            "\n",
            "Epoch 00022: loss did not improve from 48.54462\n",
            "Epoch 23/40\n",
            "500/500 [==============================] - 18s 36ms/step - loss: 51.1210 - val_loss: 13.7543\n",
            "\n",
            "Epoch 00023: loss did not improve from 48.54462\n",
            "Epoch 24/40\n",
            "500/500 [==============================] - 18s 36ms/step - loss: 75.6573 - val_loss: 13.7525\n",
            "\n",
            "Epoch 00024: loss did not improve from 48.54462\n",
            "Epoch 25/40\n",
            "500/500 [==============================] - 18s 37ms/step - loss: 362.6297 - val_loss: 13.7925\n",
            "\n",
            "Epoch 00025: loss did not improve from 48.54462\n",
            "Epoch 26/40\n",
            "500/500 [==============================] - 18s 37ms/step - loss: 1430.7389 - val_loss: 13.8209\n",
            "\n",
            "Epoch 00026: loss did not improve from 48.54462\n",
            "Epoch 27/40\n",
            "500/500 [==============================] - 18s 37ms/step - loss: 21787.2183 - val_loss: 13.7824\n",
            "\n",
            "Epoch 00027: loss did not improve from 48.54462\n",
            "Epoch 28/40\n",
            "500/500 [==============================] - 18s 37ms/step - loss: 225350.3204 - val_loss: 13.7177\n",
            "\n",
            "Epoch 00028: loss did not improve from 48.54462\n",
            "Epoch 29/40\n",
            "500/500 [==============================] - 18s 36ms/step - loss: 997293.0334 - val_loss: 13.7473\n",
            "\n",
            "Epoch 00029: loss did not improve from 48.54462\n",
            "Epoch 30/40\n",
            "500/500 [==============================] - 18s 36ms/step - loss: 3643243.9551 - val_loss: 13.8145\n",
            "\n",
            "Epoch 00030: loss did not improve from 48.54462\n",
            "Epoch 31/40\n",
            "500/500 [==============================] - 18s 37ms/step - loss: 2798167.3467 - val_loss: 13.7310\n",
            "\n",
            "Epoch 00031: loss did not improve from 48.54462\n",
            "Epoch 32/40\n",
            "500/500 [==============================] - 18s 37ms/step - loss: 6086067.0441 - val_loss: 13.7265\n",
            "\n",
            "Epoch 00032: loss did not improve from 48.54462\n",
            "Epoch 33/40\n",
            "500/500 [==============================] - 18s 37ms/step - loss: 6497750.6174 - val_loss: 13.8452\n",
            "\n",
            "Epoch 00033: loss did not improve from 48.54462\n",
            "Epoch 34/40\n",
            "500/500 [==============================] - 19s 37ms/step - loss: 1964439.5042 - val_loss: 13.7778\n",
            "\n",
            "Epoch 00034: loss did not improve from 48.54462\n",
            "Epoch 35/40\n",
            "500/500 [==============================] - 18s 36ms/step - loss: 224561.5355 - val_loss: 13.7336\n",
            "\n",
            "Epoch 00035: loss did not improve from 48.54462\n",
            "Epoch 36/40\n",
            "500/500 [==============================] - 18s 37ms/step - loss: 831244.2084 - val_loss: 13.7341\n",
            "\n",
            "Epoch 00036: loss did not improve from 48.54462\n",
            "Epoch 37/40\n",
            "500/500 [==============================] - 18s 37ms/step - loss: 7330.0222 - val_loss: 13.6897\n",
            "\n",
            "Epoch 00037: loss did not improve from 48.54462\n",
            "Epoch 38/40\n",
            "500/500 [==============================] - 18s 37ms/step - loss: 61653.9813 - val_loss: 13.8724\n",
            "\n",
            "Epoch 00038: loss did not improve from 48.54462\n",
            "Epoch 39/40\n",
            "500/500 [==============================] - 18s 37ms/step - loss: 4393.0863 - val_loss: 13.8611\n",
            "\n",
            "Epoch 00039: loss did not improve from 48.54462\n",
            "Epoch 40/40\n",
            "500/500 [==============================] - 18s 37ms/step - loss: 3923.5471 - val_loss: 13.7633\n",
            "\n",
            "Epoch 00040: loss did not improve from 48.54462\n"
          ],
          "name": "stdout"
        }
      ]
    },
    {
      "metadata": {
        "id": "BTNQMn9YvCuQ",
        "colab_type": "code",
        "colab": {
          "base_uri": "https://localhost:8080/",
          "height": 141
        },
        "outputId": "21d10b45-bc63-43db-da89-b582f0639803"
      },
      "cell_type": "code",
      "source": [
        "srnn_train = np.mean(history_srnn.history['loss'])\n",
        "srnn_test =  model.evaluate_generator(test_gen,test_steps) \n",
        "srnn_val = np.mean(history_srnn.history['val_loss'])\n",
        "\n",
        "error_metrics1 = pd.DataFrame([[srnn_train,srnn_test,srnn_val]],columns = [\"Train\" ,\"Test\",\"Validation\"] )\n",
        "error_metrics1.rename(index={0:'Stacked RNN'}, inplace=True)\n",
        "error_metrics = error_metrics.append(error_metrics1)\n",
        "error_metrics"
      ],
      "execution_count": 89,
      "outputs": [
        {
          "output_type": "execute_result",
          "data": {
            "text/html": [
              "<div>\n",
              "<style scoped>\n",
              "    .dataframe tbody tr th:only-of-type {\n",
              "        vertical-align: middle;\n",
              "    }\n",
              "\n",
              "    .dataframe tbody tr th {\n",
              "        vertical-align: top;\n",
              "    }\n",
              "\n",
              "    .dataframe thead th {\n",
              "        text-align: right;\n",
              "    }\n",
              "</style>\n",
              "<table border=\"1\" class=\"dataframe\">\n",
              "  <thead>\n",
              "    <tr style=\"text-align: right;\">\n",
              "      <th></th>\n",
              "      <th>Train</th>\n",
              "      <th>Test</th>\n",
              "      <th>Validation</th>\n",
              "    </tr>\n",
              "  </thead>\n",
              "  <tbody>\n",
              "    <tr>\n",
              "      <th>base</th>\n",
              "      <td>42.240589</td>\n",
              "      <td>39.651912</td>\n",
              "      <td>14.291612</td>\n",
              "    </tr>\n",
              "    <tr>\n",
              "      <th>GRU</th>\n",
              "      <td>49.763021</td>\n",
              "      <td>50.932512</td>\n",
              "      <td>13.390008</td>\n",
              "    </tr>\n",
              "    <tr>\n",
              "      <th>Stacked RNN</th>\n",
              "      <td>584255.612744</td>\n",
              "      <td>50.005484</td>\n",
              "      <td>13.652888</td>\n",
              "    </tr>\n",
              "  </tbody>\n",
              "</table>\n",
              "</div>"
            ],
            "text/plain": [
              "                     Train       Test  Validation\n",
              "base             42.240589  39.651912   14.291612\n",
              "GRU              49.763021  50.932512   13.390008\n",
              "Stacked RNN  584255.612744  50.005484   13.652888"
            ]
          },
          "metadata": {
            "tags": []
          },
          "execution_count": 89
        }
      ]
    },
    {
      "metadata": {
        "id": "n3wFVmoObBIR",
        "colab_type": "code",
        "outputId": "29bddf7d-e45c-47ef-cc44-62e1d99fd24b",
        "colab": {
          "base_uri": "https://localhost:8080/",
          "height": 367
        }
      },
      "cell_type": "code",
      "source": [
        "import matplotlib.pyplot as plt\n",
        "\n",
        "loss = history_srnn.history['loss']\n",
        "val_loss = history_srnn.history['val_loss']\n",
        "\n",
        "epochs = range(len(loss))\n",
        "\n",
        "plt.figure()\n",
        "\n",
        "plt.plot(epochs, loss, 'bo', label='Training loss')\n",
        "plt.plot(epochs, val_loss, 'b', label='Validation loss')\n",
        "plt.title('Training and validation loss')\n",
        "plt.legend()\n",
        "\n",
        "plt.show()"
      ],
      "execution_count": 90,
      "outputs": [
        {
          "output_type": "display_data",
          "data": {
            "image/png": "[encoded data removed]",
            "text/plain": [
              "<Figure size 576x396 with 1 Axes>"
            ]
          },
          "metadata": {
            "tags": []
          }
        }
      ]
    },
    {
      "metadata": {
        "id": "fe8GgZ0zUEyk",
        "colab_type": "text"
      },
      "cell_type": "markdown",
      "source": [
        "#LSTM"
      ]
    },
    {
      "metadata": {
        "id": "L0pE6_ZXUDzy",
        "colab_type": "code",
        "colab": {
          "base_uri": "https://localhost:8080/",
          "height": 6951
        },
        "outputId": "fd4e6aba-2b29-4dd6-d9f7-56ec9dc7260f"
      },
      "cell_type": "code",
      "source": [
        "\n",
        "from keras.models import Sequential\n",
        "from keras import layers\n",
        "from keras.optimizers import RMSprop\n",
        "\n",
        "model = Sequential()\n",
        "model.add(layers.LSTM(64, dropout=0.2, input_shape=(None, float_data.shape[-1])))\n",
        "\n",
        "model.add(layers.Dense(1))\n",
        "\n",
        "model.compile(optimizer=RMSprop(), loss='mae')\n",
        "\n",
        "filepath=\"/content/drive/My Drive/Colab Notebooks/myweights_lstm.hdf5\"\n",
        "\n",
        "checkpointer = ModelCheckpoint(filepath, monitor='loss', verbose=1, save_best_only=True,mode='min')\n",
        "\n",
        "history_lstm = model.fit_generator(train_gen,\n",
        "                              steps_per_epoch=500,\n",
        "                              epochs=100,\n",
        "                              validation_data=val_gen,\n",
        "                              validation_steps=val_steps,\n",
        "                              callbacks = [checkpointer])\n",
        "\n",
        "model.load_weights(\"/content/drive/My Drive/Colab Notebooks/myweights_lstm.hdf5\")"
      ],
      "execution_count": 94,
      "outputs": [
        {
          "output_type": "stream",
          "text": [
            "Epoch 1/100\n",
            "500/500 [==============================] - 21s 42ms/step - loss: 48.5612 - val_loss: 13.3969\n",
            "\n",
            "Epoch 00001: loss improved from inf to 48.56124, saving model to /content/drive/My Drive/Colab Notebooks/myweights_lstm.hdf5\n",
            "Epoch 2/100\n",
            "500/500 [==============================] - 15s 31ms/step - loss: 49.8222 - val_loss: 13.3944\n",
            "\n",
            "Epoch 00002: loss did not improve from 48.56124\n",
            "Epoch 3/100\n",
            "500/500 [==============================] - 15s 31ms/step - loss: 48.6380 - val_loss: 13.3911\n",
            "\n",
            "Epoch 00003: loss did not improve from 48.56124\n",
            "Epoch 4/100\n",
            "500/500 [==============================] - 15s 30ms/step - loss: 50.0710 - val_loss: 13.3920\n",
            "\n",
            "Epoch 00004: loss did not improve from 48.56124\n",
            "Epoch 5/100\n",
            "500/500 [==============================] - 16s 31ms/step - loss: 50.1313 - val_loss: 13.3915\n",
            "\n",
            "Epoch 00005: loss did not improve from 48.56124\n",
            "Epoch 6/100\n",
            "500/500 [==============================] - 15s 31ms/step - loss: 50.1151 - val_loss: 13.3904\n",
            "\n",
            "Epoch 00006: loss did not improve from 48.56124\n",
            "Epoch 7/100\n",
            "500/500 [==============================] - 15s 31ms/step - loss: 50.2374 - val_loss: 13.3891\n",
            "\n",
            "Epoch 00007: loss did not improve from 48.56124\n",
            "Epoch 8/100\n",
            "500/500 [==============================] - 15s 30ms/step - loss: 49.4531 - val_loss: 13.3889\n",
            "\n",
            "Epoch 00008: loss did not improve from 48.56124\n",
            "Epoch 9/100\n",
            "500/500 [==============================] - 15s 30ms/step - loss: 50.0425 - val_loss: 13.3886\n",
            "\n",
            "Epoch 00009: loss did not improve from 48.56124\n",
            "Epoch 10/100\n",
            "500/500 [==============================] - 15s 31ms/step - loss: 50.3935 - val_loss: 13.3897\n",
            "\n",
            "Epoch 00010: loss did not improve from 48.56124\n",
            "Epoch 11/100\n",
            "500/500 [==============================] - 15s 30ms/step - loss: 48.7388 - val_loss: 13.3885\n",
            "\n",
            "Epoch 00011: loss did not improve from 48.56124\n",
            "Epoch 12/100\n",
            "500/500 [==============================] - 15s 30ms/step - loss: 49.6566 - val_loss: 13.3893\n",
            "\n",
            "Epoch 00012: loss did not improve from 48.56124\n",
            "Epoch 13/100\n",
            "500/500 [==============================] - 15s 31ms/step - loss: 48.7210 - val_loss: 13.3888\n",
            "\n",
            "Epoch 00013: loss did not improve from 48.56124\n",
            "Epoch 14/100\n",
            "500/500 [==============================] - 15s 30ms/step - loss: 50.1011 - val_loss: 13.3892\n",
            "\n",
            "Epoch 00014: loss did not improve from 48.56124\n",
            "Epoch 15/100\n",
            "500/500 [==============================] - 15s 30ms/step - loss: 50.1445 - val_loss: 13.3886\n",
            "\n",
            "Epoch 00015: loss did not improve from 48.56124\n",
            "Epoch 16/100\n",
            "500/500 [==============================] - 15s 30ms/step - loss: 49.9333 - val_loss: 13.3887\n",
            "\n",
            "Epoch 00016: loss did not improve from 48.56124\n",
            "Epoch 17/100\n",
            "500/500 [==============================] - 15s 30ms/step - loss: 50.2508 - val_loss: 13.3898\n",
            "\n",
            "Epoch 00017: loss did not improve from 48.56124\n",
            "Epoch 18/100\n",
            "500/500 [==============================] - 16s 32ms/step - loss: 49.4508 - val_loss: 13.3895\n",
            "\n",
            "Epoch 00018: loss did not improve from 48.56124\n",
            "Epoch 19/100\n",
            "500/500 [==============================] - 16s 33ms/step - loss: 50.1824 - val_loss: 13.3884\n",
            "\n",
            "Epoch 00019: loss did not improve from 48.56124\n",
            "Epoch 20/100\n",
            "500/500 [==============================] - 16s 32ms/step - loss: 50.3723 - val_loss: 13.3884\n",
            "\n",
            "Epoch 00020: loss did not improve from 48.56124\n",
            "Epoch 21/100\n",
            "500/500 [==============================] - 16s 32ms/step - loss: 48.8482 - val_loss: 13.3880\n",
            "\n",
            "Epoch 00021: loss did not improve from 48.56124\n",
            "Epoch 22/100\n",
            "500/500 [==============================] - 16s 32ms/step - loss: 49.7039 - val_loss: 13.3888\n",
            "\n",
            "Epoch 00022: loss did not improve from 48.56124\n",
            "Epoch 23/100\n",
            "500/500 [==============================] - 16s 32ms/step - loss: 50.2242 - val_loss: 13.3886\n",
            "\n",
            "Epoch 00023: loss did not improve from 48.56124\n",
            "Epoch 24/100\n",
            "500/500 [==============================] - 16s 32ms/step - loss: 48.4650 - val_loss: 13.3891\n",
            "\n",
            "Epoch 00024: loss improved from 48.56124 to 48.46501, saving model to /content/drive/My Drive/Colab Notebooks/myweights_lstm.hdf5\n",
            "Epoch 25/100\n",
            "500/500 [==============================] - 17s 34ms/step - loss: 50.0908 - val_loss: 13.3885\n",
            "\n",
            "Epoch 00025: loss did not improve from 48.46501\n",
            "Epoch 26/100\n",
            "500/500 [==============================] - 16s 32ms/step - loss: 49.8724 - val_loss: 13.3892\n",
            "\n",
            "Epoch 00026: loss did not improve from 48.46501\n",
            "Epoch 27/100\n",
            "500/500 [==============================] - 16s 33ms/step - loss: 50.2222 - val_loss: 13.3892\n",
            "\n",
            "Epoch 00027: loss did not improve from 48.46501\n",
            "Epoch 28/100\n",
            "500/500 [==============================] - 16s 32ms/step - loss: 49.3684 - val_loss: 13.3891\n",
            "\n",
            "Epoch 00028: loss did not improve from 48.46501\n",
            "Epoch 29/100\n",
            "500/500 [==============================] - 16s 33ms/step - loss: 50.3251 - val_loss: 13.3883\n",
            "\n",
            "Epoch 00029: loss did not improve from 48.46501\n",
            "Epoch 30/100\n",
            "500/500 [==============================] - 16s 33ms/step - loss: 50.2701 - val_loss: 13.3898\n",
            "\n",
            "Epoch 00030: loss did not improve from 48.46501\n",
            "Epoch 31/100\n",
            "500/500 [==============================] - 16s 32ms/step - loss: 48.8098 - val_loss: 13.3902\n",
            "\n",
            "Epoch 00031: loss did not improve from 48.46501\n",
            "Epoch 32/100\n",
            "500/500 [==============================] - 16s 33ms/step - loss: 49.8962 - val_loss: 13.3899\n",
            "\n",
            "Epoch 00032: loss did not improve from 48.46501\n",
            "Epoch 33/100\n",
            "500/500 [==============================] - 16s 32ms/step - loss: 50.0476 - val_loss: 13.3892\n",
            "\n",
            "Epoch 00033: loss did not improve from 48.46501\n",
            "Epoch 34/100\n",
            "500/500 [==============================] - 16s 32ms/step - loss: 48.4969 - val_loss: 13.3896\n",
            "\n",
            "Epoch 00034: loss did not improve from 48.46501\n",
            "Epoch 35/100\n",
            "500/500 [==============================] - 16s 32ms/step - loss: 50.0810 - val_loss: 13.3896\n",
            "\n",
            "Epoch 00035: loss did not improve from 48.46501\n",
            "Epoch 36/100\n",
            "500/500 [==============================] - 16s 32ms/step - loss: 49.8861 - val_loss: 13.3895\n",
            "\n",
            "Epoch 00036: loss did not improve from 48.46501\n",
            "Epoch 37/100\n",
            "500/500 [==============================] - 16s 32ms/step - loss: 50.2359 - val_loss: 13.3885\n",
            "\n",
            "Epoch 00037: loss did not improve from 48.46501\n",
            "Epoch 38/100\n",
            "500/500 [==============================] - 16s 32ms/step - loss: 49.3206 - val_loss: 13.3900\n",
            "\n",
            "Epoch 00038: loss did not improve from 48.46501\n",
            "Epoch 39/100\n",
            "500/500 [==============================] - 16s 32ms/step - loss: 50.5341 - val_loss: 13.3896\n",
            "\n",
            "Epoch 00039: loss did not improve from 48.46501\n",
            "Epoch 40/100\n",
            "500/500 [==============================] - 16s 32ms/step - loss: 50.0101 - val_loss: 13.3902\n",
            "\n",
            "Epoch 00040: loss did not improve from 48.46501\n",
            "Epoch 41/100\n",
            "500/500 [==============================] - 16s 32ms/step - loss: 50.2893 - val_loss: 13.3888\n",
            "\n",
            "Epoch 00041: loss did not improve from 48.46501\n",
            "Epoch 42/100\n",
            "500/500 [==============================] - 16s 32ms/step - loss: 48.5629 - val_loss: 13.3914\n",
            "\n",
            "Epoch 00042: loss did not improve from 48.46501\n",
            "Epoch 43/100\n",
            "500/500 [==============================] - 16s 32ms/step - loss: 49.9008 - val_loss: 13.3899\n",
            "\n",
            "Epoch 00043: loss did not improve from 48.46501\n",
            "Epoch 44/100\n",
            "500/500 [==============================] - 17s 33ms/step - loss: 48.4758 - val_loss: 13.3908\n",
            "\n",
            "Epoch 00044: loss did not improve from 48.46501\n",
            "Epoch 45/100\n",
            "500/500 [==============================] - 16s 32ms/step - loss: 50.2092 - val_loss: 13.3913\n",
            "\n",
            "Epoch 00045: loss did not improve from 48.46501\n",
            "Epoch 46/100\n",
            "500/500 [==============================] - 16s 32ms/step - loss: 50.0375 - val_loss: 13.3888\n",
            "\n",
            "Epoch 00046: loss did not improve from 48.46501\n",
            "Epoch 47/100\n",
            "500/500 [==============================] - 16s 33ms/step - loss: 50.1864 - val_loss: 13.3900\n",
            "\n",
            "Epoch 00047: loss did not improve from 48.46501\n",
            "Epoch 48/100\n",
            "500/500 [==============================] - 16s 32ms/step - loss: 49.1388 - val_loss: 13.3903\n",
            "\n",
            "Epoch 00048: loss did not improve from 48.46501\n",
            "Epoch 49/100\n",
            "500/500 [==============================] - 16s 32ms/step - loss: 50.4492 - val_loss: 13.3903\n",
            "\n",
            "Epoch 00049: loss did not improve from 48.46501\n",
            "Epoch 50/100\n",
            "500/500 [==============================] - 16s 32ms/step - loss: 50.0237 - val_loss: 13.3892\n",
            "\n",
            "Epoch 00050: loss did not improve from 48.46501\n",
            "Epoch 51/100\n",
            "500/500 [==============================] - 16s 32ms/step - loss: 50.3663 - val_loss: 13.3961\n",
            "\n",
            "Epoch 00051: loss did not improve from 48.46501\n",
            "Epoch 52/100\n",
            "500/500 [==============================] - 16s 32ms/step - loss: 48.5226 - val_loss: 13.3904\n",
            "\n",
            "Epoch 00052: loss did not improve from 48.46501\n",
            "Epoch 53/100\n",
            "500/500 [==============================] - 16s 32ms/step - loss: 49.7843 - val_loss: 13.3950\n",
            "\n",
            "Epoch 00053: loss did not improve from 48.46501\n",
            "Epoch 54/100\n",
            "500/500 [==============================] - 16s 32ms/step - loss: 48.6007 - val_loss: 13.4004\n",
            "\n",
            "Epoch 00054: loss did not improve from 48.46501\n",
            "Epoch 55/100\n",
            "500/500 [==============================] - 16s 32ms/step - loss: 50.0302 - val_loss: 13.3989\n",
            "\n",
            "Epoch 00055: loss did not improve from 48.46501\n",
            "Epoch 56/100\n",
            "500/500 [==============================] - 16s 32ms/step - loss: 50.0877 - val_loss: 13.3953\n",
            "\n",
            "Epoch 00056: loss did not improve from 48.46501\n",
            "Epoch 57/100\n",
            "500/500 [==============================] - 16s 32ms/step - loss: 50.0681 - val_loss: 13.3976\n",
            "\n",
            "Epoch 00057: loss did not improve from 48.46501\n",
            "Epoch 58/100\n",
            "500/500 [==============================] - 16s 32ms/step - loss: 50.1888 - val_loss: 13.3957\n",
            "\n",
            "Epoch 00058: loss did not improve from 48.46501\n",
            "Epoch 59/100\n",
            "500/500 [==============================] - 16s 32ms/step - loss: 49.3988 - val_loss: 13.3980\n",
            "\n",
            "Epoch 00059: loss did not improve from 48.46501\n",
            "Epoch 60/100\n",
            "500/500 [==============================] - 16s 32ms/step - loss: 49.9874 - val_loss: 13.4002\n",
            "\n",
            "Epoch 00060: loss did not improve from 48.46501\n",
            "Epoch 61/100\n",
            "500/500 [==============================] - 16s 32ms/step - loss: 50.3326 - val_loss: 13.4005\n",
            "\n",
            "Epoch 00061: loss did not improve from 48.46501\n",
            "Epoch 62/100\n",
            "500/500 [==============================] - 16s 32ms/step - loss: 48.6802 - val_loss: 13.4034\n",
            "\n",
            "Epoch 00062: loss did not improve from 48.46501\n",
            "Epoch 63/100\n",
            "500/500 [==============================] - 16s 33ms/step - loss: 49.5882 - val_loss: 13.4033\n",
            "\n",
            "Epoch 00063: loss did not improve from 48.46501\n",
            "Epoch 64/100\n",
            "500/500 [==============================] - 16s 33ms/step - loss: 48.6547 - val_loss: 13.4025\n",
            "\n",
            "Epoch 00064: loss did not improve from 48.46501\n",
            "Epoch 65/100\n",
            "500/500 [==============================] - 16s 32ms/step - loss: 50.0217 - val_loss: 13.4047\n",
            "\n",
            "Epoch 00065: loss did not improve from 48.46501\n",
            "Epoch 66/100\n",
            "500/500 [==============================] - 16s 32ms/step - loss: 50.0663 - val_loss: 13.4011\n",
            "\n",
            "Epoch 00066: loss did not improve from 48.46501\n",
            "Epoch 67/100\n",
            "500/500 [==============================] - 16s 32ms/step - loss: 49.8534 - val_loss: 13.4115\n",
            "\n",
            "Epoch 00067: loss did not improve from 48.46501\n",
            "Epoch 68/100\n",
            "500/500 [==============================] - 16s 32ms/step - loss: 50.1659 - val_loss: 13.3912\n",
            "\n",
            "Epoch 00068: loss did not improve from 48.46501\n",
            "Epoch 69/100\n",
            "500/500 [==============================] - 16s 32ms/step - loss: 49.3659 - val_loss: 13.4120\n",
            "\n",
            "Epoch 00069: loss did not improve from 48.46501\n",
            "Epoch 70/100\n",
            "500/500 [==============================] - 16s 32ms/step - loss: 50.0785 - val_loss: 13.4104\n",
            "\n",
            "Epoch 00070: loss did not improve from 48.46501\n",
            "Epoch 71/100\n",
            "500/500 [==============================] - 16s 32ms/step - loss: 50.2689 - val_loss: 13.4107\n",
            "\n",
            "Epoch 00071: loss did not improve from 48.46501\n",
            "Epoch 72/100\n",
            "500/500 [==============================] - 16s 32ms/step - loss: 48.7503 - val_loss: 13.4086\n",
            "\n",
            "Epoch 00072: loss did not improve from 48.46501\n",
            "Epoch 73/100\n",
            "500/500 [==============================] - 16s 32ms/step - loss: 49.5898 - val_loss: 13.4066\n",
            "\n",
            "Epoch 00073: loss did not improve from 48.46501\n",
            "Epoch 74/100\n",
            "500/500 [==============================] - 16s 32ms/step - loss: 50.1001 - val_loss: 13.4097\n",
            "\n",
            "Epoch 00074: loss did not improve from 48.46501\n",
            "Epoch 75/100\n",
            "500/500 [==============================] - 16s 32ms/step - loss: 48.3465 - val_loss: 13.4058\n",
            "\n",
            "Epoch 00075: loss improved from 48.46501 to 48.34653, saving model to /content/drive/My Drive/Colab Notebooks/myweights_lstm.hdf5\n",
            "Epoch 76/100\n",
            "500/500 [==============================] - 16s 32ms/step - loss: 49.9696 - val_loss: 13.4185\n",
            "\n",
            "Epoch 00076: loss did not improve from 48.34653\n",
            "Epoch 77/100\n",
            "500/500 [==============================] - 16s 32ms/step - loss: 49.7361 - val_loss: 13.4270\n",
            "\n",
            "Epoch 00077: loss did not improve from 48.34653\n",
            "Epoch 78/100\n",
            "500/500 [==============================] - 16s 32ms/step - loss: 50.0915 - val_loss: 13.4216\n",
            "\n",
            "Epoch 00078: loss did not improve from 48.34653\n",
            "Epoch 79/100\n",
            "500/500 [==============================] - 16s 32ms/step - loss: 49.2171 - val_loss: 13.4276\n",
            "\n",
            "Epoch 00079: loss did not improve from 48.34653\n",
            "Epoch 80/100\n",
            "500/500 [==============================] - 16s 32ms/step - loss: 50.1662 - val_loss: 13.4176\n",
            "\n",
            "Epoch 00080: loss did not improve from 48.34653\n",
            "Epoch 81/100\n",
            "500/500 [==============================] - 16s 32ms/step - loss: 50.1073 - val_loss: 13.4267\n",
            "\n",
            "Epoch 00081: loss did not improve from 48.34653\n",
            "Epoch 82/100\n",
            "500/500 [==============================] - 16s 32ms/step - loss: 48.6544 - val_loss: 13.4292\n",
            "\n",
            "Epoch 00082: loss did not improve from 48.34653\n",
            "Epoch 83/100\n",
            "500/500 [==============================] - 17s 33ms/step - loss: 49.7144 - val_loss: 13.4301\n",
            "\n",
            "Epoch 00083: loss did not improve from 48.34653\n",
            "Epoch 84/100\n",
            "500/500 [==============================] - 16s 32ms/step - loss: 49.8601 - val_loss: 13.4266\n",
            "\n",
            "Epoch 00084: loss did not improve from 48.34653\n",
            "Epoch 85/100\n",
            "500/500 [==============================] - 16s 32ms/step - loss: 48.3067 - val_loss: 13.4291\n",
            "\n",
            "Epoch 00085: loss improved from 48.34653 to 48.30674, saving model to /content/drive/My Drive/Colab Notebooks/myweights_lstm.hdf5\n",
            "Epoch 86/100\n",
            "500/500 [==============================] - 16s 33ms/step - loss: 49.8841 - val_loss: 13.4305\n",
            "\n",
            "Epoch 00086: loss did not improve from 48.30674\n",
            "Epoch 87/100\n",
            "500/500 [==============================] - 16s 32ms/step - loss: 49.6732 - val_loss: 13.4353\n",
            "\n",
            "Epoch 00087: loss did not improve from 48.30674\n",
            "Epoch 88/100\n",
            "500/500 [==============================] - 16s 32ms/step - loss: 50.0228 - val_loss: 13.4255\n",
            "\n",
            "Epoch 00088: loss did not improve from 48.30674\n",
            "Epoch 89/100\n",
            "500/500 [==============================] - 16s 32ms/step - loss: 49.1033 - val_loss: 13.4407\n",
            "\n",
            "Epoch 00089: loss did not improve from 48.30674\n",
            "Epoch 90/100\n",
            "500/500 [==============================] - 16s 32ms/step - loss: 50.3059 - val_loss: 13.4286\n",
            "\n",
            "Epoch 00090: loss did not improve from 48.30674\n",
            "Epoch 91/100\n",
            "500/500 [==============================] - 16s 32ms/step - loss: 49.7699 - val_loss: 13.4500\n",
            "\n",
            "Epoch 00091: loss did not improve from 48.30674\n",
            "Epoch 92/100\n",
            "500/500 [==============================] - 16s 32ms/step - loss: 50.0443 - val_loss: 13.4437\n",
            "\n",
            "Epoch 00092: loss did not improve from 48.30674\n",
            "Epoch 93/100\n",
            "500/500 [==============================] - 16s 32ms/step - loss: 48.3350 - val_loss: 13.4133\n",
            "\n",
            "Epoch 00093: loss did not improve from 48.30674\n",
            "Epoch 94/100\n",
            "500/500 [==============================] - 16s 32ms/step - loss: 49.6536 - val_loss: 13.4304\n",
            "\n",
            "Epoch 00094: loss did not improve from 48.30674\n",
            "Epoch 95/100\n",
            "500/500 [==============================] - 16s 32ms/step - loss: 48.2278 - val_loss: 13.4541\n",
            "\n",
            "Epoch 00095: loss improved from 48.30674 to 48.22781, saving model to /content/drive/My Drive/Colab Notebooks/myweights_lstm.hdf5\n",
            "Epoch 96/100\n",
            "500/500 [==============================] - 16s 32ms/step - loss: 49.9266 - val_loss: 13.4504\n",
            "\n",
            "Epoch 00096: loss did not improve from 48.22781\n",
            "Epoch 97/100\n",
            "500/500 [==============================] - 16s 32ms/step - loss: 49.7644 - val_loss: 13.4548\n",
            "\n",
            "Epoch 00097: loss did not improve from 48.22781\n",
            "Epoch 98/100\n",
            "500/500 [==============================] - 16s 32ms/step - loss: 49.8993 - val_loss: 13.4354\n",
            "\n",
            "Epoch 00098: loss did not improve from 48.22781\n",
            "Epoch 99/100\n",
            "500/500 [==============================] - 16s 32ms/step - loss: 48.8729 - val_loss: 13.4378\n",
            "\n",
            "Epoch 00099: loss did not improve from 48.22781\n",
            "Epoch 100/100\n",
            "500/500 [==============================] - 16s 32ms/step - loss: 50.1481 - val_loss: 13.4648\n",
            "\n",
            "Epoch 00100: loss did not improve from 48.22781\n"
          ],
          "name": "stdout"
        }
      ]
    },
    {
      "metadata": {
        "id": "GYlPUChDU031",
        "colab_type": "code",
        "colab": {
          "base_uri": "https://localhost:8080/",
          "height": 171
        },
        "outputId": "12bedec9-0370-4442-f91d-214a6240f738"
      },
      "cell_type": "code",
      "source": [
        "lstm_train = np.mean(history_lstm.history['loss'])\n",
        "lstm_test =  model.evaluate_generator(test_gen,test_steps) \n",
        "lstm_val = np.mean(history_lstm.history['val_loss'])\n",
        "\n",
        "error_metrics1 = pd.DataFrame([[lstm_train,lstm_test,lstm_val]],columns = [\"Train\" ,\"Test\",\"Validation\"] )\n",
        "error_metrics1.rename(index={0:'LSTM'}, inplace=True)\n",
        "error_metrics = error_metrics.append(error_metrics1)\n",
        "error_metrics"
      ],
      "execution_count": 95,
      "outputs": [
        {
          "output_type": "execute_result",
          "data": {
            "text/html": [
              "<div>\n",
              "<style scoped>\n",
              "    .dataframe tbody tr th:only-of-type {\n",
              "        vertical-align: middle;\n",
              "    }\n",
              "\n",
              "    .dataframe tbody tr th {\n",
              "        vertical-align: top;\n",
              "    }\n",
              "\n",
              "    .dataframe thead th {\n",
              "        text-align: right;\n",
              "    }\n",
              "</style>\n",
              "<table border=\"1\" class=\"dataframe\">\n",
              "  <thead>\n",
              "    <tr style=\"text-align: right;\">\n",
              "      <th></th>\n",
              "      <th>Train</th>\n",
              "      <th>Test</th>\n",
              "      <th>Validation</th>\n",
              "    </tr>\n",
              "  </thead>\n",
              "  <tbody>\n",
              "    <tr>\n",
              "      <th>base</th>\n",
              "      <td>42.240589</td>\n",
              "      <td>39.651912</td>\n",
              "      <td>14.291612</td>\n",
              "    </tr>\n",
              "    <tr>\n",
              "      <th>GRU</th>\n",
              "      <td>49.763021</td>\n",
              "      <td>50.932512</td>\n",
              "      <td>13.390008</td>\n",
              "    </tr>\n",
              "    <tr>\n",
              "      <th>Stacked RNN</th>\n",
              "      <td>584255.612744</td>\n",
              "      <td>50.005484</td>\n",
              "      <td>13.652888</td>\n",
              "    </tr>\n",
              "    <tr>\n",
              "      <th>LSTM</th>\n",
              "      <td>49.673516</td>\n",
              "      <td>50.484021</td>\n",
              "      <td>13.403867</td>\n",
              "    </tr>\n",
              "  </tbody>\n",
              "</table>\n",
              "</div>"
            ],
            "text/plain": [
              "                     Train       Test  Validation\n",
              "base             42.240589  39.651912   14.291612\n",
              "GRU              49.763021  50.932512   13.390008\n",
              "Stacked RNN  584255.612744  50.005484   13.652888\n",
              "LSTM             49.673516  50.484021   13.403867"
            ]
          },
          "metadata": {
            "tags": []
          },
          "execution_count": 95
        }
      ]
    },
    {
      "metadata": {
        "id": "d9ALeUNvbBI9",
        "colab_type": "code",
        "colab": {
          "base_uri": "https://localhost:8080/",
          "height": 367
        },
        "outputId": "88698c74-9efb-4952-9378-aaddafbfcfcc"
      },
      "cell_type": "code",
      "source": [
        "loss = history_lstm.history['loss']\n",
        "val_loss = history_lstm.history['val_loss']\n",
        "\n",
        "epochs = range(len(loss))\n",
        "\n",
        "plt.figure()\n",
        "\n",
        "plt.plot(epochs, loss, 'bo', label='Training loss')\n",
        "plt.plot(epochs, val_loss, 'b', label='Validation loss')\n",
        "plt.title('Training and validation loss')\n",
        "plt.legend()\n",
        "\n",
        "plt.show()"
      ],
      "execution_count": 96,
      "outputs": [
        {
          "output_type": "display_data",
          "data": {
            "image/png": "[encoded data removed]",
            "text/plain": [
              "<Figure size 576x396 with 1 Axes>"
            ]
          },
          "metadata": {
            "tags": []
          }
        }
      ]
    },
    {
      "metadata": {
        "id": "VlGOa3zVVKn4",
        "colab_type": "text"
      },
      "cell_type": "markdown",
      "source": [
        "#CNN"
      ]
    },
    {
      "metadata": {
        "id": "M206Q4KPVM4m",
        "colab_type": "code",
        "colab": {
          "base_uri": "https://localhost:8080/",
          "height": 1837
        },
        "outputId": "10de7594-3f4c-4284-d1a2-286f37504c13"
      },
      "cell_type": "code",
      "source": [
        "from keras.models import Sequential\n",
        "from keras import layers\n",
        "from keras.optimizers import RMSprop\n",
        "model = Sequential()\n",
        "model.add(layers.Conv1D(128, 1, activation='relu',\n",
        "input_shape=(None, float_data.shape[-1])))\n",
        "model.add(layers.MaxPooling1D(3))\n",
        "model.add(layers.Conv1D(64, 1, activation='relu'))\n",
        "model.add(layers.MaxPooling1D(3))\n",
        "model.add(layers.Conv1D(32, 1, activation='relu'))\n",
        "model.add(layers.Dropout(0.2))\n",
        "model.add(layers.Conv1D(16, 1, activation='relu'))\n",
        "model.add(layers.GlobalMaxPooling1D())\n",
        "model.add(layers.Dense(1))\n",
        "model.compile(optimizer=RMSprop(), loss='mae')\n",
        "model.summary()\n",
        "\n",
        "\n",
        "filepath=\"/content/drive/My Drive/Colab Notebooks/myweights_cnn.hdf5\"\n",
        "\n",
        "checkpointer = ModelCheckpoint(filepath, monitor='loss', verbose=1, save_best_only=True,mode='min')\n",
        "\n",
        "history_cnn = model.fit_generator(train_gen,\n",
        "            steps_per_epoch=500,\n",
        "            epochs=20,\n",
        "            validation_data=val_gen,\n",
        "            validation_steps=val_steps,\n",
        "            callbacks = [checkpointer])\n",
        "\n",
        "model.load_weights(\"/content/drive/My Drive/Colab Notebooks/myweights_cnn.hdf5\")"
      ],
      "execution_count": 97,
      "outputs": [
        {
          "output_type": "stream",
          "text": [
            "_________________________________________________________________\n",
            "Layer (type)                 Output Shape              Param #   \n",
            "=================================================================\n",
            "conv1d_17 (Conv1D)           (None, None, 128)         896       \n",
            "_________________________________________________________________\n",
            "max_pooling1d_9 (MaxPooling1 (None, None, 128)         0         \n",
            "_________________________________________________________________\n",
            "conv1d_18 (Conv1D)           (None, None, 64)          8256      \n",
            "_________________________________________________________________\n",
            "max_pooling1d_10 (MaxPooling (None, None, 64)          0         \n",
            "_________________________________________________________________\n",
            "conv1d_19 (Conv1D)           (None, None, 32)          2080      \n",
            "_________________________________________________________________\n",
            "dropout_5 (Dropout)          (None, None, 32)          0         \n",
            "_________________________________________________________________\n",
            "conv1d_20 (Conv1D)           (None, None, 16)          528       \n",
            "_________________________________________________________________\n",
            "global_max_pooling1d_5 (Glob (None, 16)                0         \n",
            "_________________________________________________________________\n",
            "dense_23 (Dense)             (None, 1)                 17        \n",
            "=================================================================\n",
            "Total params: 11,777\n",
            "Trainable params: 11,777\n",
            "Non-trainable params: 0\n",
            "_________________________________________________________________\n",
            "Epoch 1/20\n",
            "500/500 [==============================] - 11s 22ms/step - loss: 50.0734 - val_loss: 13.3874\n",
            "\n",
            "Epoch 00001: loss improved from inf to 50.07337, saving model to /content/drive/My Drive/Colab Notebooks/myweights_cnn.hdf5\n",
            "Epoch 2/20\n",
            "500/500 [==============================] - 6s 12ms/step - loss: 50.0210 - val_loss: 13.3897\n",
            "\n",
            "Epoch 00002: loss improved from 50.07337 to 50.02098, saving model to /content/drive/My Drive/Colab Notebooks/myweights_cnn.hdf5\n",
            "Epoch 3/20\n",
            "500/500 [==============================] - 6s 12ms/step - loss: 50.3868 - val_loss: 13.3877\n",
            "\n",
            "Epoch 00003: loss did not improve from 50.02098\n",
            "Epoch 4/20\n",
            "500/500 [==============================] - 6s 12ms/step - loss: 48.7045 - val_loss: 13.3879\n",
            "\n",
            "Epoch 00004: loss improved from 50.02098 to 48.70450, saving model to /content/drive/My Drive/Colab Notebooks/myweights_cnn.hdf5\n",
            "Epoch 5/20\n",
            "500/500 [==============================] - 6s 12ms/step - loss: 49.7090 - val_loss: 13.3886\n",
            "\n",
            "Epoch 00005: loss did not improve from 48.70450\n",
            "Epoch 6/20\n",
            "500/500 [==============================] - 6s 12ms/step - loss: 48.7500 - val_loss: 13.3876\n",
            "\n",
            "Epoch 00006: loss did not improve from 48.70450\n",
            "Epoch 7/20\n",
            "500/500 [==============================] - 6s 12ms/step - loss: 50.0570 - val_loss: 13.3883\n",
            "\n",
            "Epoch 00007: loss did not improve from 48.70450\n",
            "Epoch 8/20\n",
            "500/500 [==============================] - 6s 12ms/step - loss: 49.9696 - val_loss: 13.3878\n",
            "\n",
            "Epoch 00008: loss did not improve from 48.70450\n",
            "Epoch 9/20\n",
            "500/500 [==============================] - 6s 12ms/step - loss: 50.1588 - val_loss: 13.3884\n",
            "\n",
            "Epoch 00009: loss did not improve from 48.70450\n",
            "Epoch 10/20\n",
            "500/500 [==============================] - 6s 12ms/step - loss: 50.1919 - val_loss: 13.3875\n",
            "\n",
            "Epoch 00010: loss did not improve from 48.70450\n",
            "Epoch 11/20\n",
            "500/500 [==============================] - 6s 12ms/step - loss: 49.4899 - val_loss: 13.3886\n",
            "\n",
            "Epoch 00011: loss did not improve from 48.70450\n",
            "Epoch 12/20\n",
            "500/500 [==============================] - 6s 12ms/step - loss: 50.1331 - val_loss: 13.3882\n",
            "\n",
            "Epoch 00012: loss did not improve from 48.70450\n",
            "Epoch 13/20\n",
            "500/500 [==============================] - 6s 12ms/step - loss: 50.2827 - val_loss: 13.3874\n",
            "\n",
            "Epoch 00013: loss did not improve from 48.70450\n",
            "Epoch 14/20\n",
            "500/500 [==============================] - 6s 12ms/step - loss: 48.7442 - val_loss: 13.3883\n",
            "\n",
            "Epoch 00014: loss did not improve from 48.70450\n",
            "Epoch 15/20\n",
            "500/500 [==============================] - 6s 12ms/step - loss: 49.8198 - val_loss: 13.3885\n",
            "\n",
            "Epoch 00015: loss did not improve from 48.70450\n",
            "Epoch 16/20\n",
            "500/500 [==============================] - 6s 12ms/step - loss: 50.3788 - val_loss: 13.3882\n",
            "\n",
            "Epoch 00016: loss did not improve from 48.70450\n",
            "Epoch 17/20\n",
            "500/500 [==============================] - 6s 12ms/step - loss: 48.2604 - val_loss: 13.3877\n",
            "\n",
            "Epoch 00017: loss improved from 48.70450 to 48.26035, saving model to /content/drive/My Drive/Colab Notebooks/myweights_cnn.hdf5\n",
            "Epoch 18/20\n",
            "500/500 [==============================] - 6s 12ms/step - loss: 50.2275 - val_loss: 13.3885\n",
            "\n",
            "Epoch 00018: loss did not improve from 48.26035\n",
            "Epoch 19/20\n",
            "500/500 [==============================] - 6s 12ms/step - loss: 49.8802 - val_loss: 13.3875\n",
            "\n",
            "Epoch 00019: loss did not improve from 48.26035\n",
            "Epoch 20/20\n",
            "500/500 [==============================] - 6s 12ms/step - loss: 50.3049 - val_loss: 13.3881\n",
            "\n",
            "Epoch 00020: loss did not improve from 48.26035\n"
          ],
          "name": "stdout"
        }
      ]
    },
    {
      "metadata": {
        "id": "TreYNsUUWTHs",
        "colab_type": "code",
        "colab": {
          "base_uri": "https://localhost:8080/",
          "height": 202
        },
        "outputId": "fbbeb633-0ea1-443f-c993-2e552d4a883a"
      },
      "cell_type": "code",
      "source": [
        "cnn_train = np.mean(history_cnn.history['loss'])\n",
        "cnn_test =  model.evaluate_generator(test_gen,test_steps) \n",
        "cnn_val = np.mean(history_cnn.history['val_loss'])\n",
        "\n",
        "error_metrics1 = pd.DataFrame([[cnn_train,cnn_test,cnn_val]],columns = [\"Train\" ,\"Test\",\"Validation\"] )\n",
        "error_metrics1.rename(index={0:'CNN'}, inplace=True)\n",
        "error_metrics = error_metrics.append(error_metrics1)\n",
        "error_metrics"
      ],
      "execution_count": 98,
      "outputs": [
        {
          "output_type": "execute_result",
          "data": {
            "text/html": [
              "<div>\n",
              "<style scoped>\n",
              "    .dataframe tbody tr th:only-of-type {\n",
              "        vertical-align: middle;\n",
              "    }\n",
              "\n",
              "    .dataframe tbody tr th {\n",
              "        vertical-align: top;\n",
              "    }\n",
              "\n",
              "    .dataframe thead th {\n",
              "        text-align: right;\n",
              "    }\n",
              "</style>\n",
              "<table border=\"1\" class=\"dataframe\">\n",
              "  <thead>\n",
              "    <tr style=\"text-align: right;\">\n",
              "      <th></th>\n",
              "      <th>Train</th>\n",
              "      <th>Test</th>\n",
              "      <th>Validation</th>\n",
              "    </tr>\n",
              "  </thead>\n",
              "  <tbody>\n",
              "    <tr>\n",
              "      <th>base</th>\n",
              "      <td>42.240589</td>\n",
              "      <td>39.651912</td>\n",
              "      <td>14.291612</td>\n",
              "    </tr>\n",
              "    <tr>\n",
              "      <th>GRU</th>\n",
              "      <td>49.763021</td>\n",
              "      <td>50.932512</td>\n",
              "      <td>13.390008</td>\n",
              "    </tr>\n",
              "    <tr>\n",
              "      <th>Stacked RNN</th>\n",
              "      <td>584255.612744</td>\n",
              "      <td>50.005484</td>\n",
              "      <td>13.652888</td>\n",
              "    </tr>\n",
              "    <tr>\n",
              "      <th>LSTM</th>\n",
              "      <td>49.673516</td>\n",
              "      <td>50.484021</td>\n",
              "      <td>13.403867</td>\n",
              "    </tr>\n",
              "    <tr>\n",
              "      <th>CNN</th>\n",
              "      <td>49.777176</td>\n",
              "      <td>50.931925</td>\n",
              "      <td>13.388093</td>\n",
              "    </tr>\n",
              "  </tbody>\n",
              "</table>\n",
              "</div>"
            ],
            "text/plain": [
              "                     Train       Test  Validation\n",
              "base             42.240589  39.651912   14.291612\n",
              "GRU              49.763021  50.932512   13.390008\n",
              "Stacked RNN  584255.612744  50.005484   13.652888\n",
              "LSTM             49.673516  50.484021   13.403867\n",
              "CNN              49.777176  50.931925   13.388093"
            ]
          },
          "metadata": {
            "tags": []
          },
          "execution_count": 98
        }
      ]
    },
    {
      "metadata": {
        "id": "-aUwQlWmWp4B",
        "colab_type": "code",
        "colab": {
          "base_uri": "https://localhost:8080/",
          "height": 367
        },
        "outputId": "576fbf25-8d97-493d-9043-4a3c7060ff0c"
      },
      "cell_type": "code",
      "source": [
        "loss = history_cnn.history['loss']\n",
        "val_loss = history_cnn.history['val_loss']\n",
        "\n",
        "epochs = range(len(loss))\n",
        "\n",
        "plt.figure()\n",
        "\n",
        "plt.plot(epochs, loss, 'bo', label='Training loss')\n",
        "plt.plot(epochs, val_loss, 'b', label='Validation loss')\n",
        "plt.title('Training and validation loss')\n",
        "plt.legend()\n",
        "\n",
        "plt.show()"
      ],
      "execution_count": 99,
      "outputs": [
        {
          "output_type": "display_data",
          "data": {
            "image/png": "[encoded data removed]",
            "text/plain": [
              "<Figure size 576x396 with 1 Axes>"
            ]
          },
          "metadata": {
            "tags": []
          }
        }
      ]
    },
    {
      "metadata": {
        "id": "AYkFIUbW5GrE",
        "colab_type": "text"
      },
      "cell_type": "markdown",
      "source": [
        "#FINAL error metrics"
      ]
    },
    {
      "metadata": {
        "id": "j-o58GIQ5KxF",
        "colab_type": "code",
        "colab": {
          "base_uri": "https://localhost:8080/",
          "height": 202
        },
        "outputId": "524a40a2-3fa7-47a2-b96b-6424dba04b29"
      },
      "cell_type": "code",
      "source": [
        "error_metrics"
      ],
      "execution_count": 111,
      "outputs": [
        {
          "output_type": "execute_result",
          "data": {
            "text/html": [
              "<div>\n",
              "<style scoped>\n",
              "    .dataframe tbody tr th:only-of-type {\n",
              "        vertical-align: middle;\n",
              "    }\n",
              "\n",
              "    .dataframe tbody tr th {\n",
              "        vertical-align: top;\n",
              "    }\n",
              "\n",
              "    .dataframe thead th {\n",
              "        text-align: right;\n",
              "    }\n",
              "</style>\n",
              "<table border=\"1\" class=\"dataframe\">\n",
              "  <thead>\n",
              "    <tr style=\"text-align: right;\">\n",
              "      <th></th>\n",
              "      <th>Train</th>\n",
              "      <th>Test</th>\n",
              "      <th>Validation</th>\n",
              "    </tr>\n",
              "  </thead>\n",
              "  <tbody>\n",
              "    <tr>\n",
              "      <th>base</th>\n",
              "      <td>42.240589</td>\n",
              "      <td>39.651912</td>\n",
              "      <td>14.291612</td>\n",
              "    </tr>\n",
              "    <tr>\n",
              "      <th>GRU</th>\n",
              "      <td>49.763021</td>\n",
              "      <td>50.932512</td>\n",
              "      <td>13.390008</td>\n",
              "    </tr>\n",
              "    <tr>\n",
              "      <th>Stacked RNN</th>\n",
              "      <td>584255.612744</td>\n",
              "      <td>50.005484</td>\n",
              "      <td>13.652888</td>\n",
              "    </tr>\n",
              "    <tr>\n",
              "      <th>LSTM</th>\n",
              "      <td>49.673516</td>\n",
              "      <td>50.484021</td>\n",
              "      <td>13.403867</td>\n",
              "    </tr>\n",
              "    <tr>\n",
              "      <th>CNN</th>\n",
              "      <td>49.777176</td>\n",
              "      <td>50.931925</td>\n",
              "      <td>13.388093</td>\n",
              "    </tr>\n",
              "  </tbody>\n",
              "</table>\n",
              "</div>"
            ],
            "text/plain": [
              "                     Train       Test  Validation\n",
              "base             42.240589  39.651912   14.291612\n",
              "GRU              49.763021  50.932512   13.390008\n",
              "Stacked RNN  584255.612744  50.005484   13.652888\n",
              "LSTM             49.673516  50.484021   13.403867\n",
              "CNN              49.777176  50.931925   13.388093"
            ]
          },
          "metadata": {
            "tags": []
          },
          "execution_count": 111
        }
      ]
    }
  ]
}