{
  "nbformat": 4,
  "nbformat_minor": 0,
  "metadata": {
    "colab": {
      "name": "2798178, fashion_mnist_keras.ipynb",
      "version": "0.3.2",
      "provenance": [],
      "collapsed_sections": []
    },
    "kernelspec": {
      "name": "python3",
      "display_name": "Python 3"
    },
    "accelerator": "GPU"
  },
  "cells": [
    {
      "metadata": {
        "id": "LbCigZtNZZgl",
        "colab_type": "text"
      },
      "cell_type": "markdown",
      "source": [
        "## Download the fashion_mnist data\n"
      ]
    },
    {
      "metadata": {
        "id": "d44TznbgZZgm",
        "colab_type": "code",
        "outputId": "94c0668e-9e64-4bc2-93aa-7007d2d21ea6",
        "colab": {
          "base_uri": "https://localhost:8080/",
          "height": 173
        }
      },
      "cell_type": "code",
      "source": [
        "!pip install -q -U tensorflow>=1.8.0\n",
        "import tensorflow as tf\n",
        "\n",
        "import numpy as np\n",
        "import matplotlib.pyplot as plt\n",
        "\n",
        "# Load the fashion-mnist pre-shuffled train data and test data\n",
        "(x_train, y_train), (x_test, y_test) = tf.keras.datasets.fashion_mnist.load_data()\n",
        "\n",
        "print(\"x_train shape:\", x_train.shape, \"y_train shape:\", y_train.shape)"
      ],
      "execution_count": 8,
      "outputs": [
        {
          "output_type": "stream",
          "text": [
            "Downloading data from https://storage.googleapis.com/tensorflow/tf-keras-datasets/train-labels-idx1-ubyte.gz\n",
            "32768/29515 [=================================] - 0s 0us/step\n",
            "Downloading data from https://storage.googleapis.com/tensorflow/tf-keras-datasets/train-images-idx3-ubyte.gz\n",
            "26427392/26421880 [==============================] - 1s 0us/step\n",
            "Downloading data from https://storage.googleapis.com/tensorflow/tf-keras-datasets/t10k-labels-idx1-ubyte.gz\n",
            "8192/5148 [===============================================] - 0s 0us/step\n",
            "Downloading data from https://storage.googleapis.com/tensorflow/tf-keras-datasets/t10k-images-idx3-ubyte.gz\n",
            "4423680/4422102 [==============================] - 0s 0us/step\n",
            "x_train shape: (60000, 28, 28) y_train shape: (60000,)\n"
          ],
          "name": "stdout"
        }
      ]
    },
    {
      "metadata": {
        "id": "7FYXGYew206c",
        "colab_type": "code",
        "colab": {
          "base_uri": "https://localhost:8080/",
          "height": 124
        },
        "outputId": "430ae6e7-82eb-48d9-ea59-bdf7fb05bda6"
      },
      "cell_type": "code",
      "source": [
        "# mount your Drive\n",
        "\n",
        "from google.colab import drive, files\n",
        "drive.mount('/content/drive/')\n"
      ],
      "execution_count": 11,
      "outputs": [
        {
          "output_type": "stream",
          "text": [
            "Go to this URL in a browser: https://accounts.google.com/o/oauth2/auth?client_id=947318989803-6bn6qk8qdgf4n4g3pfee6491hc0brc4i.apps.googleusercontent.com&redirect_uri=urn%3Aietf%3Awg%3Aoauth%3A2.0%3Aoob&scope=email%20https%3A%2F%2Fwww.googleapis.com%2Fauth%2Fdocs.test%20https%3A%2F%2Fwww.googleapis.com%2Fauth%2Fdrive%20https%3A%2F%2Fwww.googleapis.com%2Fauth%2Fdrive.photos.readonly%20https%3A%2F%2Fwww.googleapis.com%2Fauth%2Fpeopleapi.readonly&response_type=code\n",
            "\n",
            "Enter your authorization code:\n",
            "··········\n",
            "Mounted at /content/drive/\n"
          ],
          "name": "stdout"
        }
      ]
    },
    {
      "metadata": {
        "id": "jVroGfVviCJv",
        "colab_type": "text"
      },
      "cell_type": "markdown",
      "source": [
        "Combining train and test data"
      ]
    },
    {
      "metadata": {
        "id": "7oBnyguTg13e",
        "colab_type": "code",
        "colab": {}
      },
      "cell_type": "code",
      "source": [
        "y = np.concatenate((y_train, y_test))\n",
        "x = np.concatenate((x_train, x_test))"
      ],
      "execution_count": 0,
      "outputs": []
    },
    {
      "metadata": {
        "id": "J1kW1cAhiE-U",
        "colab_type": "text"
      },
      "cell_type": "markdown",
      "source": [
        "Split data 20: 80 ratio for validation: training"
      ]
    },
    {
      "metadata": {
        "id": "BXo-F5TAiAc9",
        "colab_type": "code",
        "colab": {}
      },
      "cell_type": "code",
      "source": [
        "from sklearn.model_selection import train_test_split\n",
        "\n",
        "\n",
        "x_train, x_test, y_train, y_test = train_test_split(x, y, test_size=0.20, random_state=42)"
      ],
      "execution_count": 0,
      "outputs": []
    },
    {
      "metadata": {
        "id": "sTePXPkFi1ts",
        "colab_type": "code",
        "outputId": "0c3c8536-c35f-4e08-8698-9be5ec49f223",
        "colab": {
          "base_uri": "https://localhost:8080/",
          "height": 52
        }
      },
      "cell_type": "code",
      "source": [
        "print(\"x_train shape:\", x_train.shape, \"y_train shape:\", y_train.shape)\n",
        "print(\"x_test shape:\", x_test.shape, \"y_test shape:\", y_test.shape)"
      ],
      "execution_count": 14,
      "outputs": [
        {
          "output_type": "stream",
          "text": [
            "x_train shape: (56000, 28, 28) y_train shape: (56000,)\n",
            "x_test shape: (14000, 28, 28) y_test shape: (14000,)\n"
          ],
          "name": "stdout"
        }
      ]
    },
    {
      "metadata": {
        "id": "tWORMSC8FDR4",
        "colab_type": "text"
      },
      "cell_type": "markdown",
      "source": [
        "## Visualize the data"
      ]
    },
    {
      "metadata": {
        "id": "aFe4wHGRFKle",
        "colab_type": "code",
        "outputId": "2c81a06d-976a-429c-8a49-9e6adb4e048a",
        "colab": {
          "base_uri": "https://localhost:8080/",
          "height": 417
        }
      },
      "cell_type": "code",
      "source": [
        "\n",
        "# Print the number of training and test datasets\n",
        "print(x_train.shape[0], 'train set')\n",
        "print(x_test.shape[0], 'test set')\n",
        "\n",
        "# Define the text labels\n",
        "fashion_mnist_labels = [\"T-shirt/top\",  # index 0\n",
        "                        \"Trouser\",      # index 1\n",
        "                        \"Pullover\",     # index 2 \n",
        "                        \"Dress\",        # index 3 \n",
        "                        \"Coat\",         # index 4\n",
        "                        \"Sandal\",       # index 5\n",
        "                        \"Shirt\",        # index 6 \n",
        "                        \"Sneaker\",      # index 7 \n",
        "                        \"Bag\",          # index 8 \n",
        "                        \"Ankle boot\"]   # index 9\n",
        "\n",
        "# Image index, you can pick any number between 0 and 59,999\n",
        "img_index = 5\n",
        "# y_train contains the lables, ranging from 0 to 9\n",
        "label_index = y_train[img_index]\n",
        "# Print the label, for example 2 Pullover\n",
        "print (\"y = \" + str(label_index) + \" \" +(fashion_mnist_labels[label_index]))\n",
        "# # Show one of the images from the training dataset\n",
        "plt.imshow(x_train[img_index])"
      ],
      "execution_count": 15,
      "outputs": [
        {
          "output_type": "stream",
          "text": [
            "56000 train set\n",
            "14000 test set\n",
            "y = 7 Sneaker\n"
          ],
          "name": "stdout"
        },
        {
          "output_type": "execute_result",
          "data": {
            "text/plain": [
              "<matplotlib.image.AxesImage at 0x7f400f96b208>"
            ]
          },
          "metadata": {
            "tags": []
          },
          "execution_count": 15
        },
        {
          "output_type": "display_data",
          "data": {
            "image/png": "[encoded data removed]",
            "text/plain": [
              "<Figure size 576x396 with 1 Axes>"
            ]
          },
          "metadata": {
            "tags": []
          }
        }
      ]
    },
    {
      "metadata": {
        "id": "Zx-Ee6LHZZgt",
        "colab_type": "text"
      },
      "cell_type": "markdown",
      "source": [
        "## Data normalization\n",
        "Normalize the data dimensions so that they are of approximately the same scale."
      ]
    },
    {
      "metadata": {
        "id": "XNh5NIckZZgu",
        "colab_type": "code",
        "colab": {}
      },
      "cell_type": "code",
      "source": [
        "x_train = x_train.astype('float32') / 255\n",
        "x_test = x_test.astype('float32') / 255"
      ],
      "execution_count": 0,
      "outputs": []
    },
    {
      "metadata": {
        "id": "LMSg53fiZZgx",
        "colab_type": "code",
        "outputId": "5a26d6c3-a2e8-44a9-d4ce-5cc5cf38e8d2",
        "colab": {
          "base_uri": "https://localhost:8080/",
          "height": 52
        }
      },
      "cell_type": "code",
      "source": [
        "print(\"Number of train data - \" + str(len(x_train)))\n",
        "print(\"Number of test data - \" + str(len(x_test)))"
      ],
      "execution_count": 17,
      "outputs": [
        {
          "output_type": "stream",
          "text": [
            "Number of train data - 56000\n",
            "Number of test data - 14000\n"
          ],
          "name": "stdout"
        }
      ]
    },
    {
      "metadata": {
        "id": "1ShU787gZZg0",
        "colab_type": "code",
        "outputId": "b0db8562-f24a-4ad4-d599-d63368b159f4",
        "colab": {
          "base_uri": "https://localhost:8080/",
          "height": 69
        }
      },
      "cell_type": "code",
      "source": [
        "# Reshape input data from (28, 28) to (28, 28, 1)\n",
        "w, h = 28, 28\n",
        "x_train = x_train.reshape(x_train.shape[0], w, h, 1)\n",
        "x_test = x_test.reshape(x_test.shape[0], w, h, 1)\n",
        "\n",
        "# One-hot encode the labels\n",
        "y_train = tf.keras.utils.to_categorical(y_train, 10)\n",
        "y_test = tf.keras.utils.to_categorical(y_test, 10)\n",
        "\n",
        "# Print training set shape\n",
        "print(\"x_train shape:\", x_train.shape, \"y_train shape:\", y_train.shape)\n",
        "\n",
        "# Print the number of training, validation, and test datasets\n",
        "print(x_train.shape[0], 'train set')\n",
        "print(x_test.shape[0], 'test set')"
      ],
      "execution_count": 18,
      "outputs": [
        {
          "output_type": "stream",
          "text": [
            "x_train shape: (56000, 28, 28, 1) y_train shape: (56000, 10)\n",
            "56000 train set\n",
            "14000 test set\n"
          ],
          "name": "stdout"
        }
      ]
    },
    {
      "metadata": {
        "id": "jiGV3HYTpGLF",
        "colab_type": "text"
      },
      "cell_type": "markdown",
      "source": [
        "#CNN"
      ]
    },
    {
      "metadata": {
        "id": "QgTZ47SsZZg4",
        "colab_type": "code",
        "outputId": "9890d947-3e01-461c-c539-473c277ef73f",
        "colab": {
          "base_uri": "https://localhost:8080/",
          "height": 609
        }
      },
      "cell_type": "code",
      "source": [
        "model = tf.keras.Sequential()\n",
        "\n",
        "# Must define the input shape in the first layer of the neural network\n",
        "model.add(tf.keras.layers.Conv2D(filters=64, kernel_size=2, padding='same', activation='relu', input_shape=(28,28,1))) \n",
        "model.add(tf.keras.layers.MaxPooling2D(pool_size=2))\n",
        "model.add(tf.keras.layers.Dropout(0.3))\n",
        "\n",
        "model.add(tf.keras.layers.Conv2D(filters=32, kernel_size=2, padding='same', activation='relu'))\n",
        "model.add(tf.keras.layers.MaxPooling2D(pool_size=2))\n",
        "model.add(tf.keras.layers.Dropout(0.3))\n",
        "\n",
        "model.add(tf.keras.layers.Flatten())\n",
        "model.add(tf.keras.layers.Dense(256, activation='relu'))\n",
        "model.add(tf.keras.layers.Dropout(0.5))\n",
        "model.add(tf.keras.layers.Dense(10, activation='softmax'))\n",
        "\n",
        "# Take a look at the model summary\n",
        "model.summary()"
      ],
      "execution_count": 19,
      "outputs": [
        {
          "output_type": "stream",
          "text": [
            "WARNING:tensorflow:From /usr/local/lib/python3.6/dist-packages/tensorflow/python/ops/resource_variable_ops.py:435: colocate_with (from tensorflow.python.framework.ops) is deprecated and will be removed in a future version.\n",
            "Instructions for updating:\n",
            "Colocations handled automatically by placer.\n",
            "WARNING:tensorflow:From /usr/local/lib/python3.6/dist-packages/tensorflow/python/keras/layers/core.py:143: calling dropout (from tensorflow.python.ops.nn_ops) with keep_prob is deprecated and will be removed in a future version.\n",
            "Instructions for updating:\n",
            "Please use `rate` instead of `keep_prob`. Rate should be set to `rate = 1 - keep_prob`.\n",
            "_________________________________________________________________\n",
            "Layer (type)                 Output Shape              Param #   \n",
            "=================================================================\n",
            "conv2d (Conv2D)              (None, 28, 28, 64)        320       \n",
            "_________________________________________________________________\n",
            "max_pooling2d (MaxPooling2D) (None, 14, 14, 64)        0         \n",
            "_________________________________________________________________\n",
            "dropout (Dropout)            (None, 14, 14, 64)        0         \n",
            "_________________________________________________________________\n",
            "conv2d_1 (Conv2D)            (None, 14, 14, 32)        8224      \n",
            "_________________________________________________________________\n",
            "max_pooling2d_1 (MaxPooling2 (None, 7, 7, 32)          0         \n",
            "_________________________________________________________________\n",
            "dropout_1 (Dropout)          (None, 7, 7, 32)          0         \n",
            "_________________________________________________________________\n",
            "flatten (Flatten)            (None, 1568)              0         \n",
            "_________________________________________________________________\n",
            "dense (Dense)                (None, 256)               401664    \n",
            "_________________________________________________________________\n",
            "dropout_2 (Dropout)          (None, 256)               0         \n",
            "_________________________________________________________________\n",
            "dense_1 (Dense)              (None, 10)                2570      \n",
            "=================================================================\n",
            "Total params: 412,778\n",
            "Trainable params: 412,778\n",
            "Non-trainable params: 0\n",
            "_________________________________________________________________\n"
          ],
          "name": "stdout"
        }
      ]
    },
    {
      "metadata": {
        "id": "FhxJ5dinZZg8",
        "colab_type": "text"
      },
      "cell_type": "markdown",
      "source": [
        "# Compile the model\n",
        "\n"
      ]
    },
    {
      "metadata": {
        "id": "CQUlOa8cZZg9",
        "colab_type": "code",
        "colab": {}
      },
      "cell_type": "code",
      "source": [
        "model.compile(loss='categorical_crossentropy',\n",
        "             optimizer='adam',\n",
        "             metrics=['accuracy'])"
      ],
      "execution_count": 0,
      "outputs": []
    },
    {
      "metadata": {
        "id": "DtOvh3YVZZg_",
        "colab_type": "text"
      },
      "cell_type": "markdown",
      "source": [
        "## Train the model\n",
        "\n",
        "\n"
      ]
    },
    {
      "metadata": {
        "id": "ZTmapAttZZhA",
        "colab_type": "code",
        "outputId": "82594d83-aa8c-4297-9d63-3df4b464c274",
        "colab": {
          "base_uri": "https://localhost:8080/",
          "height": 745
        }
      },
      "cell_type": "code",
      "source": [
        "from google.colab import drive, files\n",
        "\n",
        "from tensorflow.keras.callbacks import ModelCheckpoint\n",
        "\n",
        "filepath=\"/content/drive/My Drive/Colab Notebooks/myweights.hdf5\"\n",
        "\n",
        "checkpointer = ModelCheckpoint(filepath, monitor='loss', verbose=1, save_best_only=True,mode='min')\n",
        "\n",
        "model.fit(x_train,\n",
        "         y_train,\n",
        "         batch_size=64,\n",
        "         epochs=10,\n",
        "         validation_data=(x_test, y_test),\n",
        "         callbacks = [checkpointer])"
      ],
      "execution_count": 43,
      "outputs": [
        {
          "output_type": "stream",
          "text": [
            "Train on 56000 samples, validate on 14000 samples\n",
            "Epoch 1/10\n",
            "55872/56000 [============================>.] - ETA: 0s - loss: 0.2878 - acc: 0.8949\n",
            "Epoch 00001: loss improved from inf to 0.28774, saving model to /content/drive/My Drive/Colab Notebooks/myweights.hdf5\n",
            "56000/56000 [==============================] - 9s 163us/sample - loss: 0.2877 - acc: 0.8950 - val_loss: 0.2343 - val_acc: 0.9116\n",
            "Epoch 2/10\n",
            "55872/56000 [============================>.] - ETA: 0s - loss: 0.2733 - acc: 0.9005\n",
            "Epoch 00002: loss improved from 0.28774 to 0.27377, saving model to /content/drive/My Drive/Colab Notebooks/myweights.hdf5\n",
            "56000/56000 [==============================] - 9s 161us/sample - loss: 0.2738 - acc: 0.9003 - val_loss: 0.2279 - val_acc: 0.9161\n",
            "Epoch 3/10\n",
            "55872/56000 [============================>.] - ETA: 0s - loss: 0.2693 - acc: 0.9006\n",
            "Epoch 00003: loss improved from 0.27377 to 0.26938, saving model to /content/drive/My Drive/Colab Notebooks/myweights.hdf5\n",
            "56000/56000 [==============================] - 10s 171us/sample - loss: 0.2694 - acc: 0.9005 - val_loss: 0.2229 - val_acc: 0.9179\n",
            "Epoch 4/10\n",
            "55872/56000 [============================>.] - ETA: 0s - loss: 0.2634 - acc: 0.9028\n",
            "Epoch 00004: loss improved from 0.26938 to 0.26347, saving model to /content/drive/My Drive/Colab Notebooks/myweights.hdf5\n",
            "56000/56000 [==============================] - 10s 170us/sample - loss: 0.2635 - acc: 0.9028 - val_loss: 0.2292 - val_acc: 0.9154\n",
            "Epoch 5/10\n",
            "55744/56000 [============================>.] - ETA: 0s - loss: 0.2573 - acc: 0.9041\n",
            "Epoch 00005: loss improved from 0.26347 to 0.25738, saving model to /content/drive/My Drive/Colab Notebooks/myweights.hdf5\n",
            "56000/56000 [==============================] - 10s 172us/sample - loss: 0.2574 - acc: 0.9041 - val_loss: 0.2128 - val_acc: 0.9226\n",
            "Epoch 6/10\n",
            "55616/56000 [============================>.] - ETA: 0s - loss: 0.2525 - acc: 0.9061\n",
            "Epoch 00006: loss improved from 0.25738 to 0.25262, saving model to /content/drive/My Drive/Colab Notebooks/myweights.hdf5\n",
            "56000/56000 [==============================] - 9s 162us/sample - loss: 0.2526 - acc: 0.9060 - val_loss: 0.2133 - val_acc: 0.9210\n",
            "Epoch 7/10\n",
            "55936/56000 [============================>.] - ETA: 0s - loss: 0.2486 - acc: 0.9086\n",
            "Epoch 00007: loss improved from 0.25262 to 0.24863, saving model to /content/drive/My Drive/Colab Notebooks/myweights.hdf5\n",
            "56000/56000 [==============================] - 10s 173us/sample - loss: 0.2486 - acc: 0.9085 - val_loss: 0.2147 - val_acc: 0.9221\n",
            "Epoch 8/10\n",
            "55936/56000 [============================>.] - ETA: 0s - loss: 0.2446 - acc: 0.9096\n",
            "Epoch 00008: loss improved from 0.24863 to 0.24464, saving model to /content/drive/My Drive/Colab Notebooks/myweights.hdf5\n",
            "56000/56000 [==============================] - 10s 172us/sample - loss: 0.2446 - acc: 0.9096 - val_loss: 0.2076 - val_acc: 0.9227\n",
            "Epoch 9/10\n",
            "55872/56000 [============================>.] - ETA: 0s - loss: 0.2387 - acc: 0.9115\n",
            "Epoch 00009: loss improved from 0.24464 to 0.23885, saving model to /content/drive/My Drive/Colab Notebooks/myweights.hdf5\n",
            "56000/56000 [==============================] - 10s 172us/sample - loss: 0.2389 - acc: 0.9114 - val_loss: 0.2140 - val_acc: 0.9204\n",
            "Epoch 10/10\n",
            "55808/56000 [============================>.] - ETA: 0s - loss: 0.2414 - acc: 0.9103\n",
            "Epoch 00010: loss did not improve from 0.23885\n",
            "56000/56000 [==============================] - 9s 160us/sample - loss: 0.2412 - acc: 0.9104 - val_loss: 0.2119 - val_acc: 0.9224\n"
          ],
          "name": "stdout"
        },
        {
          "output_type": "execute_result",
          "data": {
            "text/plain": [
              "<tensorflow.python.keras.callbacks.History at 0x7f40026070f0>"
            ]
          },
          "metadata": {
            "tags": []
          },
          "execution_count": 43
        }
      ]
    },
    {
      "metadata": {
        "id": "vR_uF-fJSMuv",
        "colab_type": "text"
      },
      "cell_type": "markdown",
      "source": [
        "#Load model with best accuracy"
      ]
    },
    {
      "metadata": {
        "id": "X0qSBdFaR4EE",
        "colab_type": "code",
        "colab": {}
      },
      "cell_type": "code",
      "source": [
        "model.load_weights(\"/content/drive/My Drive/Colab Notebooks/myweights.hdf5\")"
      ],
      "execution_count": 0,
      "outputs": []
    },
    {
      "metadata": {
        "id": "9RTRkan4yq5H",
        "colab_type": "text"
      },
      "cell_type": "markdown",
      "source": [
        "## Test Accuracy"
      ]
    },
    {
      "metadata": {
        "id": "VZtqBqFFy62R",
        "colab_type": "code",
        "outputId": "5deb0c93-a146-415d-fc6e-e30b2d2115f2",
        "colab": {
          "base_uri": "https://localhost:8080/",
          "height": 52
        }
      },
      "cell_type": "code",
      "source": [
        "# Evaluate the model on test set\n",
        "score = model.evaluate(x_test, y_test, verbose=0)\n",
        "\n",
        "# Print test accuracy\n",
        "print('\\n', 'Test accuracy:', score[1])"
      ],
      "execution_count": 22,
      "outputs": [
        {
          "output_type": "stream",
          "text": [
            "\n",
            " Test accuracy: 0.91492856\n"
          ],
          "name": "stdout"
        }
      ]
    },
    {
      "metadata": {
        "id": "oJv7XEk10bOv",
        "colab_type": "text"
      },
      "cell_type": "markdown",
      "source": [
        "## Visualize prediction\n",
        "Now let's visualize the prediction using the model you just trained. \n",
        "First we get the predictions with the model from the test data.\n",
        "Then we print out 15 images from the test data set, and set the titles with the prediction (and the groud truth label).\n",
        "If the prediction matches the true label, the title will be green; otherwise it's displayed in red."
      ]
    },
    {
      "metadata": {
        "id": "QwNmlfIC0YxM",
        "colab_type": "code",
        "outputId": "50eafd8d-2665-4841-88db-ecced112eb14",
        "colab": {
          "base_uri": "https://localhost:8080/",
          "height": 481
        }
      },
      "cell_type": "code",
      "source": [
        "y_hat = model.predict(x_test)\n",
        "\n",
        "# Plot a random sample of 10 test images, their predicted labels and ground truth\n",
        "figure = plt.figure(figsize=(20, 8))\n",
        "for i, index in enumerate(np.random.choice(x_test.shape[0], size=15, replace=False)):\n",
        "    ax = figure.add_subplot(3, 5, i + 1, xticks=[], yticks=[])\n",
        "    # Display each image\n",
        "    ax.imshow(np.squeeze(x_test[index]))\n",
        "    predict_index = np.argmax(y_hat[index])\n",
        "    true_index = np.argmax(y_test[index])\n",
        "    # Set the title for each image\n",
        "    ax.set_title(\"{} ({})\".format(fashion_mnist_labels[predict_index], \n",
        "                                  fashion_mnist_labels[true_index]),\n",
        "                                  color=(\"green\" if predict_index == true_index else \"red\"))"
      ],
      "execution_count": 33,
      "outputs": [
        {
          "output_type": "display_data",
          "data": {
            "image/png": "[encoded data removed]",
            "text/plain": [
              "<Figure size 1440x576 with 15 Axes>"
            ]
          },
          "metadata": {
            "tags": []
          }
        }
      ]
    },
    {
      "metadata": {
        "id": "g94ZWdzbqGjh",
        "colab_type": "text"
      },
      "cell_type": "markdown",
      "source": [
        "#Feature Standardization"
      ]
    },
    {
      "metadata": {
        "id": "dEBxFCXrqFiC",
        "colab_type": "code",
        "outputId": "eefe5012-c23c-45e0-beb7-7bd13f48fe1a",
        "colab": {
          "base_uri": "https://localhost:8080/",
          "height": 785
        }
      },
      "cell_type": "code",
      "source": [
        "from keras.preprocessing.image import ImageDataGenerator\n",
        "from matplotlib import pyplot\n",
        "from keras import backend as K\n",
        "K.set_image_dim_ordering('th')\n",
        " \n",
        "# define data preparation\n",
        "datagen = ImageDataGenerator(featurewise_center=True, featurewise_std_normalization=True)\n",
        "# fit parameters from data\n",
        "datagen.fit(x_train)\n",
        "\n",
        "# fits the model on batches with real-time data augmentation:\n",
        "model.fit_generator(datagen.flow(x_train, y_train, batch_size=32),\n",
        "                    steps_per_epoch=len(x_train) / 32, epochs=10)\n",
        "\n",
        "# configure batch size and retrieve one batch of images\n",
        "for X_batch, y_batch in datagen.flow(x_train, x_train, batch_size=9):\n",
        "\t# create a grid of 3x3 images\n",
        "\tfor i in range(0, 9):\n",
        "\t\tpyplot.subplot(330 + 1 + i)\n",
        "\t\tpyplot.imshow(X_batch[i].reshape(28, 28), cmap=pyplot.get_cmap('gray'))\n",
        "\t# show the plot\n",
        "\tpyplot.show()\n",
        "\tbreak\n",
        "  \n",
        " "
      ],
      "execution_count": 34,
      "outputs": [
        {
          "output_type": "stream",
          "text": [
            "/usr/local/lib/python3.6/dist-packages/keras_preprocessing/image/image_data_generator.py:923: UserWarning: Expected input to be images (as Numpy array) following the data format convention \"channels_first\" (channels on axis 1), i.e. expected either 1, 3 or 4 channels on axis 1. However, it was passed an array with shape (56000, 28, 28, 1) (28 channels).\n",
            "  ' channels).')\n"
          ],
          "name": "stderr"
        },
        {
          "output_type": "stream",
          "text": [
            "Epoch 1/10\n",
            "  16/1750 [..............................] - ETA: 19s - loss: 0.6877 - acc: 0.8027"
          ],
          "name": "stdout"
        },
        {
          "output_type": "stream",
          "text": [
            "/usr/local/lib/python3.6/dist-packages/keras_preprocessing/image/numpy_array_iterator.py:127: UserWarning: NumpyArrayIterator is set to use the data format convention \"channels_first\" (channels on axis 1), i.e. expected either 1, 3, or 4 channels on axis 1. However, it was passed an array with shape (56000, 28, 28, 1) (28 channels).\n",
            "  str(self.x.shape[channels_axis]) + ' channels).')\n"
          ],
          "name": "stderr"
        },
        {
          "output_type": "stream",
          "text": [
            "1750/1750 [==============================] - 19s 11ms/step - loss: 0.3553 - acc: 0.8737\n",
            "Epoch 2/10\n",
            "1750/1750 [==============================] - 19s 11ms/step - loss: 0.3088 - acc: 0.8887\n",
            "Epoch 3/10\n",
            "1750/1750 [==============================] - 19s 11ms/step - loss: 0.2849 - acc: 0.8952\n",
            "Epoch 4/10\n",
            "1750/1750 [==============================] - 19s 11ms/step - loss: 0.2808 - acc: 0.8962\n",
            "Epoch 5/10\n",
            "1750/1750 [==============================] - 19s 11ms/step - loss: 0.2709 - acc: 0.8997\n",
            "Epoch 6/10\n",
            "1750/1750 [==============================] - 19s 11ms/step - loss: 0.2666 - acc: 0.9012\n",
            "Epoch 7/10\n",
            "1750/1750 [==============================] - 19s 11ms/step - loss: 0.2624 - acc: 0.9034\n",
            "Epoch 8/10\n",
            "1750/1750 [==============================] - 19s 11ms/step - loss: 0.2523 - acc: 0.9075\n",
            "Epoch 9/10\n",
            "1750/1750 [==============================] - 19s 11ms/step - loss: 0.2515 - acc: 0.9076\n",
            "Epoch 10/10\n",
            "1750/1750 [==============================] - 19s 11ms/step - loss: 0.2456 - acc: 0.9087\n"
          ],
          "name": "stdout"
        },
        {
          "output_type": "display_data",
          "data": {
            "image/png": "[encoded data removed]",
            "text/plain": [
              "<Figure size 576x396 with 9 Axes>"
            ]
          },
          "metadata": {
            "tags": []
          }
        }
      ]
    },
    {
      "metadata": {
        "id": "xSv1zrI4slzQ",
        "colab_type": "text"
      },
      "cell_type": "markdown",
      "source": [
        "#Feature standardization model accuracy"
      ]
    },
    {
      "metadata": {
        "id": "rTB8efWwr_l8",
        "colab_type": "code",
        "outputId": "4e9f3a3a-ebcd-4d64-aecb-414f51de1d5e",
        "colab": {
          "base_uri": "https://localhost:8080/",
          "height": 52
        }
      },
      "cell_type": "code",
      "source": [
        "print(\"Accuracy:\",model.evaluate(x_test, y_test, verbose=0)[1])\n",
        "print(\"Loss:\",model.evaluate(x_test, y_test, verbose=0)[0])"
      ],
      "execution_count": 35,
      "outputs": [
        {
          "output_type": "stream",
          "text": [
            "Accuracy: 0.5542143\n",
            "Loss: 1.674223568371364\n"
          ],
          "name": "stdout"
        }
      ]
    },
    {
      "metadata": {
        "id": "lnSLbeBXs9dE",
        "colab_type": "text"
      },
      "cell_type": "markdown",
      "source": [
        "#ZCA Whitening"
      ]
    },
    {
      "metadata": {
        "id": "ioi4gsKos8ME",
        "colab_type": "code",
        "outputId": "63e4e63f-5c25-4cdf-83eb-05b2ddf83830",
        "colab": {
          "base_uri": "https://localhost:8080/",
          "height": 820
        }
      },
      "cell_type": "code",
      "source": [
        "# ZCA whitening\n",
        "from keras.preprocessing.image import ImageDataGenerator\n",
        "from matplotlib import pyplot\n",
        "from keras import backend as K\n",
        "K.set_image_dim_ordering('th')\n",
        "\n",
        "# define data preparation\n",
        "datagen = ImageDataGenerator(zca_whitening=True)\n",
        "# fit parameters from data\n",
        "datagen.fit(x_train)\n",
        "model.fit_generator(datagen.flow(x_train, y_train, batch_size=32),\n",
        "                    steps_per_epoch=len(x_train) / 32, epochs=10)\n",
        "# configure batch size and retrieve one batch of images\n",
        "for X_batch, y_batch in datagen.flow(x_train, y_train, batch_size=9):\n",
        "\t# create a grid of 3x3 images\n",
        "\tfor i in range(0, 9):\n",
        "\t\tpyplot.subplot(330 + 1 + i)\n",
        "\t\tpyplot.imshow(X_batch[i].reshape(28, 28), cmap=pyplot.get_cmap('gray'))\n",
        "\t# show the plot\n",
        "\tpyplot.show()\n",
        "\tbreak"
      ],
      "execution_count": 36,
      "outputs": [
        {
          "output_type": "stream",
          "text": [
            "/usr/local/lib/python3.6/dist-packages/keras_preprocessing/image/image_data_generator.py:334: UserWarning: This ImageDataGenerator specifies `zca_whitening`, which overrides setting of `featurewise_center`.\n",
            "  warnings.warn('This ImageDataGenerator specifies '\n",
            "/usr/local/lib/python3.6/dist-packages/keras_preprocessing/image/image_data_generator.py:923: UserWarning: Expected input to be images (as Numpy array) following the data format convention \"channels_first\" (channels on axis 1), i.e. expected either 1, 3 or 4 channels on axis 1. However, it was passed an array with shape (56000, 28, 28, 1) (28 channels).\n",
            "  ' channels).')\n"
          ],
          "name": "stderr"
        },
        {
          "output_type": "stream",
          "text": [
            "Epoch 1/10\n",
            "  10/1750 [..............................] - ETA: 32s - loss: 2.0254 - acc: 0.6281"
          ],
          "name": "stdout"
        },
        {
          "output_type": "stream",
          "text": [
            "/usr/local/lib/python3.6/dist-packages/keras_preprocessing/image/numpy_array_iterator.py:127: UserWarning: NumpyArrayIterator is set to use the data format convention \"channels_first\" (channels on axis 1), i.e. expected either 1, 3, or 4 channels on axis 1. However, it was passed an array with shape (56000, 28, 28, 1) (28 channels).\n",
            "  str(self.x.shape[channels_axis]) + ' channels).')\n"
          ],
          "name": "stderr"
        },
        {
          "output_type": "stream",
          "text": [
            "1750/1750 [==============================] - 30s 17ms/step - loss: 0.4477 - acc: 0.8499\n",
            "Epoch 2/10\n",
            "1750/1750 [==============================] - 30s 17ms/step - loss: 0.3434 - acc: 0.8763\n",
            "Epoch 3/10\n",
            "1750/1750 [==============================] - 30s 17ms/step - loss: 0.3269 - acc: 0.8821\n",
            "Epoch 4/10\n",
            "1750/1750 [==============================] - 30s 17ms/step - loss: 0.3045 - acc: 0.8883\n",
            "Epoch 5/10\n",
            "1750/1750 [==============================] - 30s 17ms/step - loss: 0.3010 - acc: 0.8899\n",
            "Epoch 6/10\n",
            "1750/1750 [==============================] - 30s 17ms/step - loss: 0.2876 - acc: 0.8942\n",
            "Epoch 7/10\n",
            "1750/1750 [==============================] - 30s 17ms/step - loss: 0.2813 - acc: 0.8967\n",
            "Epoch 8/10\n",
            "1750/1750 [==============================] - 30s 17ms/step - loss: 0.2799 - acc: 0.8980\n",
            "Epoch 9/10\n",
            "1750/1750 [==============================] - 30s 17ms/step - loss: 0.2716 - acc: 0.8995\n",
            "Epoch 10/10\n",
            "1750/1750 [==============================] - 30s 17ms/step - loss: 0.2668 - acc: 0.9012\n"
          ],
          "name": "stdout"
        },
        {
          "output_type": "display_data",
          "data": {
            "image/png": "[encoded data removed]",
            "text/plain": [
              "<Figure size 576x396 with 9 Axes>"
            ]
          },
          "metadata": {
            "tags": []
          }
        }
      ]
    },
    {
      "metadata": {
        "id": "hOv7HtrDttvM",
        "colab_type": "text"
      },
      "cell_type": "markdown",
      "source": [
        "#ZCA Model accuracy"
      ]
    },
    {
      "metadata": {
        "id": "MDkXflmmtulu",
        "colab_type": "code",
        "outputId": "4bb7d5a4-0f01-4665-9ebb-8132de7a8007",
        "colab": {
          "base_uri": "https://localhost:8080/",
          "height": 52
        }
      },
      "cell_type": "code",
      "source": [
        "print(\"Accuracy:\",model.evaluate(x_test, y_test, verbose=0)[1])\n",
        "print(\"Loss:\",model.evaluate(x_test, y_test, verbose=0)[0])"
      ],
      "execution_count": 37,
      "outputs": [
        {
          "output_type": "stream",
          "text": [
            "Accuracy: 0.5227857\n",
            "Loss: 1.5148782826832363\n"
          ],
          "name": "stdout"
        }
      ]
    },
    {
      "metadata": {
        "id": "k35cvNdIIZNP",
        "colab_type": "text"
      },
      "cell_type": "markdown",
      "source": [
        "#Rotation"
      ]
    },
    {
      "metadata": {
        "id": "9KHf16IevdMy",
        "colab_type": "code",
        "outputId": "2955bfcb-d604-40ae-b14f-1520edb8ee2a",
        "colab": {
          "base_uri": "https://localhost:8080/",
          "height": 785
        }
      },
      "cell_type": "code",
      "source": [
        "from keras.preprocessing.image import ImageDataGenerator\n",
        " \n",
        "K.set_image_dim_ordering('th')\n",
        " \n",
        "datagen = ImageDataGenerator(rotation_range=90)\n",
        "# fit parameters from data\n",
        "datagen.fit(x_train)\n",
        "model.fit_generator(datagen.flow(x_train, y_train, batch_size=32),\n",
        "                    steps_per_epoch=len(x_train) / 32, epochs=10)\n",
        "# configure batch size and retrieve one batch of images\n",
        "for X_batch, y_batch in datagen.flow(x_train, y_train, batch_size=9):\n",
        "\t# create a grid of 3x3 images\n",
        "\tfor i in range(0, 9):\n",
        "\t\tpyplot.subplot(330 + 1 + i)\n",
        "\t\tpyplot.imshow(X_batch[i].reshape(28, 28), cmap=pyplot.get_cmap('gray'))\n",
        "\t# show the plot\n",
        "\tpyplot.show()\n",
        "\tbreak"
      ],
      "execution_count": 38,
      "outputs": [
        {
          "output_type": "stream",
          "text": [
            "Epoch 1/10\n",
            "   3/1750 [..............................] - ETA: 1:03 - loss: 3.4856 - acc: 0.3125"
          ],
          "name": "stdout"
        },
        {
          "output_type": "stream",
          "text": [
            "/usr/local/lib/python3.6/dist-packages/keras_preprocessing/image/image_data_generator.py:923: UserWarning: Expected input to be images (as Numpy array) following the data format convention \"channels_first\" (channels on axis 1), i.e. expected either 1, 3 or 4 channels on axis 1. However, it was passed an array with shape (56000, 28, 28, 1) (28 channels).\n",
            "  ' channels).')\n",
            "/usr/local/lib/python3.6/dist-packages/keras_preprocessing/image/numpy_array_iterator.py:127: UserWarning: NumpyArrayIterator is set to use the data format convention \"channels_first\" (channels on axis 1), i.e. expected either 1, 3, or 4 channels on axis 1. However, it was passed an array with shape (56000, 28, 28, 1) (28 channels).\n",
            "  str(self.x.shape[channels_axis]) + ' channels).')\n"
          ],
          "name": "stderr"
        },
        {
          "output_type": "stream",
          "text": [
            "1750/1750 [==============================] - 57s 33ms/step - loss: 0.7613 - acc: 0.7210\n",
            "Epoch 2/10\n",
            "1750/1750 [==============================] - 57s 32ms/step - loss: 0.6326 - acc: 0.7675\n",
            "Epoch 3/10\n",
            "1750/1750 [==============================] - 56s 32ms/step - loss: 0.6041 - acc: 0.7775\n",
            "Epoch 4/10\n",
            "1750/1750 [==============================] - 57s 32ms/step - loss: 0.5773 - acc: 0.7880\n",
            "Epoch 5/10\n",
            "1750/1750 [==============================] - 56s 32ms/step - loss: 0.5680 - acc: 0.7910\n",
            "Epoch 6/10\n",
            "1750/1750 [==============================] - 57s 32ms/step - loss: 0.5496 - acc: 0.7996\n",
            "Epoch 7/10\n",
            "1750/1750 [==============================] - 57s 32ms/step - loss: 0.5433 - acc: 0.8001\n",
            "Epoch 8/10\n",
            "1750/1750 [==============================] - 57s 32ms/step - loss: 0.5323 - acc: 0.8043\n",
            "Epoch 9/10\n",
            "1750/1750 [==============================] - 56s 32ms/step - loss: 0.5297 - acc: 0.8038\n",
            "Epoch 10/10\n",
            "1750/1750 [==============================] - 57s 32ms/step - loss: 0.5193 - acc: 0.8077\n"
          ],
          "name": "stdout"
        },
        {
          "output_type": "display_data",
          "data": {
            "image/png": "[encoded data removed]",
            "text/plain": [
              "<Figure size 576x396 with 9 Axes>"
            ]
          },
          "metadata": {
            "tags": []
          }
        }
      ]
    },
    {
      "metadata": {
        "id": "Iz6RQB1vttkM",
        "colab_type": "text"
      },
      "cell_type": "markdown",
      "source": [
        "#Rotation Accuracy"
      ]
    },
    {
      "metadata": {
        "id": "gXr7w55vvwET",
        "colab_type": "code",
        "outputId": "c3143bef-213e-4566-9baf-d1ef4e9c7bd7",
        "colab": {
          "base_uri": "https://localhost:8080/",
          "height": 52
        }
      },
      "cell_type": "code",
      "source": [
        "print(\"Accuracy:\",model.evaluate(x_test, y_test, verbose=0)[1])\n",
        "print(\"Loss:\",model.evaluate(x_test, y_test, verbose=0)[0])"
      ],
      "execution_count": 39,
      "outputs": [
        {
          "output_type": "stream",
          "text": [
            "Accuracy: 0.90314287\n",
            "Loss: 0.26809630179405214\n"
          ],
          "name": "stdout"
        }
      ]
    },
    {
      "metadata": {
        "id": "MQWQcI7UA8Fi",
        "colab_type": "text"
      },
      "cell_type": "markdown",
      "source": [
        "#Random shifts"
      ]
    },
    {
      "metadata": {
        "id": "jHR8MStcA7Xy",
        "colab_type": "code",
        "colab": {
          "base_uri": "https://localhost:8080/",
          "height": 959
        },
        "outputId": "c6472e62-9d32-4db3-b045-e2b4df5334c6"
      },
      "cell_type": "code",
      "source": [
        "from keras.preprocessing.image import ImageDataGenerator\n",
        "from matplotlib import pyplot\n",
        "from keras import backend as K\n",
        "K.set_image_dim_ordering('th')\n",
        "\n",
        "# define data preparation\n",
        "shift = 0.2\n",
        "datagen = ImageDataGenerator(width_shift_range=shift, height_shift_range=shift)\n",
        "# fit parameters from data\n",
        "datagen.fit(x_train)\n",
        "model.fit_generator(datagen.flow(x_train, y_train, batch_size=32),steps_per_epoch=len(x_train) / 32, epochs=10,validation_data = (x_test,y_test))\n",
        "\n",
        "# configure batch size and retrieve one batch of images\n",
        "for X_batch, y_batch in datagen.flow(x_train, y_train, batch_size=9):\n",
        "\t# create a grid of 3x3 images\n",
        "\tfor i in range(0, 9):\n",
        "\t\tpyplot.subplot(330 + 1 + i)\n",
        "\t\tpyplot.imshow(X_batch[i].reshape(28, 28), cmap=pyplot.get_cmap('gray'))\n",
        "\t# show the plot\n",
        "\tpyplot.show()\n",
        "\tbreak"
      ],
      "execution_count": 40,
      "outputs": [
        {
          "output_type": "stream",
          "text": [
            "Epoch 1/10\n",
            "   3/1750 [..............................] - ETA: 1:04 - loss: 1.3519 - acc: 0.6042"
          ],
          "name": "stdout"
        },
        {
          "output_type": "stream",
          "text": [
            "/usr/local/lib/python3.6/dist-packages/keras_preprocessing/image/image_data_generator.py:923: UserWarning: Expected input to be images (as Numpy array) following the data format convention \"channels_first\" (channels on axis 1), i.e. expected either 1, 3 or 4 channels on axis 1. However, it was passed an array with shape (56000, 28, 28, 1) (28 channels).\n",
            "  ' channels).')\n",
            "/usr/local/lib/python3.6/dist-packages/keras_preprocessing/image/numpy_array_iterator.py:127: UserWarning: NumpyArrayIterator is set to use the data format convention \"channels_first\" (channels on axis 1), i.e. expected either 1, 3, or 4 channels on axis 1. However, it was passed an array with shape (56000, 28, 28, 1) (28 channels).\n",
            "  str(self.x.shape[channels_axis]) + ' channels).')\n"
          ],
          "name": "stderr"
        },
        {
          "output_type": "stream",
          "text": [
            "14000/14000 [==============================] - 2s 141us/sample - loss: 0.3160 - acc: 0.8851\n",
            "1750/1750 [==============================] - 61s 35ms/step - loss: 0.5401 - acc: 0.8052 - val_loss: 0.3164 - val_acc: 0.8851\n",
            "Epoch 2/10\n",
            "14000/14000 [==============================] - 2s 141us/sample - loss: 0.2633 - acc: 0.9016\n",
            "1750/1750 [==============================] - 61s 35ms/step - loss: 0.4613 - acc: 0.8325 - val_loss: 0.2634 - val_acc: 0.9016\n",
            "Epoch 3/10\n",
            "14000/14000 [==============================] - 2s 140us/sample - loss: 0.2561 - acc: 0.9065\n",
            "1750/1750 [==============================] - 61s 35ms/step - loss: 0.4364 - acc: 0.8423 - val_loss: 0.2562 - val_acc: 0.9065\n",
            "Epoch 4/10\n",
            "14000/14000 [==============================] - 2s 140us/sample - loss: 0.2714 - acc: 0.9002\n",
            "1750/1750 [==============================] - 60s 35ms/step - loss: 0.4227 - acc: 0.8465 - val_loss: 0.2716 - val_acc: 0.9002\n",
            "Epoch 5/10\n",
            "14000/14000 [==============================] - 2s 140us/sample - loss: 0.2500 - acc: 0.9070\n",
            "1750/1750 [==============================] - 61s 35ms/step - loss: 0.4087 - acc: 0.8517 - val_loss: 0.2501 - val_acc: 0.9070\n",
            "Epoch 6/10\n",
            "14000/14000 [==============================] - 2s 141us/sample - loss: 0.2564 - acc: 0.9049\n",
            "1750/1750 [==============================] - 61s 35ms/step - loss: 0.4013 - acc: 0.8553 - val_loss: 0.2566 - val_acc: 0.9049\n",
            "Epoch 7/10\n",
            "14000/14000 [==============================] - 2s 142us/sample - loss: 0.2537 - acc: 0.9073\n",
            "1750/1750 [==============================] - 61s 35ms/step - loss: 0.3989 - acc: 0.8566 - val_loss: 0.2537 - val_acc: 0.9073\n",
            "Epoch 8/10\n",
            "14000/14000 [==============================] - 2s 141us/sample - loss: 0.2732 - acc: 0.8968\n",
            "1750/1750 [==============================] - 61s 35ms/step - loss: 0.3918 - acc: 0.8583 - val_loss: 0.2735 - val_acc: 0.8968\n",
            "Epoch 9/10\n",
            "14000/14000 [==============================] - 2s 142us/sample - loss: 0.2473 - acc: 0.9115\n",
            "1750/1750 [==============================] - 61s 35ms/step - loss: 0.3819 - acc: 0.8596 - val_loss: 0.2473 - val_acc: 0.9115\n",
            "Epoch 10/10\n",
            "14000/14000 [==============================] - 2s 140us/sample - loss: 0.2509 - acc: 0.9073\n",
            "1750/1750 [==============================] - 61s 35ms/step - loss: 0.3828 - acc: 0.8601 - val_loss: 0.2510 - val_acc: 0.9073\n"
          ],
          "name": "stdout"
        },
        {
          "output_type": "display_data",
          "data": {
            "image/png": "[encoded data removed]",
            "text/plain": [
              "<Figure size 576x396 with 9 Axes>"
            ]
          },
          "metadata": {
            "tags": []
          }
        }
      ]
    },
    {
      "metadata": {
        "id": "sUFZ1Ih0F_JD",
        "colab_type": "text"
      },
      "cell_type": "markdown",
      "source": [
        "#Random shifts accuracy"
      ]
    },
    {
      "metadata": {
        "id": "qis6IHjgBDj1",
        "colab_type": "code",
        "colab": {
          "base_uri": "https://localhost:8080/",
          "height": 52
        },
        "outputId": "55e2060e-0056-41c9-fbc8-73084cb4643b"
      },
      "cell_type": "code",
      "source": [
        "print(\"Accuracy:\",model.evaluate(x_test, y_test, verbose=0)[1])\n",
        "print(\"Loss:\",model.evaluate(x_test, y_test, verbose=0)[0])"
      ],
      "execution_count": 41,
      "outputs": [
        {
          "output_type": "stream",
          "text": [
            "Accuracy: 0.9072857\n",
            "Loss: 0.2508672508554799\n"
          ],
          "name": "stdout"
        }
      ]
    }
  ]
}