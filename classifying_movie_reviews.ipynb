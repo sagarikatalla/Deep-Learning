{
  "nbformat": 4,
  "nbformat_minor": 0,
  "metadata": {
    "colab": {
      "name": "Sagarika, 2798178,3.5-classifying-movie-reviews.ipynb",
      "version": "0.3.2",
      "provenance": [],
      "collapsed_sections": []
    },
    "kernelspec": {
      "display_name": "Python 3",
      "language": "python",
      "name": "python3"
    }
  },
  "cells": [
    {
      "metadata": {
        "id": "63K_5Tze5Fww",
        "colab_type": "code",
        "outputId": "08c4e915-1fab-4255-c3b4-4d5912abe560",
        "colab": {
          "base_uri": "https://localhost:8080/",
          "height": 52
        }
      },
      "cell_type": "code",
      "source": [
        "import keras\n",
        "keras.__version__"
      ],
      "execution_count": 1,
      "outputs": [
        {
          "output_type": "stream",
          "text": [
            "Using TensorFlow backend.\n"
          ],
          "name": "stderr"
        },
        {
          "output_type": "execute_result",
          "data": {
            "text/plain": [
              "'2.2.4'"
            ]
          },
          "metadata": {
            "tags": []
          },
          "execution_count": 1
        }
      ]
    },
    {
      "metadata": {
        "id": "krcOWBI95FxV",
        "colab_type": "text"
      },
      "cell_type": "markdown",
      "source": [
        "# Classifying movie reviews: a binary classification example\n",
        "\n",
        "This notebook contains the code samples found in Chapter 3, Section 5 of [Deep Learning with Python](https://www.manning.com/books/deep-learning-with-python?a_aid=keras&a_bid=76564dff). Note that the original text features far more content, in particular further explanations and figures: in this notebook, you will only find source code and related comments.\n",
        "\n",
        "----\n",
        "\n",
        "\n",
        "Two-class classification, or binary classification, may be the most widely applied kind of machine learning problem. In this example, we \n",
        "will learn to classify movie reviews into \"positive\" reviews and \"negative\" reviews, just based on the text content of the reviews."
      ]
    },
    {
      "metadata": {
        "id": "hi8jAq9d5Fxb",
        "colab_type": "text"
      },
      "cell_type": "markdown",
      "source": [
        "## The IMDB dataset\n",
        "\n",
        "\n",
        "We'll be working with \"IMDB dataset\", a set of 50,000 highly-polarized reviews from the Internet Movie Database. They are split into 25,000 \n",
        "reviews for training and 25,000 reviews for testing, each set consisting in 50% negative and 50% positive reviews.\n",
        "\n",
        "Why do we have these two separate training and test sets? You should never test a machine learning model on the same data that you used to \n",
        "train it! Just because a model performs well on its training data doesn't mean that it will perform well on data it has never seen, and \n",
        "what you actually care about is your model's performance on new data (since you already know the labels of your training data -- obviously \n",
        "you don't need your model to predict those). For instance, it is possible that your model could end up merely _memorizing_ a mapping between \n",
        "your training samples and their targets -- which would be completely useless for the task of predicting targets for data never seen before. \n",
        "We will go over this point in much more detail in the next chapter.\n",
        "\n",
        "Just like the MNIST dataset, the IMDB dataset comes packaged with Keras. It has already been preprocessed: the reviews (sequences of words) \n",
        "have been turned into sequences of integers, where each integer stands for a specific word in a dictionary.\n",
        "\n",
        "The following code will load the dataset (when you run it for the first time, about 80MB of data will be downloaded to your machine):"
      ]
    },
    {
      "metadata": {
        "id": "XEqsfTyg5Fxn",
        "colab_type": "code",
        "colab": {
          "base_uri": "https://localhost:8080/",
          "height": 52
        },
        "outputId": "6146b689-8c96-45a0-a7fd-b6b399961acc"
      },
      "cell_type": "code",
      "source": [
        "from keras.datasets import imdb\n",
        "\n",
        "(train_data, train_labels), (test_data, test_labels) = imdb.load_data(num_words=10000)"
      ],
      "execution_count": 2,
      "outputs": [
        {
          "output_type": "stream",
          "text": [
            "Downloading data from https://s3.amazonaws.com/text-datasets/imdb.npz\n",
            "17465344/17464789 [==============================] - 1s 0us/step\n"
          ],
          "name": "stdout"
        }
      ]
    },
    {
      "metadata": {
        "id": "8V_QTqgR5FyD",
        "colab_type": "text"
      },
      "cell_type": "markdown",
      "source": [
        "\n",
        "The argument `num_words=10000` means that we will only keep the top 10,000 most frequently occurring words in the training data. Rare words \n",
        "will be discarded. This allows us to work with vector data of manageable size.\n",
        "\n",
        "The variables `train_data` and `test_data` are lists of reviews, each review being a list of word indices (encoding a sequence of words). \n",
        "`train_labels` and `test_labels` are lists of 0s and 1s, where 0 stands for \"negative\" and 1 stands for \"positive\":"
      ]
    },
    {
      "metadata": {
        "id": "8SasAdQC5FyO",
        "colab_type": "code",
        "outputId": "28d77c93-400d-4ff8-b22e-1423ffd0cb3c",
        "colab": {
          "base_uri": "https://localhost:8080/",
          "height": 3796
        }
      },
      "cell_type": "code",
      "source": [
        "train_data[0]"
      ],
      "execution_count": 3,
      "outputs": [
        {
          "output_type": "execute_result",
          "data": {
            "text/plain": [
              "[1,\n",
              " 14,\n",
              " 22,\n",
              " 16,\n",
              " 43,\n",
              " 530,\n",
              " 973,\n",
              " 1622,\n",
              " 1385,\n",
              " 65,\n",
              " 458,\n",
              " 4468,\n",
              " 66,\n",
              " 3941,\n",
              " 4,\n",
              " 173,\n",
              " 36,\n",
              " 256,\n",
              " 5,\n",
              " 25,\n",
              " 100,\n",
              " 43,\n",
              " 838,\n",
              " 112,\n",
              " 50,\n",
              " 670,\n",
              " 2,\n",
              " 9,\n",
              " 35,\n",
              " 480,\n",
              " 284,\n",
              " 5,\n",
              " 150,\n",
              " 4,\n",
              " 172,\n",
              " 112,\n",
              " 167,\n",
              " 2,\n",
              " 336,\n",
              " 385,\n",
              " 39,\n",
              " 4,\n",
              " 172,\n",
              " 4536,\n",
              " 1111,\n",
              " 17,\n",
              " 546,\n",
              " 38,\n",
              " 13,\n",
              " 447,\n",
              " 4,\n",
              " 192,\n",
              " 50,\n",
              " 16,\n",
              " 6,\n",
              " 147,\n",
              " 2025,\n",
              " 19,\n",
              " 14,\n",
              " 22,\n",
              " 4,\n",
              " 1920,\n",
              " 4613,\n",
              " 469,\n",
              " 4,\n",
              " 22,\n",
              " 71,\n",
              " 87,\n",
              " 12,\n",
              " 16,\n",
              " 43,\n",
              " 530,\n",
              " 38,\n",
              " 76,\n",
              " 15,\n",
              " 13,\n",
              " 1247,\n",
              " 4,\n",
              " 22,\n",
              " 17,\n",
              " 515,\n",
              " 17,\n",
              " 12,\n",
              " 16,\n",
              " 626,\n",
              " 18,\n",
              " 2,\n",
              " 5,\n",
              " 62,\n",
              " 386,\n",
              " 12,\n",
              " 8,\n",
              " 316,\n",
              " 8,\n",
              " 106,\n",
              " 5,\n",
              " 4,\n",
              " 2223,\n",
              " 5244,\n",
              " 16,\n",
              " 480,\n",
              " 66,\n",
              " 3785,\n",
              " 33,\n",
              " 4,\n",
              " 130,\n",
              " 12,\n",
              " 16,\n",
              " 38,\n",
              " 619,\n",
              " 5,\n",
              " 25,\n",
              " 124,\n",
              " 51,\n",
              " 36,\n",
              " 135,\n",
              " 48,\n",
              " 25,\n",
              " 1415,\n",
              " 33,\n",
              " 6,\n",
              " 22,\n",
              " 12,\n",
              " 215,\n",
              " 28,\n",
              " 77,\n",
              " 52,\n",
              " 5,\n",
              " 14,\n",
              " 407,\n",
              " 16,\n",
              " 82,\n",
              " 2,\n",
              " 8,\n",
              " 4,\n",
              " 107,\n",
              " 117,\n",
              " 5952,\n",
              " 15,\n",
              " 256,\n",
              " 4,\n",
              " 2,\n",
              " 7,\n",
              " 3766,\n",
              " 5,\n",
              " 723,\n",
              " 36,\n",
              " 71,\n",
              " 43,\n",
              " 530,\n",
              " 476,\n",
              " 26,\n",
              " 400,\n",
              " 317,\n",
              " 46,\n",
              " 7,\n",
              " 4,\n",
              " 2,\n",
              " 1029,\n",
              " 13,\n",
              " 104,\n",
              " 88,\n",
              " 4,\n",
              " 381,\n",
              " 15,\n",
              " 297,\n",
              " 98,\n",
              " 32,\n",
              " 2071,\n",
              " 56,\n",
              " 26,\n",
              " 141,\n",
              " 6,\n",
              " 194,\n",
              " 7486,\n",
              " 18,\n",
              " 4,\n",
              " 226,\n",
              " 22,\n",
              " 21,\n",
              " 134,\n",
              " 476,\n",
              " 26,\n",
              " 480,\n",
              " 5,\n",
              " 144,\n",
              " 30,\n",
              " 5535,\n",
              " 18,\n",
              " 51,\n",
              " 36,\n",
              " 28,\n",
              " 224,\n",
              " 92,\n",
              " 25,\n",
              " 104,\n",
              " 4,\n",
              " 226,\n",
              " 65,\n",
              " 16,\n",
              " 38,\n",
              " 1334,\n",
              " 88,\n",
              " 12,\n",
              " 16,\n",
              " 283,\n",
              " 5,\n",
              " 16,\n",
              " 4472,\n",
              " 113,\n",
              " 103,\n",
              " 32,\n",
              " 15,\n",
              " 16,\n",
              " 5345,\n",
              " 19,\n",
              " 178,\n",
              " 32]"
            ]
          },
          "metadata": {
            "tags": []
          },
          "execution_count": 3
        }
      ]
    },
    {
      "metadata": {
        "id": "h6bMUPbO5Fyn",
        "colab_type": "code",
        "outputId": "378ce7a1-51a7-44c1-b670-5f2df863ddb4",
        "colab": {
          "base_uri": "https://localhost:8080/",
          "height": 35
        }
      },
      "cell_type": "code",
      "source": [
        "train_labels[0]"
      ],
      "execution_count": 4,
      "outputs": [
        {
          "output_type": "execute_result",
          "data": {
            "text/plain": [
              "1"
            ]
          },
          "metadata": {
            "tags": []
          },
          "execution_count": 4
        }
      ]
    },
    {
      "metadata": {
        "id": "xgCiR8-Y5FzC",
        "colab_type": "text"
      },
      "cell_type": "markdown",
      "source": [
        "Since we restricted ourselves to the top 10,000 most frequent words, no word index will exceed 10,000:"
      ]
    },
    {
      "metadata": {
        "id": "hFVDRmlE5FzH",
        "colab_type": "code",
        "outputId": "f8ded5a6-44a4-43f3-c218-1f085b5499b3",
        "colab": {
          "base_uri": "https://localhost:8080/",
          "height": 35
        }
      },
      "cell_type": "code",
      "source": [
        "max([max(sequence) for sequence in train_data])"
      ],
      "execution_count": 5,
      "outputs": [
        {
          "output_type": "execute_result",
          "data": {
            "text/plain": [
              "9999"
            ]
          },
          "metadata": {
            "tags": []
          },
          "execution_count": 5
        }
      ]
    },
    {
      "metadata": {
        "id": "zqKSaJhG5Fzi",
        "colab_type": "text"
      },
      "cell_type": "markdown",
      "source": [
        "For kicks, here's how you can quickly decode one of these reviews back to English words:"
      ]
    },
    {
      "metadata": {
        "id": "-CUxRxre5Fzn",
        "colab_type": "code",
        "colab": {
          "base_uri": "https://localhost:8080/",
          "height": 52
        },
        "outputId": "a29de1f4-70a7-4437-cbaa-a34c4b8518fb"
      },
      "cell_type": "code",
      "source": [
        "# word_index is a dictionary mapping words to an integer index\n",
        "word_index = imdb.get_word_index()\n",
        "# We reverse it, mapping integer indices to words\n",
        "reverse_word_index = dict([(value, key) for (key, value) in word_index.items()])\n",
        "# We decode the review; note that our indices were offset by 3\n",
        "# because 0, 1 and 2 are reserved indices for \"padding\", \"start of sequence\", and \"unknown\".\n",
        "decoded_review = ' '.join([reverse_word_index.get(i - 3, '?') for i in train_data[0]])"
      ],
      "execution_count": 6,
      "outputs": [
        {
          "output_type": "stream",
          "text": [
            "Downloading data from https://s3.amazonaws.com/text-datasets/imdb_word_index.json\n",
            "1646592/1641221 [==============================] - 0s 0us/step\n"
          ],
          "name": "stdout"
        }
      ]
    },
    {
      "metadata": {
        "id": "0OuY74YG5Fz7",
        "colab_type": "code",
        "outputId": "a697fb69-6f78-4f0e-c84a-814991c3c67d",
        "colab": {
          "base_uri": "https://localhost:8080/",
          "height": 55
        }
      },
      "cell_type": "code",
      "source": [
        "decoded_review"
      ],
      "execution_count": 7,
      "outputs": [
        {
          "output_type": "execute_result",
          "data": {
            "text/plain": [
              "\"? this film was just brilliant casting location scenery story direction everyone's really suited the part they played and you could just imagine being there robert ? is an amazing actor and now the same being director ? father came from the same scottish island as myself so i loved the fact there was a real connection with this film the witty remarks throughout the film were great it was just brilliant so much that i bought the film as soon as it was released for ? and would recommend it to everyone to watch and the fly fishing was amazing really cried at the end it was so sad and you know what they say if you cry at a film it must have been good and this definitely was also ? to the two little boy's that played the ? of norman and paul they were just brilliant children are often left out of the ? list i think because the stars that play them all grown up are such a big profile for the whole film but these children are amazing and should be praised for what they have done don't you think the whole story was so lovely because it was true and was someone's life after all that was shared with us all\""
            ]
          },
          "metadata": {
            "tags": []
          },
          "execution_count": 7
        }
      ]
    },
    {
      "metadata": {
        "id": "pYpPOVZE5F0U",
        "colab_type": "text"
      },
      "cell_type": "markdown",
      "source": [
        "## Preparing the data\n",
        "\n",
        "\n",
        "We cannot feed lists of integers into a neural network. We have to turn our lists into tensors. There are two ways we could do that:\n",
        "\n",
        "* We could pad our lists so that they all have the same length, and turn them into an integer tensor of shape `(samples, word_indices)`, \n",
        "then use as first layer in our network a layer capable of handling such integer tensors (the `Embedding` layer, which we will cover in \n",
        "detail later in the book).\n",
        "* We could one-hot-encode our lists to turn them into vectors of 0s and 1s. Concretely, this would mean for instance turning the sequence \n",
        "`[3, 5]` into a 10,000-dimensional vector that would be all-zeros except for indices 3 and 5, which would be ones. Then we could use as \n",
        "first layer in our network a `Dense` layer, capable of handling floating point vector data.\n",
        "\n",
        "We will go with the latter solution. Let's vectorize our data, which we will do manually for maximum clarity:"
      ]
    },
    {
      "metadata": {
        "id": "rzgFwBkk5F0a",
        "colab_type": "code",
        "colab": {}
      },
      "cell_type": "code",
      "source": [
        "import numpy as np\n",
        "\n",
        "def vectorize_sequences(sequences, dimension=10000):\n",
        "    # Create an all-zero matrix of shape (len(sequences), dimension)\n",
        "    results = np.zeros((len(sequences), dimension))\n",
        "    for i, sequence in enumerate(sequences):\n",
        "        results[i, sequence] = 1.  # set specific indices of results[i] to 1s\n",
        "    return results\n",
        "\n",
        "# Our vectorized training data\n",
        "x_train = vectorize_sequences(train_data)\n",
        "# Our vectorized test data\n",
        "x_test = vectorize_sequences(test_data)"
      ],
      "execution_count": 0,
      "outputs": []
    },
    {
      "metadata": {
        "id": "f1ygNPoR5F00",
        "colab_type": "text"
      },
      "cell_type": "markdown",
      "source": [
        "Here's what our samples look like now:"
      ]
    },
    {
      "metadata": {
        "id": "lTFo9SnY5F1V",
        "colab_type": "code",
        "outputId": "156cd138-1c36-4e6b-b39a-cb9b8f1d9f40",
        "colab": {
          "base_uri": "https://localhost:8080/",
          "height": 35
        }
      },
      "cell_type": "code",
      "source": [
        "x_train[0]"
      ],
      "execution_count": 9,
      "outputs": [
        {
          "output_type": "execute_result",
          "data": {
            "text/plain": [
              "array([0., 1., 1., ..., 0., 0., 0.])"
            ]
          },
          "metadata": {
            "tags": []
          },
          "execution_count": 9
        }
      ]
    },
    {
      "metadata": {
        "id": "_MsOXszj5F1u",
        "colab_type": "text"
      },
      "cell_type": "markdown",
      "source": [
        "We should also vectorize our labels, which is straightforward:"
      ]
    },
    {
      "metadata": {
        "id": "gIqVRKos5F10",
        "colab_type": "code",
        "colab": {}
      },
      "cell_type": "code",
      "source": [
        "# Our vectorized labels\n",
        "y_train = np.asarray(train_labels).astype('float32')\n",
        "y_test = np.asarray(test_labels).astype('float32')"
      ],
      "execution_count": 0,
      "outputs": []
    },
    {
      "metadata": {
        "id": "m5OYxt9q5F2J",
        "colab_type": "text"
      },
      "cell_type": "markdown",
      "source": [
        "Now our data is ready to be fed into a neural network."
      ]
    },
    {
      "metadata": {
        "id": "C8m10qog5F2M",
        "colab_type": "text"
      },
      "cell_type": "markdown",
      "source": [
        "## Building our network\n",
        "\n",
        "\n",
        "Our input data is simply vectors, and our labels are scalars (1s and 0s): this is the easiest setup you will ever encounter. A type of \n",
        "network that performs well on such a problem would be a simple stack of fully-connected (`Dense`) layers with `relu` activations: `Dense(16, \n",
        "activation='relu')`\n",
        "\n",
        "The argument being passed to each `Dense` layer (16) is the number of \"hidden units\" of the layer. What's a hidden unit? It's a dimension \n",
        "in the representation space of the layer. You may remember from the previous chapter that each such `Dense` layer with a `relu` activation implements \n",
        "the following chain of tensor operations:\n",
        "\n",
        "`output = relu(dot(W, input) + b)`\n",
        "\n",
        "Having 16 hidden units means that the weight matrix `W` will have shape `(input_dimension, 16)`, i.e. the dot product with `W` will project the \n",
        "input data onto a 16-dimensional representation space (and then we would add the bias vector `b` and apply the `relu` operation). You can \n",
        "intuitively understand the dimensionality of your representation space as \"how much freedom you are allowing the network to have when \n",
        "learning internal representations\". Having more hidden units (a higher-dimensional representation space) allows your network to learn more \n",
        "complex representations, but it makes your network more computationally expensive and may lead to learning unwanted patterns (patterns that \n",
        "will improve performance on the training data but not on the test data).\n",
        "\n",
        "There are two key architecture decisions to be made about such stack of dense layers:\n",
        "\n",
        "* How many layers to use.\n",
        "* How many \"hidden units\" to chose for each layer.\n",
        "\n",
        "In the next chapter, you will learn formal principles to guide you in making these choices. \n",
        "For the time being, you will have to trust us with the following architecture choice: \n",
        "two intermediate layers with 16 hidden units each, \n",
        "and a third layer which will output the scalar prediction regarding the sentiment of the current review. \n",
        "The intermediate layers will use `relu` as their \"activation function\", \n",
        "and the final layer will use a sigmoid activation so as to output a probability \n",
        "(a score between 0 and 1, indicating how likely the sample is to have the target \"1\", i.e. how likely the review is to be positive). \n",
        "A `relu` (rectified linear unit) is a function meant to zero-out negative values, \n",
        "while a sigmoid \"squashes\" arbitrary values into the `[0, 1]` interval, thus outputting something that can be interpreted as a probability."
      ]
    },
    {
      "metadata": {
        "id": "Z8yLu8F-5F2Q",
        "colab_type": "text"
      },
      "cell_type": "markdown",
      "source": [
        "Here's what our network looks like:\n",
        "\n",
        "![3-layer network](https://s3.amazonaws.com/book.keras.io/img/ch3/3_layer_network.png)"
      ]
    },
    {
      "metadata": {
        "id": "iMnkA3Dn5F2T",
        "colab_type": "text"
      },
      "cell_type": "markdown",
      "source": [
        "And here's the Keras implementation, very similar to the MNIST example you saw previously:"
      ]
    },
    {
      "metadata": {
        "id": "mQ9QqPe15F2X",
        "colab_type": "code",
        "colab": {
          "base_uri": "https://localhost:8080/",
          "height": 89
        },
        "outputId": "fc363ec9-b8ca-4058-e849-35dc2d495069"
      },
      "cell_type": "code",
      "source": [
        "from keras import models\n",
        "from keras import layers\n",
        "\n",
        "model = models.Sequential()\n",
        "model.add(layers.Dense(16, activation='relu', input_shape=(10000,)))\n",
        "model.add(layers.Dense(16, activation='relu'))\n",
        "model.add(layers.Dense(1, activation='sigmoid'))"
      ],
      "execution_count": 11,
      "outputs": [
        {
          "output_type": "stream",
          "text": [
            "WARNING:tensorflow:From /usr/local/lib/python3.6/dist-packages/tensorflow/python/framework/op_def_library.py:263: colocate_with (from tensorflow.python.framework.ops) is deprecated and will be removed in a future version.\n",
            "Instructions for updating:\n",
            "Colocations handled automatically by placer.\n"
          ],
          "name": "stdout"
        }
      ]
    },
    {
      "metadata": {
        "id": "wnBbfemL5F2i",
        "colab_type": "text"
      },
      "cell_type": "markdown",
      "source": [
        "\n",
        "Lastly, we need to pick a loss function and an optimizer. Since we are facing a binary classification problem and the output of our network \n",
        "is a probability (we end our network with a single-unit layer with a sigmoid activation), is it best to use the `binary_crossentropy` loss. \n",
        "It isn't the only viable choice: you could use, for instance, `mean_squared_error`. But crossentropy is usually the best choice when you \n",
        "are dealing with models that output probabilities. Crossentropy is a quantity from the field of Information Theory, that measures the \"distance\" \n",
        "between probability distributions, or in our case, between the ground-truth distribution and our predictions.\n",
        "\n",
        "Here's the step where we configure our model with the `rmsprop` optimizer and the `binary_crossentropy` loss function. Note that we will \n",
        "also monitor accuracy during training."
      ]
    },
    {
      "metadata": {
        "id": "s-WBP6ZO5F2p",
        "colab_type": "code",
        "colab": {}
      },
      "cell_type": "code",
      "source": [
        "model.compile(optimizer='rmsprop',\n",
        "              loss='binary_crossentropy',\n",
        "              metrics=['accuracy'])"
      ],
      "execution_count": 0,
      "outputs": []
    },
    {
      "metadata": {
        "id": "Gyh__zyA5F23",
        "colab_type": "text"
      },
      "cell_type": "markdown",
      "source": [
        "We are passing our optimizer, loss function and metrics as strings, which is possible because `rmsprop`, `binary_crossentropy` and \n",
        "`accuracy` are packaged as part of Keras. Sometimes you may want to configure the parameters of your optimizer, or pass a custom loss \n",
        "function or metric function. This former can be done by passing an optimizer class instance as the `optimizer` argument:"
      ]
    },
    {
      "metadata": {
        "id": "FgaNctig5F29",
        "colab_type": "code",
        "colab": {}
      },
      "cell_type": "code",
      "source": [
        "from keras import optimizers\n",
        "\n",
        "model.compile(optimizer=optimizers.RMSprop(lr=0.001),\n",
        "              loss='binary_crossentropy',\n",
        "              metrics=['accuracy'])"
      ],
      "execution_count": 0,
      "outputs": []
    },
    {
      "metadata": {
        "id": "09NwpgO-5F3L",
        "colab_type": "text"
      },
      "cell_type": "markdown",
      "source": [
        "The latter can be done by passing function objects as the `loss` or `metrics` arguments:"
      ]
    },
    {
      "metadata": {
        "id": "oFJlemmx5F3O",
        "colab_type": "code",
        "colab": {}
      },
      "cell_type": "code",
      "source": [
        "from keras import losses\n",
        "from keras import metrics\n",
        "\n",
        "model.compile(optimizer=optimizers.RMSprop(lr=0.001),\n",
        "              loss=losses.binary_crossentropy,\n",
        "              metrics=[metrics.binary_accuracy])"
      ],
      "execution_count": 0,
      "outputs": []
    },
    {
      "metadata": {
        "id": "TyJreibX5F3Y",
        "colab_type": "text"
      },
      "cell_type": "markdown",
      "source": [
        "## Validating our approach\n",
        "\n",
        "In order to monitor during training the accuracy of the model on data that it has never seen before, we will create a \"validation set\" by \n",
        "setting apart 10,000 samples from the original training data:"
      ]
    },
    {
      "metadata": {
        "id": "wMHUwb-m5F3b",
        "colab_type": "code",
        "colab": {}
      },
      "cell_type": "code",
      "source": [
        "x_val = x_train[:10000]\n",
        "partial_x_train = x_train[10000:]\n",
        "\n",
        "y_val = y_train[:10000]\n",
        "partial_y_train = y_train[10000:]"
      ],
      "execution_count": 0,
      "outputs": []
    },
    {
      "metadata": {
        "collapsed": true,
        "id": "DxQiYflE5F3k",
        "colab_type": "text"
      },
      "cell_type": "markdown",
      "source": [
        "We will now train our model for 20 epochs (20 iterations over all samples in the `x_train` and `y_train` tensors), in mini-batches of 512 \n",
        "samples. At this same time we will monitor loss and accuracy on the 10,000 samples that we set apart. This is done by passing the \n",
        "validation data as the `validation_data` argument:"
      ]
    },
    {
      "metadata": {
        "id": "CHJLmJJP5F3n",
        "colab_type": "code",
        "outputId": "5cb8fe3c-0b20-4586-ccb4-0ccf91d65017",
        "colab": {
          "base_uri": "https://localhost:8080/",
          "height": 800
        }
      },
      "cell_type": "code",
      "source": [
        "history = model.fit(partial_x_train,\n",
        "                    partial_y_train,\n",
        "                    epochs=20,\n",
        "                    batch_size=512,\n",
        "                    validation_data=(x_val, y_val))"
      ],
      "execution_count": 16,
      "outputs": [
        {
          "output_type": "stream",
          "text": [
            "WARNING:tensorflow:From /usr/local/lib/python3.6/dist-packages/tensorflow/python/ops/math_ops.py:3066: to_int32 (from tensorflow.python.ops.math_ops) is deprecated and will be removed in a future version.\n",
            "Instructions for updating:\n",
            "Use tf.cast instead.\n",
            "Train on 15000 samples, validate on 10000 samples\n",
            "Epoch 1/20\n",
            "15000/15000 [==============================] - 2s 146us/step - loss: 0.5048 - binary_accuracy: 0.7872 - val_loss: 0.3776 - val_binary_accuracy: 0.8705\n",
            "Epoch 2/20\n",
            "15000/15000 [==============================] - 2s 125us/step - loss: 0.2992 - binary_accuracy: 0.9045 - val_loss: 0.3001 - val_binary_accuracy: 0.8899\n",
            "Epoch 3/20\n",
            "15000/15000 [==============================] - 2s 124us/step - loss: 0.2173 - binary_accuracy: 0.9285 - val_loss: 0.3080 - val_binary_accuracy: 0.8717\n",
            "Epoch 4/20\n",
            "15000/15000 [==============================] - 2s 124us/step - loss: 0.1747 - binary_accuracy: 0.9438 - val_loss: 0.2826 - val_binary_accuracy: 0.8841\n",
            "Epoch 5/20\n",
            "15000/15000 [==============================] - 2s 125us/step - loss: 0.1422 - binary_accuracy: 0.9541 - val_loss: 0.2855 - val_binary_accuracy: 0.8859\n",
            "Epoch 6/20\n",
            "15000/15000 [==============================] - 2s 123us/step - loss: 0.1148 - binary_accuracy: 0.9652 - val_loss: 0.3138 - val_binary_accuracy: 0.8778\n",
            "Epoch 7/20\n",
            "15000/15000 [==============================] - 2s 125us/step - loss: 0.0977 - binary_accuracy: 0.9709 - val_loss: 0.3132 - val_binary_accuracy: 0.8840\n",
            "Epoch 8/20\n",
            "15000/15000 [==============================] - 2s 125us/step - loss: 0.0806 - binary_accuracy: 0.9764 - val_loss: 0.3864 - val_binary_accuracy: 0.8653\n",
            "Epoch 9/20\n",
            "15000/15000 [==============================] - 2s 124us/step - loss: 0.0661 - binary_accuracy: 0.9821 - val_loss: 0.3641 - val_binary_accuracy: 0.8777\n",
            "Epoch 10/20\n",
            "15000/15000 [==============================] - 2s 124us/step - loss: 0.0565 - binary_accuracy: 0.9849 - val_loss: 0.3849 - val_binary_accuracy: 0.8782\n",
            "Epoch 11/20\n",
            "15000/15000 [==============================] - 2s 124us/step - loss: 0.0437 - binary_accuracy: 0.9901 - val_loss: 0.4169 - val_binary_accuracy: 0.8767\n",
            "Epoch 12/20\n",
            "15000/15000 [==============================] - 2s 124us/step - loss: 0.0386 - binary_accuracy: 0.9917 - val_loss: 0.4543 - val_binary_accuracy: 0.8700\n",
            "Epoch 13/20\n",
            "15000/15000 [==============================] - 2s 125us/step - loss: 0.0302 - binary_accuracy: 0.9930 - val_loss: 0.4688 - val_binary_accuracy: 0.8729\n",
            "Epoch 14/20\n",
            "15000/15000 [==============================] - 2s 124us/step - loss: 0.0250 - binary_accuracy: 0.9945 - val_loss: 0.5009 - val_binary_accuracy: 0.8729\n",
            "Epoch 15/20\n",
            "15000/15000 [==============================] - 2s 125us/step - loss: 0.0179 - binary_accuracy: 0.9980 - val_loss: 0.5327 - val_binary_accuracy: 0.8688\n",
            "Epoch 16/20\n",
            "15000/15000 [==============================] - 2s 125us/step - loss: 0.0160 - binary_accuracy: 0.9974 - val_loss: 0.5754 - val_binary_accuracy: 0.8686\n",
            "Epoch 17/20\n",
            "15000/15000 [==============================] - 2s 125us/step - loss: 0.0103 - binary_accuracy: 0.9992 - val_loss: 0.6459 - val_binary_accuracy: 0.8612\n",
            "Epoch 18/20\n",
            "15000/15000 [==============================] - 2s 125us/step - loss: 0.0125 - binary_accuracy: 0.9972 - val_loss: 0.6423 - val_binary_accuracy: 0.8673\n",
            "Epoch 19/20\n",
            "15000/15000 [==============================] - 2s 125us/step - loss: 0.0054 - binary_accuracy: 0.9998 - val_loss: 0.7207 - val_binary_accuracy: 0.8576\n",
            "Epoch 20/20\n",
            "15000/15000 [==============================] - 2s 125us/step - loss: 0.0099 - binary_accuracy: 0.9982 - val_loss: 0.6997 - val_binary_accuracy: 0.8656\n"
          ],
          "name": "stdout"
        }
      ]
    },
    {
      "metadata": {
        "id": "2UkWvQ-v5F31",
        "colab_type": "text"
      },
      "cell_type": "markdown",
      "source": [
        "On CPU, this will take less than two seconds per epoch -- training is over in 20 seconds. At the end of every epoch, there is a slight pause \n",
        "as the model computes its loss and accuracy on the 10,000 samples of the validation data.\n",
        "\n",
        "Note that the call to `model.fit()` returns a `History` object. This object has a member `history`, which is a dictionary containing data \n",
        "about everything that happened during training. Let's take a look at it:"
      ]
    },
    {
      "metadata": {
        "id": "AzhVUBe75F34",
        "colab_type": "code",
        "outputId": "66d790e8-50f6-4c6c-de64-f02b05078f39",
        "colab": {
          "base_uri": "https://localhost:8080/",
          "height": 35
        }
      },
      "cell_type": "code",
      "source": [
        "history_dict = history.history\n",
        "history_dict.keys()"
      ],
      "execution_count": 17,
      "outputs": [
        {
          "output_type": "execute_result",
          "data": {
            "text/plain": [
              "dict_keys(['val_loss', 'val_binary_accuracy', 'loss', 'binary_accuracy'])"
            ]
          },
          "metadata": {
            "tags": []
          },
          "execution_count": 17
        }
      ]
    },
    {
      "metadata": {
        "id": "0BeCb0w55F4D",
        "colab_type": "text"
      },
      "cell_type": "markdown",
      "source": [
        "It contains 4 entries: one per metric that was being monitored, during training and during validation. Let's use Matplotlib to plot the \n",
        "training and validation loss side by side, as well as the training and validation accuracy:"
      ]
    },
    {
      "metadata": {
        "id": "27yXcPvB5F4G",
        "colab_type": "code",
        "outputId": "34ec3117-d11d-4d3f-ded2-ec56b22530bc",
        "colab": {
          "base_uri": "https://localhost:8080/",
          "height": 377
        }
      },
      "cell_type": "code",
      "source": [
        "import matplotlib.pyplot as plt\n",
        "\n",
        "acc = history.history['val_binary_accuracy']\n",
        "val_acc = history.history['val_binary_accuracy']\n",
        "loss = history.history['loss']\n",
        "val_loss = history.history['val_loss']\n",
        "\n",
        "epochs = range(1, len(acc) + 1)\n",
        "\n",
        "# \"bo\" is for \"blue dot\"\n",
        "plt.plot(epochs, loss, 'bo', label='Training loss')\n",
        "# b is for \"solid blue line\"\n",
        "plt.plot(epochs, val_loss, 'b', label='Validation loss')\n",
        "plt.title('Training and validation loss')\n",
        "plt.xlabel('Epochs')\n",
        "plt.ylabel('Loss')\n",
        "plt.legend()\n",
        "\n",
        "plt.show()"
      ],
      "execution_count": 19,
      "outputs": [
        {
          "output_type": "display_data",
          "data": {
            "image/png": "[encoded data removed]",
            "text/plain": [
              "<Figure size 576x396 with 1 Axes>"
            ]
          },
          "metadata": {
            "tags": []
          }
        }
      ]
    },
    {
      "metadata": {
        "id": "DN7KT1QV5F4U",
        "colab_type": "code",
        "outputId": "ac2cf93f-ae90-471b-c273-d6324e46e210",
        "colab": {
          "base_uri": "https://localhost:8080/",
          "height": 377
        }
      },
      "cell_type": "code",
      "source": [
        "plt.clf()   # clear figure\n",
        "acc_values = history_dict['binary_accuracy']\n",
        "val_acc_values = history_dict['val_binary_accuracy']\n",
        "\n",
        "plt.plot(epochs, acc, 'bo', label='Training acc')\n",
        "plt.plot(epochs, val_acc, 'b', label='Validation acc')\n",
        "plt.title('Training and validation accuracy')\n",
        "plt.xlabel('Epochs')\n",
        "plt.ylabel('Loss')\n",
        "plt.legend()\n",
        "\n",
        "plt.show()"
      ],
      "execution_count": 21,
      "outputs": [
        {
          "output_type": "display_data",
          "data": {
            "image/png": "[encoded data removed]",
            "text/plain": [
              "<Figure size 576x396 with 1 Axes>"
            ]
          },
          "metadata": {
            "tags": []
          }
        }
      ]
    },
    {
      "metadata": {
        "id": "vrpf5ZsU5F4f",
        "colab_type": "text"
      },
      "cell_type": "markdown",
      "source": [
        "\n",
        "The dots are the training loss and accuracy, while the solid lines are the validation loss and accuracy. Note that your own results may vary \n",
        "slightly due to a different random initialization of your network.\n",
        "\n",
        "As you can see, the training loss decreases with every epoch and the training accuracy increases with every epoch. That's what you would \n",
        "expect when running gradient descent optimization -- the quantity you are trying to minimize should get lower with every iteration. But that \n",
        "isn't the case for the validation loss and accuracy: they seem to peak at the fourth epoch. This is an example of what we were warning \n",
        "against earlier: a model that performs better on the training data isn't necessarily a model that will do better on data it has never seen \n",
        "before. In precise terms, what you are seeing is \"overfitting\": after the second epoch, we are over-optimizing on the training data, and we \n",
        "ended up learning representations that are specific to the training data and do not generalize to data outside of the training set.\n",
        "\n",
        "In this case, to prevent overfitting, we could simply stop training after three epochs. In general, there is a range of techniques you can \n",
        "leverage to mitigate overfitting, which we will cover in the next chapter.\n",
        "\n",
        "Let's train a new network from scratch for four epochs, then evaluate it on our test data:"
      ]
    },
    {
      "metadata": {
        "id": "1j0Q0oLe5F4l",
        "colab_type": "code",
        "outputId": "973d2e4d-3b7b-4a85-b800-67f476b0e668",
        "colab": {
          "base_uri": "https://localhost:8080/",
          "height": 173
        }
      },
      "cell_type": "code",
      "source": [
        "model = models.Sequential()\n",
        "model.add(layers.Dense(16, activation='relu', input_shape=(10000,)))\n",
        "model.add(layers.Dense(16, activation='relu'))\n",
        "model.add(layers.Dense(1, activation='sigmoid'))\n",
        "\n",
        "model.compile(optimizer='rmsprop',\n",
        "              loss='binary_crossentropy',\n",
        "              metrics=['accuracy'])\n",
        "\n",
        "model.fit(x_train, y_train, epochs=4, batch_size=512)\n",
        "results = model.evaluate(x_test, y_test)"
      ],
      "execution_count": 22,
      "outputs": [
        {
          "output_type": "stream",
          "text": [
            "Epoch 1/4\n",
            "25000/25000 [==============================] - 3s 117us/step - loss: 0.4737 - acc: 0.8215\n",
            "Epoch 2/4\n",
            "25000/25000 [==============================] - 2s 94us/step - loss: 0.2674 - acc: 0.9091\n",
            "Epoch 3/4\n",
            "25000/25000 [==============================] - 2s 88us/step - loss: 0.2033 - acc: 0.9284\n",
            "Epoch 4/4\n",
            "25000/25000 [==============================] - 2s 89us/step - loss: 0.1714 - acc: 0.9385\n",
            "25000/25000 [==============================] - 2s 71us/step\n"
          ],
          "name": "stdout"
        }
      ]
    },
    {
      "metadata": {
        "id": "JFC5L5Du5F4w",
        "colab_type": "code",
        "outputId": "56b75d86-55cf-40e0-fc1e-b8936d3099ec",
        "colab": {
          "base_uri": "https://localhost:8080/",
          "height": 35
        }
      },
      "cell_type": "code",
      "source": [
        "results"
      ],
      "execution_count": 23,
      "outputs": [
        {
          "output_type": "execute_result",
          "data": {
            "text/plain": [
              "[0.31155441375732423, 0.87584]"
            ]
          },
          "metadata": {
            "tags": []
          },
          "execution_count": 23
        }
      ]
    },
    {
      "metadata": {
        "id": "8PB7EG3u5F47",
        "colab_type": "text"
      },
      "cell_type": "markdown",
      "source": [
        "Our fairly naive approach achieves an accuracy of 88%. With state-of-the-art approaches, one should be able to get close to 95%."
      ]
    },
    {
      "metadata": {
        "id": "YGQEF8kE6FC6",
        "colab_type": "text"
      },
      "cell_type": "markdown",
      "source": [
        "##**We were using 2 hidden layers. Try to use 1 or 3 hidden layers and see how it affects validation and test accuracy.**"
      ]
    },
    {
      "metadata": {
        "id": "6ROUJlJk6O8f",
        "colab_type": "code",
        "colab": {
          "base_uri": "https://localhost:8080/",
          "height": 364
        },
        "outputId": "b687d923-7e60-43ed-8104-5de954087827"
      },
      "cell_type": "code",
      "source": [
        "model = models.Sequential()\n",
        "model.add(layers.Dense(16, activation='relu', input_shape=(10000,)))\n",
        "model.add(layers.Dense(16, activation='relu'))\n",
        "model.add(layers.Dense(16, activation='relu'))\n",
        "\n",
        "model.add(layers.Dense(1, activation='sigmoid'))\n",
        "\n",
        "model.compile(optimizer='rmsprop',\n",
        "              loss='binary_crossentropy',\n",
        "              metrics=['accuracy'])\n",
        "\n",
        "model.fit(x_train, y_train, epochs=4, batch_size=512)\n",
        "results = model.evaluate(x_test, y_test)\n",
        "print('3 layers', results)\n",
        "\n",
        "model = models.Sequential()\n",
        "model.add(layers.Dense(16, activation='relu', input_shape=(10000,)))\n",
        "\n",
        "model.add(layers.Dense(1, activation='sigmoid'))\n",
        "\n",
        "model.compile(optimizer='rmsprop',\n",
        "              loss='binary_crossentropy',\n",
        "              metrics=['accuracy'])\n",
        "\n",
        "model.fit(x_train, y_train, epochs=4, batch_size=512)\n",
        "results = model.evaluate(x_test, y_test)\n",
        "print('3 layers', results)"
      ],
      "execution_count": 24,
      "outputs": [
        {
          "output_type": "stream",
          "text": [
            "Epoch 1/4\n",
            "25000/25000 [==============================] - 3s 109us/step - loss: 0.4550 - acc: 0.8121\n",
            "Epoch 2/4\n",
            "25000/25000 [==============================] - 2s 92us/step - loss: 0.2538 - acc: 0.9105\n",
            "Epoch 3/4\n",
            "25000/25000 [==============================] - 2s 89us/step - loss: 0.1944 - acc: 0.9304\n",
            "Epoch 4/4\n",
            "25000/25000 [==============================] - 2s 89us/step - loss: 0.1640 - acc: 0.9410\n",
            "25000/25000 [==============================] - 2s 73us/step\n",
            "3 layers [0.30093044424533844, 0.88364]\n",
            "Epoch 1/4\n",
            "25000/25000 [==============================] - 2s 98us/step - loss: 0.4393 - acc: 0.8281\n",
            "Epoch 2/4\n",
            "25000/25000 [==============================] - 2s 88us/step - loss: 0.2686 - acc: 0.9097\n",
            "Epoch 3/4\n",
            "25000/25000 [==============================] - 2s 87us/step - loss: 0.2131 - acc: 0.9262\n",
            "Epoch 4/4\n",
            "25000/25000 [==============================] - 2s 89us/step - loss: 0.1824 - acc: 0.9369\n",
            "25000/25000 [==============================] - 2s 74us/step\n",
            "3 layers [0.2848530492782593, 0.88668]\n"
          ],
          "name": "stdout"
        }
      ]
    },
    {
      "metadata": {
        "id": "t-Qq6Vck7qEf",
        "colab_type": "text"
      },
      "cell_type": "markdown",
      "source": [
        "*   Adding 3 layers has improved the accuracy from 87.58% to 88.36%.\n",
        "*   Adding 1 layer has improved the accuracy further from 87.58% to 88.668% \n",
        "\n",
        "\n",
        "\n"
      ]
    },
    {
      "metadata": {
        "id": "9Dp29oOs8kg7",
        "colab_type": "text"
      },
      "cell_type": "markdown",
      "source": [
        "#Try using layers with more hidden units or fewer hidden units: 32 units, 64 units, and so on."
      ]
    },
    {
      "metadata": {
        "id": "X7E6CZow8miM",
        "colab_type": "code",
        "colab": {
          "base_uri": "https://localhost:8080/",
          "height": 364
        },
        "outputId": "17589979-dac4-4865-9bb0-1a9d0f3a1bc4"
      },
      "cell_type": "code",
      "source": [
        "model = models.Sequential()\n",
        "model.add(layers.Dense(64, activation='relu', input_shape=(10000,)))\n",
        "model.add(layers.Dense(32, activation='relu'))\n",
        "#model.add(layers.Dense(16, activation='relu'))\n",
        "\n",
        "model.add(layers.Dense(1, activation='sigmoid'))\n",
        "\n",
        "model.compile(optimizer='rmsprop',\n",
        "              loss='binary_crossentropy',\n",
        "              metrics=['accuracy'])\n",
        "\n",
        "model.fit(x_train, y_train, epochs=4, batch_size=512)\n",
        "results = model.evaluate(x_test, y_test)\n",
        "print('Nodes: 64,32',results)\n",
        "\n",
        "model = models.Sequential()\n",
        "model.add(layers.Dense(128, activation='relu', input_shape=(10000,)))\n",
        "model.add(layers.Dense(64, activation='relu'))\n",
        "#model.add(layers.Dense(16, activation='relu'))\n",
        "\n",
        "model.add(layers.Dense(1, activation='sigmoid'))\n",
        "\n",
        "model.compile(optimizer='rmsprop',\n",
        "              loss='binary_crossentropy',\n",
        "              metrics=['accuracy'])\n",
        "\n",
        "model.fit(x_train, y_train, epochs=4, batch_size=512)\n",
        "results = model.evaluate(x_test, y_test)\n",
        "print('Nodes: 128,64',results)"
      ],
      "execution_count": 25,
      "outputs": [
        {
          "output_type": "stream",
          "text": [
            "Epoch 1/4\n",
            "25000/25000 [==============================] - 4s 144us/step - loss: 0.4230 - acc: 0.8134\n",
            "Epoch 2/4\n",
            "25000/25000 [==============================] - 3s 130us/step - loss: 0.2383 - acc: 0.9111\n",
            "Epoch 3/4\n",
            "25000/25000 [==============================] - 3s 130us/step - loss: 0.1868 - acc: 0.9296\n",
            "Epoch 4/4\n",
            "25000/25000 [==============================] - 3s 129us/step - loss: 0.1550 - acc: 0.9416\n",
            "25000/25000 [==============================] - 3s 107us/step\n",
            "Nodes: 64,32 [0.3140418032503128, 0.87908]\n",
            "Epoch 1/4\n",
            "25000/25000 [==============================] - 5s 195us/step - loss: 0.4229 - acc: 0.8029\n",
            "Epoch 2/4\n",
            "25000/25000 [==============================] - 4s 178us/step - loss: 0.2383 - acc: 0.9066\n",
            "Epoch 3/4\n",
            "25000/25000 [==============================] - 4s 179us/step - loss: 0.1725 - acc: 0.9350\n",
            "Epoch 4/4\n",
            "25000/25000 [==============================] - 4s 178us/step - loss: 0.1214 - acc: 0.9553\n",
            "25000/25000 [==============================] - 4s 143us/step\n",
            "Nodes: 128,64 [0.33582679671287535, 0.87604]\n"
          ],
          "name": "stdout"
        }
      ]
    },
    {
      "metadata": {
        "id": "U6tI_hzx95Ge",
        "colab_type": "text"
      },
      "cell_type": "markdown",
      "source": [
        "\n",
        "\n",
        "*   Increasing number of nodes from 16 to 64,32 has increased accuracy from 87.58% to 87.9%\n",
        "*  Increasing number of nodes from 64,32 to 128,64 has decreased accuracy from 87.9% to 87.6%\n",
        "\n"
      ]
    },
    {
      "metadata": {
        "id": "QX-0g3MM-gKj",
        "colab_type": "text"
      },
      "cell_type": "markdown",
      "source": [
        "#Try using the mse loss function instead of binary_crossentropy"
      ]
    },
    {
      "metadata": {
        "id": "UDute3vB9xAl",
        "colab_type": "code",
        "colab": {
          "base_uri": "https://localhost:8080/",
          "height": 191
        },
        "outputId": "d04174b6-d32b-488b-c73b-938ca5a8a835"
      },
      "cell_type": "code",
      "source": [
        "model = models.Sequential()\n",
        "model.add(layers.Dense(64, activation='relu', input_shape=(10000,)))\n",
        "model.add(layers.Dense(32, activation='relu'))\n",
        "#model.add(layers.Dense(16, activation='relu'))\n",
        "\n",
        "model.add(layers.Dense(1, activation='sigmoid'))\n",
        "\n",
        "model.compile(optimizer='rmsprop',\n",
        "              loss='mse',\n",
        "              metrics=['accuracy'])\n",
        "\n",
        "model.fit(x_train, y_train, epochs=4, batch_size=512)\n",
        "results = model.evaluate(x_test, y_test)\n",
        "print('MSE',results)"
      ],
      "execution_count": 26,
      "outputs": [
        {
          "output_type": "stream",
          "text": [
            "Epoch 1/4\n",
            "25000/25000 [==============================] - 4s 145us/step - loss: 0.1365 - acc: 0.8152\n",
            "Epoch 2/4\n",
            "25000/25000 [==============================] - 3s 130us/step - loss: 0.0709 - acc: 0.9126\n",
            "Epoch 3/4\n",
            "25000/25000 [==============================] - 3s 127us/step - loss: 0.0530 - acc: 0.9331\n",
            "Epoch 4/4\n",
            "25000/25000 [==============================] - 3s 127us/step - loss: 0.0429 - acc: 0.9479\n",
            "25000/25000 [==============================] - 3s 104us/step\n",
            "MSE [0.09446355362296105, 0.8744]\n"
          ],
          "name": "stdout"
        }
      ]
    },
    {
      "metadata": {
        "id": "VSkOC9s8-6kM",
        "colab_type": "text"
      },
      "cell_type": "markdown",
      "source": [
        "\n",
        "\n",
        "*  Changing loss function from Binary cross entropy to MSE decreased accuracy from 87.58 % to 87.44%.\n",
        "\n"
      ]
    },
    {
      "metadata": {
        "id": "R3IeBF6D_N6M",
        "colab_type": "text"
      },
      "cell_type": "markdown",
      "source": [
        "#Try using the tanh activation (an activation that was popular in the early days of neural networks) instead of relu."
      ]
    },
    {
      "metadata": {
        "id": "Ymp38oM3_SXY",
        "colab_type": "code",
        "colab": {
          "base_uri": "https://localhost:8080/",
          "height": 191
        },
        "outputId": "9376a716-7918-4d9b-91e7-d0475b511a29"
      },
      "cell_type": "code",
      "source": [
        "model = models.Sequential()\n",
        "model.add(layers.Dense(64, activation='tanh', input_shape=(10000,)))\n",
        "model.add(layers.Dense(32, activation='tanh'))\n",
        "#model.add(layers.Dense(16, activation='relu'))\n",
        "\n",
        "model.add(layers.Dense(1, activation='sigmoid'))\n",
        "\n",
        "model.compile(optimizer='rmsprop',\n",
        "              loss='mse',\n",
        "              metrics=['accuracy'])\n",
        "\n",
        "model.fit(x_train, y_train, epochs=4, batch_size=512)\n",
        "results = model.evaluate(x_test, y_test)\n",
        "print('tanh',results)"
      ],
      "execution_count": 28,
      "outputs": [
        {
          "output_type": "stream",
          "text": [
            "Epoch 1/4\n",
            "25000/25000 [==============================] - 4s 145us/step - loss: 0.1307 - acc: 0.8191\n",
            "Epoch 2/4\n",
            "25000/25000 [==============================] - 3s 126us/step - loss: 0.0673 - acc: 0.9101\n",
            "Epoch 3/4\n",
            "25000/25000 [==============================] - 3s 127us/step - loss: 0.0513 - acc: 0.9332\n",
            "Epoch 4/4\n",
            "25000/25000 [==============================] - 3s 126us/step - loss: 0.0452 - acc: 0.9418\n",
            "25000/25000 [==============================] - 3s 107us/step\n",
            "MSE [0.09993508388876915, 0.86948]\n"
          ],
          "name": "stdout"
        }
      ]
    },
    {
      "metadata": {
        "id": "7XJ2cQUk_ee8",
        "colab_type": "text"
      },
      "cell_type": "markdown",
      "source": [
        "\n",
        "\n",
        "*   Changing activation function from relu to tanh decreased accuracy from 87.58% to 86.94%.\n"
      ]
    },
    {
      "metadata": {
        "id": "vQkW1AzR_wse",
        "colab_type": "text"
      },
      "cell_type": "markdown",
      "source": [
        "#Writeup\n",
        "*   Adding 3 layers has improved the accuracy from 87.58% to 88.36%.\n",
        "*   Adding 1 layer has improved the accuracy further from 87.58% to 88.668% \n",
        "*   Increasing number of nodes from 16 to 64,32 has increased accuracy from 87.58% to 87.9%\n",
        "*  Increasing number of nodes from 64,32 to 128,64 has decreased accuracy from 87.9% to 87.6%\n",
        "*  Changing loss function from Binary cross entropy to MSE decreased accuracy from 87.58 % to 87.44%.\n",
        "*   Changing activation function from relu to tanh decreased accuracy from 87.58% to 86.94%."
      ]
    },
    {
      "metadata": {
        "id": "uk4vbn_Q5F49",
        "colab_type": "text"
      },
      "cell_type": "markdown",
      "source": [
        "## Using a trained network to generate predictions on new data\n",
        "\n",
        "After having trained a network, you will want to use it in a practical setting. You can generate the likelihood of reviews being positive \n",
        "by using the `predict` method:"
      ]
    },
    {
      "metadata": {
        "id": "7mZuLsnK5F4_",
        "colab_type": "code",
        "colab": {}
      },
      "cell_type": "code",
      "source": [
        "model.predict(x_test)"
      ],
      "execution_count": 0,
      "outputs": []
    },
    {
      "metadata": {
        "id": "Z5MTZxGt5F5I",
        "colab_type": "text"
      },
      "cell_type": "markdown",
      "source": [
        "As you can see, the network is very confident for some samples (0.99 or more, or 0.01 or less) but less confident for others (0.6, 0.4). \n"
      ]
    },
    {
      "metadata": {
        "id": "yLw_94UT5F5K",
        "colab_type": "text"
      },
      "cell_type": "markdown",
      "source": [
        "## Further experiments\n",
        "\n",
        "\n",
        "* We were using 2 hidden layers. Try to use 1 or 3 hidden layers and see how it affects validation and test accuracy.\n",
        "* Try to use layers with more hidden units or less hidden units: 32 units, 64 units...\n",
        "* Try to use the `mse` loss function instead of `binary_crossentropy`.\n",
        "* Try to use the `tanh` activation (an activation that was popular in the early days of neural networks) instead of `relu`.\n",
        "\n",
        "These experiments will help convince you that the architecture choices we have made are all fairly reasonable, although they can still be \n",
        "improved!"
      ]
    },
    {
      "metadata": {
        "id": "mlrzxbOp5F5L",
        "colab_type": "text"
      },
      "cell_type": "markdown",
      "source": [
        "## Conclusions\n",
        "\n",
        "\n",
        "Here's what you should take away from this example:\n",
        "\n",
        "* There's usually quite a bit of preprocessing you need to do on your raw data in order to be able to feed it -- as tensors -- into a neural \n",
        "network. In the case of sequences of words, they can be encoded as binary vectors -- but there are other encoding options too.\n",
        "* Stacks of `Dense` layers with `relu` activations can solve a wide range of problems (including sentiment classification), and you will \n",
        "likely use them frequently.\n",
        "* In a binary classification problem (two output classes), your network should end with a `Dense` layer with 1 unit and a `sigmoid` activation, \n",
        "i.e. the output of your network should be a scalar between 0 and 1, encoding a probability.\n",
        "* With such a scalar sigmoid output, on a binary classification problem, the loss function you should use is `binary_crossentropy`.\n",
        "* The `rmsprop` optimizer is generally a good enough choice of optimizer, whatever your problem. That's one less thing for you to worry \n",
        "about.\n",
        "* As they get better on their training data, neural networks eventually start _overfitting_ and end up obtaining increasingly worse results on data \n",
        "never-seen-before. Make sure to always monitor performance on data that is outside of the training set.\n"
      ]
    }
  ]
}