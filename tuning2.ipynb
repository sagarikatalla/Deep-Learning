{
  "nbformat": 4,
  "nbformat_minor": 0,
  "metadata": {
    "colab": {
      "name": "On your own 4 assignment, 2798178",
      "version": "0.3.2",
      "provenance": [],
      "collapsed_sections": []
    },
    "kernelspec": {
      "name": "python3",
      "display_name": "Python 3"
    },
    "accelerator": "TPU"
  },
  "cells": [
    {
      "metadata": {
        "id": "2O2M1_M923iy",
        "colab_type": "text"
      },
      "cell_type": "markdown",
      "source": [
        "#Multilayer Perceptron Regression"
      ]
    },
    {
      "metadata": {
        "id": "Yboq8tQ7dWUs",
        "colab_type": "code",
        "outputId": "3f8e5679-228e-4ad6-b5fe-50537297a75d",
        "colab": {
          "base_uri": "https://localhost:8080/",
          "height": 35
        }
      },
      "cell_type": "code",
      "source": [
        "from google.colab import drive \n",
        "drive.mount('/content/gdrive')\n",
        "url = \"https://drive.google.com/uc?export=download&id=1p6VH8ww8oR2VB8Z4btRR4c4xnQTxz2S0\"\n"
      ],
      "execution_count": 0,
      "outputs": [
        {
          "output_type": "stream",
          "text": [
            "Drive already mounted at /content/gdrive; to attempt to forcibly remount, call drive.mount(\"/content/gdrive\", force_remount=True).\n"
          ],
          "name": "stdout"
        }
      ]
    },
    {
      "metadata": {
        "id": "FTeF4jEchcNt",
        "colab_type": "code",
        "colab": {}
      },
      "cell_type": "code",
      "source": [
        "import numpy \n",
        "import matplotlib.pyplot as plt\n",
        "import pandas as pd\n",
        "import math\n",
        "from keras.models import Sequential\n",
        "from keras.layers import Dense\n",
        "# fix random seed for reproducibility\n",
        "numpy.random.seed(7)"
      ],
      "execution_count": 0,
      "outputs": []
    },
    {
      "metadata": {
        "id": "yDLeI74xpRBt",
        "colab_type": "text"
      },
      "cell_type": "markdown",
      "source": [
        "Input the data as df & create a numpy array called dataset"
      ]
    },
    {
      "metadata": {
        "id": "_6NKKeWqehGk",
        "colab_type": "code",
        "outputId": "3a31f789-dd8d-4e47-c090-ac561a69edbc",
        "colab": {
          "base_uri": "https://localhost:8080/",
          "height": 269
        }
      },
      "cell_type": "code",
      "source": [
        "dataframe = pd.read_csv(url,engine= 'python' , usecols=[1],skipfooter=3)\n",
        " \n",
        "dataset=dataset=dataframe.values\n",
        "dataset = dataframe.values\n",
        "dataset = dataset.astype('float32')\n",
        "plt.plot(dataset)\n",
        "\n",
        "plt.show()\n",
        "\n"
      ],
      "execution_count": 0,
      "outputs": [
        {
          "output_type": "display_data",
          "data": {
            "image/png": "[encoded data removed]",
            "text/plain": [
              "<Figure size 432x288 with 1 Axes>"
            ]
          },
          "metadata": {
            "tags": []
          }
        }
      ]
    },
    {
      "metadata": {
        "id": "4tASB5Fgo2Uu",
        "colab_type": "code",
        "outputId": "9bb4dacf-0dd5-406c-8c0e-eb65c9a1d274",
        "colab": {
          "base_uri": "https://localhost:8080/",
          "height": 35
        }
      },
      "cell_type": "code",
      "source": [
        "\n",
        "# split into train and test sets\n",
        "train_size = int(len(dataset) * 0.67)\n",
        "test_size = len(dataset) - train_size\n",
        "train, test = dataset[0:train_size,:], dataset[train_size:len(dataset),:]\n",
        "print(len(train), len(test))\n"
      ],
      "execution_count": 0,
      "outputs": [
        {
          "output_type": "stream",
          "text": [
            "94 47\n"
          ],
          "name": "stdout"
        }
      ]
    },
    {
      "metadata": {
        "id": "zmdCgFpDt7l5",
        "colab_type": "code",
        "colab": {}
      },
      "cell_type": "code",
      "source": [
        "# convert an array of values into a dataset matrix\n",
        "def create_dataset(dataset, look_back=1):\n",
        "  dataX, dataY = [], []\n",
        "  for i in range(len(dataset)-look_back-1):\n",
        "    a = dataset[i:(i+look_back), 0]\n",
        "    dataX.append(a)      #X is the number of passengers at a given time (t) \n",
        "    dataY.append(dataset[i + look_back, 0]) # Y is the number of passengers at the next time (t+1)\n",
        "  return numpy.array(dataX), numpy.array(dataY)\n"
      ],
      "execution_count": 0,
      "outputs": []
    },
    {
      "metadata": {
        "id": "-wM8TE3suDO5",
        "colab_type": "code",
        "colab": {}
      },
      "cell_type": "code",
      "source": [
        "\n",
        "# reshape into X=t and Y=t+1\n",
        "look_back = 1 #number of previous time steps to use as input variables to predict the next time period\n",
        "trainX, trainY = create_dataset(train, look_back)\n",
        "testX, testY = create_dataset(test, look_back)"
      ],
      "execution_count": 0,
      "outputs": []
    },
    {
      "metadata": {
        "id": "PJmI9LzovpiH",
        "colab_type": "code",
        "outputId": "9667b96b-0259-4c91-c716-445ca1d811d4",
        "colab": {
          "base_uri": "https://localhost:8080/",
          "height": 7003
        }
      },
      "cell_type": "code",
      "source": [
        "# create and fit Multilayer Perceptron model\n",
        "model = Sequential()\n",
        "model.add(Dense(8, input_dim=look_back, activation= 'relu' ))\n",
        "model.add(Dense(1))\n",
        "model.compile(loss= 'mean_squared_error' , optimizer= 'adam' )\n",
        "model.fit(trainX, trainY, nb_epoch=200, batch_size=2, verbose=2)"
      ],
      "execution_count": 0,
      "outputs": [
        {
          "output_type": "stream",
          "text": [
            "/usr/local/lib/python3.6/dist-packages/ipykernel_launcher.py:5: UserWarning: The `nb_epoch` argument in `fit` has been renamed `epochs`.\n",
            "  \"\"\"\n"
          ],
          "name": "stderr"
        },
        {
          "output_type": "stream",
          "text": [
            "Epoch 1/200\n",
            " - 1s - loss: 47119.4265\n",
            "Epoch 2/200\n",
            " - 0s - loss: 41545.7612\n",
            "Epoch 3/200\n",
            " - 0s - loss: 35848.4921\n",
            "Epoch 4/200\n",
            " - 0s - loss: 30059.7362\n",
            "Epoch 5/200\n",
            " - 0s - loss: 24220.8540\n",
            "Epoch 6/200\n",
            " - 0s - loss: 18719.5542\n",
            "Epoch 7/200\n",
            " - 0s - loss: 13716.7978\n",
            "Epoch 8/200\n",
            " - 0s - loss: 9549.7540\n",
            "Epoch 9/200\n",
            " - 0s - loss: 6295.1625\n",
            "Epoch 10/200\n",
            " - 0s - loss: 3940.7316\n",
            "Epoch 11/200\n",
            " - 0s - loss: 2401.1809\n",
            "Epoch 12/200\n",
            " - 0s - loss: 1484.3079\n",
            "Epoch 13/200\n",
            " - 0s - loss: 961.4625\n",
            "Epoch 14/200\n",
            " - 0s - loss: 702.7162\n",
            "Epoch 15/200\n",
            " - 0s - loss: 584.6663\n",
            "Epoch 16/200\n",
            " - 0s - loss: 536.1006\n",
            "Epoch 17/200\n",
            " - 0s - loss: 515.1353\n",
            "Epoch 18/200\n",
            " - 0s - loss: 509.2295\n",
            "Epoch 19/200\n",
            " - 0s - loss: 508.1606\n",
            "Epoch 20/200\n",
            " - 0s - loss: 507.1995\n",
            "Epoch 21/200\n",
            " - 0s - loss: 506.1282\n",
            "Epoch 22/200\n",
            " - 0s - loss: 505.5815\n",
            "Epoch 23/200\n",
            " - 0s - loss: 507.7949\n",
            "Epoch 24/200\n",
            " - 0s - loss: 508.3833\n",
            "Epoch 25/200\n",
            " - 0s - loss: 505.9842\n",
            "Epoch 26/200\n",
            " - 0s - loss: 508.9372\n",
            "Epoch 27/200\n",
            " - 0s - loss: 507.8899\n",
            "Epoch 28/200\n",
            " - 0s - loss: 507.5748\n",
            "Epoch 29/200\n",
            " - 0s - loss: 506.2962\n",
            "Epoch 30/200\n",
            " - 0s - loss: 509.0605\n",
            "Epoch 31/200\n",
            " - 0s - loss: 513.4975\n",
            "Epoch 32/200\n",
            " - 0s - loss: 505.9521\n",
            "Epoch 33/200\n",
            " - 0s - loss: 506.4751\n",
            "Epoch 34/200\n",
            " - 0s - loss: 506.1050\n",
            "Epoch 35/200\n",
            " - 0s - loss: 507.7866\n",
            "Epoch 36/200\n",
            " - 0s - loss: 509.5511\n",
            "Epoch 37/200\n",
            " - 0s - loss: 508.9358\n",
            "Epoch 38/200\n",
            " - 0s - loss: 507.1463\n",
            "Epoch 39/200\n",
            " - 0s - loss: 507.4795\n",
            "Epoch 40/200\n",
            " - 0s - loss: 506.3186\n",
            "Epoch 41/200\n",
            " - 0s - loss: 509.4227\n",
            "Epoch 42/200\n",
            " - 0s - loss: 509.1294\n",
            "Epoch 43/200\n",
            " - 0s - loss: 506.6772\n",
            "Epoch 44/200\n",
            " - 0s - loss: 508.4454\n",
            "Epoch 45/200\n",
            " - 0s - loss: 508.4867\n",
            "Epoch 46/200\n",
            " - 0s - loss: 508.1560\n",
            "Epoch 47/200\n",
            " - 0s - loss: 508.5268\n",
            "Epoch 48/200\n",
            " - 0s - loss: 510.1307\n",
            "Epoch 49/200\n",
            " - 0s - loss: 508.1846\n",
            "Epoch 50/200\n",
            " - 0s - loss: 511.3313\n",
            "Epoch 51/200\n",
            " - 0s - loss: 508.8480\n",
            "Epoch 52/200\n",
            " - 0s - loss: 508.4561\n",
            "Epoch 53/200\n",
            " - 0s - loss: 510.5443\n",
            "Epoch 54/200\n",
            " - 0s - loss: 507.3708\n",
            "Epoch 55/200\n",
            " - 0s - loss: 508.0198\n",
            "Epoch 56/200\n",
            " - 0s - loss: 513.6405\n",
            "Epoch 57/200\n",
            " - 0s - loss: 511.6531\n",
            "Epoch 58/200\n",
            " - 0s - loss: 508.6073\n",
            "Epoch 59/200\n",
            " - 0s - loss: 508.9164\n",
            "Epoch 60/200\n",
            " - 0s - loss: 511.0680\n",
            "Epoch 61/200\n",
            " - 0s - loss: 510.4148\n",
            "Epoch 62/200\n",
            " - 0s - loss: 507.8476\n",
            "Epoch 63/200\n",
            " - 0s - loss: 507.3246\n",
            "Epoch 64/200\n",
            " - 0s - loss: 507.4169\n",
            "Epoch 65/200\n",
            " - 0s - loss: 506.9539\n",
            "Epoch 66/200\n",
            " - 0s - loss: 507.5395\n",
            "Epoch 67/200\n",
            " - 0s - loss: 514.4437\n",
            "Epoch 68/200\n",
            " - 0s - loss: 509.9707\n",
            "Epoch 69/200\n",
            " - 0s - loss: 513.3502\n",
            "Epoch 70/200\n",
            " - 0s - loss: 508.9924\n",
            "Epoch 71/200\n",
            " - 0s - loss: 506.8283\n",
            "Epoch 72/200\n",
            " - 0s - loss: 507.1420\n",
            "Epoch 73/200\n",
            " - 0s - loss: 513.0616\n",
            "Epoch 74/200\n",
            " - 0s - loss: 510.8810\n",
            "Epoch 75/200\n",
            " - 0s - loss: 511.3218\n",
            "Epoch 76/200\n",
            " - 0s - loss: 509.2283\n",
            "Epoch 77/200\n",
            " - 0s - loss: 516.1322\n",
            "Epoch 78/200\n",
            " - 0s - loss: 509.9366\n",
            "Epoch 79/200\n",
            " - 0s - loss: 509.2347\n",
            "Epoch 80/200\n",
            " - 0s - loss: 511.3533\n",
            "Epoch 81/200\n",
            " - 0s - loss: 510.0873\n",
            "Epoch 82/200\n",
            " - 0s - loss: 508.7678\n",
            "Epoch 83/200\n",
            " - 0s - loss: 512.0481\n",
            "Epoch 84/200\n",
            " - 0s - loss: 509.8899\n",
            "Epoch 85/200\n",
            " - 0s - loss: 508.0313\n",
            "Epoch 86/200\n",
            " - 0s - loss: 512.3683\n",
            "Epoch 87/200\n",
            " - 0s - loss: 515.4397\n",
            "Epoch 88/200\n",
            " - 0s - loss: 511.4045\n",
            "Epoch 89/200\n",
            " - 0s - loss: 511.0529\n",
            "Epoch 90/200\n",
            " - 0s - loss: 508.4030\n",
            "Epoch 91/200\n",
            " - 0s - loss: 507.8817\n",
            "Epoch 92/200\n",
            " - 0s - loss: 507.5706\n",
            "Epoch 93/200\n",
            " - 0s - loss: 512.6384\n",
            "Epoch 94/200\n",
            " - 0s - loss: 510.2371\n",
            "Epoch 95/200\n",
            " - 0s - loss: 506.8603\n",
            "Epoch 96/200\n",
            " - 0s - loss: 510.0413\n",
            "Epoch 97/200\n",
            " - 0s - loss: 512.5292\n",
            "Epoch 98/200\n",
            " - 0s - loss: 513.2609\n",
            "Epoch 99/200\n",
            " - 0s - loss: 507.8340\n",
            "Epoch 100/200\n",
            " - 0s - loss: 508.3035\n",
            "Epoch 101/200\n",
            " - 0s - loss: 513.8806\n",
            "Epoch 102/200\n",
            " - 0s - loss: 512.3436\n",
            "Epoch 103/200\n",
            " - 0s - loss: 510.4658\n",
            "Epoch 104/200\n",
            " - 0s - loss: 513.7807\n",
            "Epoch 105/200\n",
            " - 0s - loss: 512.0214\n",
            "Epoch 106/200\n",
            " - 0s - loss: 516.7089\n",
            "Epoch 107/200\n",
            " - 0s - loss: 512.3773\n",
            "Epoch 108/200\n",
            " - 0s - loss: 508.2813\n",
            "Epoch 109/200\n",
            " - 0s - loss: 508.8168\n",
            "Epoch 110/200\n",
            " - 0s - loss: 514.4259\n",
            "Epoch 111/200\n",
            " - 0s - loss: 537.6726\n",
            "Epoch 112/200\n",
            " - 0s - loss: 508.2802\n",
            "Epoch 113/200\n",
            " - 0s - loss: 514.1046\n",
            "Epoch 114/200\n",
            " - 0s - loss: 505.6538\n",
            "Epoch 115/200\n",
            " - 0s - loss: 511.4504\n",
            "Epoch 116/200\n",
            " - 0s - loss: 510.9275\n",
            "Epoch 117/200\n",
            " - 0s - loss: 506.9688\n",
            "Epoch 118/200\n",
            " - 0s - loss: 506.5395\n",
            "Epoch 119/200\n",
            " - 0s - loss: 514.5198\n",
            "Epoch 120/200\n",
            " - 0s - loss: 507.7631\n",
            "Epoch 121/200\n",
            " - 0s - loss: 512.8954\n",
            "Epoch 122/200\n",
            " - 0s - loss: 507.5137\n",
            "Epoch 123/200\n",
            " - 0s - loss: 512.3893\n",
            "Epoch 124/200\n",
            " - 0s - loss: 511.8508\n",
            "Epoch 125/200\n",
            " - 0s - loss: 509.9749\n",
            "Epoch 126/200\n",
            " - 0s - loss: 508.1195\n",
            "Epoch 127/200\n",
            " - 0s - loss: 510.3550\n",
            "Epoch 128/200\n",
            " - 0s - loss: 516.1055\n",
            "Epoch 129/200\n",
            " - 0s - loss: 521.4534\n",
            "Epoch 130/200\n",
            " - 0s - loss: 511.9490\n",
            "Epoch 131/200\n",
            " - 0s - loss: 512.3981\n",
            "Epoch 132/200\n",
            " - 0s - loss: 512.4825\n",
            "Epoch 133/200\n",
            " - 0s - loss: 521.8902\n",
            "Epoch 134/200\n",
            " - 0s - loss: 515.3822\n",
            "Epoch 135/200\n",
            " - 0s - loss: 512.5375\n",
            "Epoch 136/200\n",
            " - 0s - loss: 505.3412\n",
            "Epoch 137/200\n",
            " - 0s - loss: 512.2378\n",
            "Epoch 138/200\n",
            " - 0s - loss: 509.7454\n",
            "Epoch 139/200\n",
            " - 0s - loss: 508.3120\n",
            "Epoch 140/200\n",
            " - 0s - loss: 516.2096\n",
            "Epoch 141/200\n",
            " - 0s - loss: 514.6218\n",
            "Epoch 142/200\n",
            " - 0s - loss: 517.5379\n",
            "Epoch 143/200\n",
            " - 0s - loss: 509.0917\n",
            "Epoch 144/200\n",
            " - 0s - loss: 508.0316\n",
            "Epoch 145/200\n",
            " - 0s - loss: 506.6573\n",
            "Epoch 146/200\n",
            " - 0s - loss: 506.5200\n",
            "Epoch 147/200\n",
            " - 0s - loss: 517.4909\n",
            "Epoch 148/200\n",
            " - 0s - loss: 508.7013\n",
            "Epoch 149/200\n",
            " - 0s - loss: 523.1385\n",
            "Epoch 150/200\n",
            " - 0s - loss: 509.1560\n",
            "Epoch 151/200\n",
            " - 0s - loss: 509.7019\n",
            "Epoch 152/200\n",
            " - 0s - loss: 516.6131\n",
            "Epoch 153/200\n",
            " - 0s - loss: 513.6415\n",
            "Epoch 154/200\n",
            " - 0s - loss: 507.5429\n",
            "Epoch 155/200\n",
            " - 0s - loss: 516.0587\n",
            "Epoch 156/200\n",
            " - 0s - loss: 507.5842\n",
            "Epoch 157/200\n",
            " - 0s - loss: 512.9618\n",
            "Epoch 158/200\n",
            " - 0s - loss: 517.8484\n",
            "Epoch 159/200\n",
            " - 0s - loss: 517.2717\n",
            "Epoch 160/200\n",
            " - 0s - loss: 509.3486\n",
            "Epoch 161/200\n",
            " - 0s - loss: 510.4277\n",
            "Epoch 162/200\n",
            " - 0s - loss: 507.9467\n",
            "Epoch 163/200\n",
            " - 0s - loss: 507.9312\n",
            "Epoch 164/200\n",
            " - 0s - loss: 514.0868\n",
            "Epoch 165/200\n",
            " - 0s - loss: 506.8352\n",
            "Epoch 166/200\n",
            " - 0s - loss: 517.9392\n",
            "Epoch 167/200\n",
            " - 0s - loss: 510.7443\n",
            "Epoch 168/200\n",
            " - 0s - loss: 507.4342\n",
            "Epoch 169/200\n",
            " - 0s - loss: 513.7878\n",
            "Epoch 170/200\n",
            " - 0s - loss: 512.0417\n",
            "Epoch 171/200\n",
            " - 0s - loss: 508.7969\n",
            "Epoch 172/200\n",
            " - 0s - loss: 511.3214\n",
            "Epoch 173/200\n",
            " - 0s - loss: 511.2573\n",
            "Epoch 174/200\n",
            " - 0s - loss: 514.9281\n",
            "Epoch 175/200\n",
            " - 0s - loss: 511.7377\n",
            "Epoch 176/200\n",
            " - 0s - loss: 509.5971\n",
            "Epoch 177/200\n",
            " - 0s - loss: 508.8916\n",
            "Epoch 178/200\n",
            " - 0s - loss: 507.5311\n",
            "Epoch 179/200\n",
            " - 0s - loss: 508.4700\n",
            "Epoch 180/200\n",
            " - 0s - loss: 508.9970\n",
            "Epoch 181/200\n",
            " - 0s - loss: 507.0513\n",
            "Epoch 182/200\n",
            " - 0s - loss: 518.7490\n",
            "Epoch 183/200\n",
            " - 0s - loss: 515.7413\n",
            "Epoch 184/200\n",
            " - 0s - loss: 510.1623\n",
            "Epoch 185/200\n",
            " - 0s - loss: 513.5436\n",
            "Epoch 186/200\n",
            " - 0s - loss: 512.0903\n",
            "Epoch 187/200\n",
            " - 0s - loss: 508.2327\n",
            "Epoch 188/200\n",
            " - 0s - loss: 511.5849\n",
            "Epoch 189/200\n",
            " - 0s - loss: 507.8594\n",
            "Epoch 190/200\n",
            " - 0s - loss: 508.9190\n",
            "Epoch 191/200\n",
            " - 0s - loss: 509.1399\n",
            "Epoch 192/200\n",
            " - 0s - loss: 510.8403\n",
            "Epoch 193/200\n",
            " - 0s - loss: 518.5258\n",
            "Epoch 194/200\n",
            " - 0s - loss: 512.8228\n",
            "Epoch 195/200\n",
            " - 0s - loss: 507.2866\n",
            "Epoch 196/200\n",
            " - 0s - loss: 514.0876\n",
            "Epoch 197/200\n",
            " - 0s - loss: 513.5580\n",
            "Epoch 198/200\n",
            " - 0s - loss: 516.5064\n",
            "Epoch 199/200\n",
            " - 0s - loss: 520.8180\n",
            "Epoch 200/200\n",
            " - 0s - loss: 517.7404\n"
          ],
          "name": "stdout"
        },
        {
          "output_type": "execute_result",
          "data": {
            "text/plain": [
              "<keras.callbacks.History at 0x7f1c3d9dabe0>"
            ]
          },
          "metadata": {
            "tags": []
          },
          "execution_count": 72
        }
      ]
    },
    {
      "metadata": {
        "id": "Qh8YgVvKvvus",
        "colab_type": "code",
        "outputId": "c8eb0bf9-792c-446c-f73c-9fa7431269e9",
        "colab": {
          "base_uri": "https://localhost:8080/",
          "height": 52
        }
      },
      "cell_type": "code",
      "source": [
        "# Estimate model performance\n",
        "trainScore = model.evaluate(trainX, trainY, verbose=0)\n",
        "print( 'Train MSE and RMSE:',(trainScore, math.sqrt(trainScore)))\n",
        "testScore = model.evaluate(testX, testY, verbose=0)\n",
        "print( ('Test MSE and RMSE:',testScore, math.sqrt(testScore)))"
      ],
      "execution_count": 0,
      "outputs": [
        {
          "output_type": "stream",
          "text": [
            "Train MSE and RMSE: (502.98828390370244, 22.427400293027777)\n",
            "('Test MSE and RMSE:', 2048.780197482639, 45.26345322092249)\n"
          ],
          "name": "stdout"
        }
      ]
    },
    {
      "metadata": {
        "id": "xY0DRmOIv7_x",
        "colab_type": "code",
        "outputId": "9ed7cb37-2591-4c06-aba1-7cce9155ee0a",
        "colab": {
          "base_uri": "https://localhost:8080/",
          "height": 269
        }
      },
      "cell_type": "code",
      "source": [
        "# generate predictions for training\n",
        "trainPredict = model.predict(trainX)\n",
        "testPredict = model.predict(testX)\n",
        "# shift train predictions for plotting\n",
        "trainPredictPlot = numpy.empty_like(dataset)\n",
        "trainPredictPlot[:, :] = numpy.nan\n",
        "trainPredictPlot[look_back:len(trainPredict)+look_back, :] = trainPredict\n",
        "# shift test predictions for plotting\n",
        "testPredictPlot = numpy.empty_like(dataset)\n",
        "testPredictPlot[:, :] = numpy.nan\n",
        "testPredictPlot[len(trainPredict)+(look_back*2)+1:len(dataset)-1, :] = testPredict\n",
        "# plot baseline and predictions\n",
        "plt.plot(dataset)\n",
        "plt.plot(trainPredictPlot)\n",
        "plt.plot(testPredictPlot)\n",
        "plt.show()"
      ],
      "execution_count": 0,
      "outputs": [
        {
          "output_type": "display_data",
          "data": {
            "image/png": "[encoded data removed]",
            "text/plain": [
              "<Figure size 432x288 with 1 Axes>"
            ]
          },
          "metadata": {
            "tags": []
          }
        }
      ]
    },
    {
      "metadata": {
        "id": "e0VMD53qw9mb",
        "colab_type": "text"
      },
      "cell_type": "markdown",
      "source": [
        "#Multilayer Perceptron Using the Window Method\n",
        "\n",
        "It's a regression problem with the input variables are t-2, t-1, t and the output variable is t+1"
      ]
    },
    {
      "metadata": {
        "id": "G8Ut6k743D62",
        "colab_type": "code",
        "outputId": "008c9648-73f4-41d9-aaa8-4fdda882c7bb",
        "colab": {
          "base_uri": "https://localhost:8080/",
          "height": 35
        }
      },
      "cell_type": "code",
      "source": [
        "# split into train and test sets\n",
        "train_size = int(len(dataset) * 0.67)\n",
        "test_size = len(dataset) - train_size\n",
        "train, test = dataset[0:train_size,:], dataset[train_size:len(dataset),:]\n",
        "print(len(train), len(test))"
      ],
      "execution_count": 0,
      "outputs": [
        {
          "output_type": "stream",
          "text": [
            "94 47\n"
          ],
          "name": "stdout"
        }
      ]
    },
    {
      "metadata": {
        "id": "3WnArozOwiPo",
        "colab_type": "code",
        "colab": {}
      },
      "cell_type": "code",
      "source": [
        "# reshape dataset\n",
        "look_back = 10\n",
        "trainX, trainY = create_dataset(train, look_back)\n",
        "testX, testY = create_dataset(test, look_back)"
      ],
      "execution_count": 0,
      "outputs": []
    },
    {
      "metadata": {
        "id": "PZvihcxNyU0r",
        "colab_type": "code",
        "outputId": "96797607-e976-48ba-b996-c7f8b7264b2f",
        "colab": {
          "base_uri": "https://localhost:8080/",
          "height": 7003
        }
      },
      "cell_type": "code",
      "source": [
        "# create and fit Multilayer Perceptron model\n",
        "model = Sequential()\n",
        "model.add(Dense(8, input_dim=look_back, activation= 'relu' ))\n",
        "model.add(Dense(1))\n",
        "model.compile(loss= 'mean_squared_error' , optimizer= 'adam' )\n",
        "model.fit(trainX, trainY, nb_epoch=200, batch_size=2, verbose=2)"
      ],
      "execution_count": 0,
      "outputs": [
        {
          "output_type": "stream",
          "text": [
            "/usr/local/lib/python3.6/dist-packages/ipykernel_launcher.py:5: UserWarning: The `nb_epoch` argument in `fit` has been renamed `epochs`.\n",
            "  \"\"\"\n"
          ],
          "name": "stderr"
        },
        {
          "output_type": "stream",
          "text": [
            "Epoch 1/200\n",
            " - 1s - loss: 1670.1791\n",
            "Epoch 2/200\n",
            " - 0s - loss: 1338.5540\n",
            "Epoch 3/200\n",
            " - 0s - loss: 1310.8169\n",
            "Epoch 4/200\n",
            " - 0s - loss: 1228.6793\n",
            "Epoch 5/200\n",
            " - 0s - loss: 1170.9096\n",
            "Epoch 6/200\n",
            " - 0s - loss: 1213.8885\n",
            "Epoch 7/200\n",
            " - 0s - loss: 1147.8341\n",
            "Epoch 8/200\n",
            " - 0s - loss: 1091.9570\n",
            "Epoch 9/200\n",
            " - 0s - loss: 1062.8630\n",
            "Epoch 10/200\n",
            " - 0s - loss: 1033.4355\n",
            "Epoch 11/200\n",
            " - 0s - loss: 1077.9398\n",
            "Epoch 12/200\n",
            " - 0s - loss: 1034.9093\n",
            "Epoch 13/200\n",
            " - 0s - loss: 1025.0057\n",
            "Epoch 14/200\n",
            " - 0s - loss: 1040.6515\n",
            "Epoch 15/200\n",
            " - 0s - loss: 955.8865\n",
            "Epoch 16/200\n",
            " - 0s - loss: 934.1235\n",
            "Epoch 17/200\n",
            " - 0s - loss: 991.3689\n",
            "Epoch 18/200\n",
            " - 0s - loss: 924.2302\n",
            "Epoch 19/200\n",
            " - 0s - loss: 947.7087\n",
            "Epoch 20/200\n",
            " - 0s - loss: 858.7956\n",
            "Epoch 21/200\n",
            " - 0s - loss: 900.4036\n",
            "Epoch 22/200\n",
            " - 0s - loss: 896.0317\n",
            "Epoch 23/200\n",
            " - 0s - loss: 838.5557\n",
            "Epoch 24/200\n",
            " - 0s - loss: 826.2728\n",
            "Epoch 25/200\n",
            " - 0s - loss: 799.4730\n",
            "Epoch 26/200\n",
            " - 0s - loss: 805.2413\n",
            "Epoch 27/200\n",
            " - 0s - loss: 809.0692\n",
            "Epoch 28/200\n",
            " - 0s - loss: 754.2132\n",
            "Epoch 29/200\n",
            " - 0s - loss: 776.1726\n",
            "Epoch 30/200\n",
            " - 0s - loss: 736.3958\n",
            "Epoch 31/200\n",
            " - 0s - loss: 719.3008\n",
            "Epoch 32/200\n",
            " - 0s - loss: 702.2657\n",
            "Epoch 33/200\n",
            " - 0s - loss: 694.1413\n",
            "Epoch 34/200\n",
            " - 0s - loss: 680.5611\n",
            "Epoch 35/200\n",
            " - 0s - loss: 757.4538\n",
            "Epoch 36/200\n",
            " - 0s - loss: 659.7931\n",
            "Epoch 37/200\n",
            " - 0s - loss: 652.5022\n",
            "Epoch 38/200\n",
            " - 0s - loss: 676.2742\n",
            "Epoch 39/200\n",
            " - 0s - loss: 642.4368\n",
            "Epoch 40/200\n",
            " - 0s - loss: 631.8543\n",
            "Epoch 41/200\n",
            " - 0s - loss: 623.4578\n",
            "Epoch 42/200\n",
            " - 0s - loss: 636.0892\n",
            "Epoch 43/200\n",
            " - 0s - loss: 661.5963\n",
            "Epoch 44/200\n",
            " - 0s - loss: 614.6771\n",
            "Epoch 45/200\n",
            " - 0s - loss: 604.7046\n",
            "Epoch 46/200\n",
            " - 0s - loss: 591.7408\n",
            "Epoch 47/200\n",
            " - 0s - loss: 647.4642\n",
            "Epoch 48/200\n",
            " - 0s - loss: 566.2157\n",
            "Epoch 49/200\n",
            " - 0s - loss: 587.2871\n",
            "Epoch 50/200\n",
            " - 0s - loss: 572.1950\n",
            "Epoch 51/200\n",
            " - 0s - loss: 544.1112\n",
            "Epoch 52/200\n",
            " - 0s - loss: 529.2635\n",
            "Epoch 53/200\n",
            " - 0s - loss: 580.1351\n",
            "Epoch 54/200\n",
            " - 0s - loss: 618.6621\n",
            "Epoch 55/200\n",
            " - 0s - loss: 529.9850\n",
            "Epoch 56/200\n",
            " - 0s - loss: 516.2071\n",
            "Epoch 57/200\n",
            " - 0s - loss: 543.7104\n",
            "Epoch 58/200\n",
            " - 0s - loss: 529.8834\n",
            "Epoch 59/200\n",
            " - 0s - loss: 518.0720\n",
            "Epoch 60/200\n",
            " - 0s - loss: 517.2518\n",
            "Epoch 61/200\n",
            " - 0s - loss: 546.4907\n",
            "Epoch 62/200\n",
            " - 0s - loss: 496.3277\n",
            "Epoch 63/200\n",
            " - 0s - loss: 509.8508\n",
            "Epoch 64/200\n",
            " - 0s - loss: 491.7631\n",
            "Epoch 65/200\n",
            " - 0s - loss: 489.3521\n",
            "Epoch 66/200\n",
            " - 0s - loss: 612.0697\n",
            "Epoch 67/200\n",
            " - 0s - loss: 545.3330\n",
            "Epoch 68/200\n",
            " - 0s - loss: 480.1469\n",
            "Epoch 69/200\n",
            " - 0s - loss: 505.2296\n",
            "Epoch 70/200\n",
            " - 0s - loss: 563.5333\n",
            "Epoch 71/200\n",
            " - 0s - loss: 487.9011\n",
            "Epoch 72/200\n",
            " - 0s - loss: 472.5165\n",
            "Epoch 73/200\n",
            " - 0s - loss: 475.8563\n",
            "Epoch 74/200\n",
            " - 0s - loss: 462.0616\n",
            "Epoch 75/200\n",
            " - 0s - loss: 461.2709\n",
            "Epoch 76/200\n",
            " - 0s - loss: 454.1584\n",
            "Epoch 77/200\n",
            " - 0s - loss: 456.2105\n",
            "Epoch 78/200\n",
            " - 0s - loss: 470.5941\n",
            "Epoch 79/200\n",
            " - 0s - loss: 436.9080\n",
            "Epoch 80/200\n",
            " - 0s - loss: 500.6048\n",
            "Epoch 81/200\n",
            " - 0s - loss: 454.4211\n",
            "Epoch 82/200\n",
            " - 0s - loss: 462.0668\n",
            "Epoch 83/200\n",
            " - 0s - loss: 479.0065\n",
            "Epoch 84/200\n",
            " - 0s - loss: 455.1334\n",
            "Epoch 85/200\n",
            " - 0s - loss: 467.8003\n",
            "Epoch 86/200\n",
            " - 0s - loss: 437.1991\n",
            "Epoch 87/200\n",
            " - 0s - loss: 431.2250\n",
            "Epoch 88/200\n",
            " - 0s - loss: 425.3788\n",
            "Epoch 89/200\n",
            " - 0s - loss: 410.7290\n",
            "Epoch 90/200\n",
            " - 0s - loss: 422.8616\n",
            "Epoch 91/200\n",
            " - 0s - loss: 431.6438\n",
            "Epoch 92/200\n",
            " - 0s - loss: 412.3807\n",
            "Epoch 93/200\n",
            " - 0s - loss: 425.9698\n",
            "Epoch 94/200\n",
            " - 0s - loss: 440.7168\n",
            "Epoch 95/200\n",
            " - 0s - loss: 424.9583\n",
            "Epoch 96/200\n",
            " - 0s - loss: 422.4708\n",
            "Epoch 97/200\n",
            " - 0s - loss: 426.7091\n",
            "Epoch 98/200\n",
            " - 0s - loss: 409.3267\n",
            "Epoch 99/200\n",
            " - 0s - loss: 410.2164\n",
            "Epoch 100/200\n",
            " - 0s - loss: 418.5051\n",
            "Epoch 101/200\n",
            " - 0s - loss: 422.0239\n",
            "Epoch 102/200\n",
            " - 0s - loss: 384.6149\n",
            "Epoch 103/200\n",
            " - 0s - loss: 398.4156\n",
            "Epoch 104/200\n",
            " - 0s - loss: 401.7734\n",
            "Epoch 105/200\n",
            " - 0s - loss: 386.7780\n",
            "Epoch 106/200\n",
            " - 0s - loss: 373.5811\n",
            "Epoch 107/200\n",
            " - 0s - loss: 369.6658\n",
            "Epoch 108/200\n",
            " - 0s - loss: 383.6227\n",
            "Epoch 109/200\n",
            " - 0s - loss: 371.2186\n",
            "Epoch 110/200\n",
            " - 0s - loss: 385.8935\n",
            "Epoch 111/200\n",
            " - 0s - loss: 353.8419\n",
            "Epoch 112/200\n",
            " - 0s - loss: 427.5216\n",
            "Epoch 113/200\n",
            " - 0s - loss: 374.8212\n",
            "Epoch 114/200\n",
            " - 0s - loss: 412.8693\n",
            "Epoch 115/200\n",
            " - 0s - loss: 389.6645\n",
            "Epoch 116/200\n",
            " - 0s - loss: 357.7546\n",
            "Epoch 117/200\n",
            " - 0s - loss: 374.7602\n",
            "Epoch 118/200\n",
            " - 0s - loss: 347.9914\n",
            "Epoch 119/200\n",
            " - 0s - loss: 403.8915\n",
            "Epoch 120/200\n",
            " - 0s - loss: 355.8693\n",
            "Epoch 121/200\n",
            " - 0s - loss: 346.2960\n",
            "Epoch 122/200\n",
            " - 0s - loss: 347.6781\n",
            "Epoch 123/200\n",
            " - 0s - loss: 387.5248\n",
            "Epoch 124/200\n",
            " - 0s - loss: 340.4613\n",
            "Epoch 125/200\n",
            " - 0s - loss: 360.1589\n",
            "Epoch 126/200\n",
            " - 0s - loss: 335.9815\n",
            "Epoch 127/200\n",
            " - 0s - loss: 340.5564\n",
            "Epoch 128/200\n",
            " - 0s - loss: 340.7419\n",
            "Epoch 129/200\n",
            " - 0s - loss: 327.1776\n",
            "Epoch 130/200\n",
            " - 0s - loss: 327.4549\n",
            "Epoch 131/200\n",
            " - 0s - loss: 342.7379\n",
            "Epoch 132/200\n",
            " - 0s - loss: 326.4857\n",
            "Epoch 133/200\n",
            " - 0s - loss: 324.9592\n",
            "Epoch 134/200\n",
            " - 0s - loss: 317.4999\n",
            "Epoch 135/200\n",
            " - 0s - loss: 328.0017\n",
            "Epoch 136/200\n",
            " - 0s - loss: 345.3032\n",
            "Epoch 137/200\n",
            " - 0s - loss: 331.0807\n",
            "Epoch 138/200\n",
            " - 0s - loss: 287.2093\n",
            "Epoch 139/200\n",
            " - 0s - loss: 363.6883\n",
            "Epoch 140/200\n",
            " - 0s - loss: 352.7377\n",
            "Epoch 141/200\n",
            " - 0s - loss: 339.8320\n",
            "Epoch 142/200\n",
            " - 0s - loss: 338.4553\n",
            "Epoch 143/200\n",
            " - 0s - loss: 336.2696\n",
            "Epoch 144/200\n",
            " - 0s - loss: 340.0733\n",
            "Epoch 145/200\n",
            " - 0s - loss: 379.7325\n",
            "Epoch 146/200\n",
            " - 0s - loss: 359.9950\n",
            "Epoch 147/200\n",
            " - 0s - loss: 313.6691\n",
            "Epoch 148/200\n",
            " - 0s - loss: 324.3363\n",
            "Epoch 149/200\n",
            " - 0s - loss: 373.3408\n",
            "Epoch 150/200\n",
            " - 0s - loss: 301.7280\n",
            "Epoch 151/200\n",
            " - 0s - loss: 302.1433\n",
            "Epoch 152/200\n",
            " - 0s - loss: 322.6165\n",
            "Epoch 153/200\n",
            " - 0s - loss: 295.2084\n",
            "Epoch 154/200\n",
            " - 0s - loss: 298.6508\n",
            "Epoch 155/200\n",
            " - 0s - loss: 323.1982\n",
            "Epoch 156/200\n",
            " - 0s - loss: 293.8722\n",
            "Epoch 157/200\n",
            " - 0s - loss: 312.1000\n",
            "Epoch 158/200\n",
            " - 0s - loss: 288.6400\n",
            "Epoch 159/200\n",
            " - 0s - loss: 293.4782\n",
            "Epoch 160/200\n",
            " - 0s - loss: 311.5838\n",
            "Epoch 161/200\n",
            " - 0s - loss: 280.2738\n",
            "Epoch 162/200\n",
            " - 0s - loss: 280.6931\n",
            "Epoch 163/200\n",
            " - 0s - loss: 311.5159\n",
            "Epoch 164/200\n",
            " - 0s - loss: 297.2392\n",
            "Epoch 165/200\n",
            " - 0s - loss: 289.0046\n",
            "Epoch 166/200\n",
            " - 0s - loss: 302.1030\n",
            "Epoch 167/200\n",
            " - 0s - loss: 264.3843\n",
            "Epoch 168/200\n",
            " - 0s - loss: 270.0179\n",
            "Epoch 169/200\n",
            " - 0s - loss: 259.6086\n",
            "Epoch 170/200\n",
            " - 0s - loss: 303.3290\n",
            "Epoch 171/200\n",
            " - 0s - loss: 270.6430\n",
            "Epoch 172/200\n",
            " - 0s - loss: 303.9984\n",
            "Epoch 173/200\n",
            " - 0s - loss: 295.0531\n",
            "Epoch 174/200\n",
            " - 0s - loss: 260.7606\n",
            "Epoch 175/200\n",
            " - 0s - loss: 288.3666\n",
            "Epoch 176/200\n",
            " - 0s - loss: 276.8495\n",
            "Epoch 177/200\n",
            " - 0s - loss: 268.0001\n",
            "Epoch 178/200\n",
            " - 0s - loss: 256.5228\n",
            "Epoch 179/200\n",
            " - 0s - loss: 252.7325\n",
            "Epoch 180/200\n",
            " - 0s - loss: 275.1443\n",
            "Epoch 181/200\n",
            " - 0s - loss: 244.8689\n",
            "Epoch 182/200\n",
            " - 0s - loss: 247.2955\n",
            "Epoch 183/200\n",
            " - 0s - loss: 252.4610\n",
            "Epoch 184/200\n",
            " - 0s - loss: 254.4032\n",
            "Epoch 185/200\n",
            " - 0s - loss: 240.9857\n",
            "Epoch 186/200\n",
            " - 0s - loss: 270.6538\n",
            "Epoch 187/200\n",
            " - 0s - loss: 289.7054\n",
            "Epoch 188/200\n",
            " - 0s - loss: 244.4372\n",
            "Epoch 189/200\n",
            " - 0s - loss: 240.4447\n",
            "Epoch 190/200\n",
            " - 0s - loss: 226.3812\n",
            "Epoch 191/200\n",
            " - 0s - loss: 263.5825\n",
            "Epoch 192/200\n",
            " - 0s - loss: 249.4464\n",
            "Epoch 193/200\n",
            " - 0s - loss: 244.0459\n",
            "Epoch 194/200\n",
            " - 0s - loss: 230.4060\n",
            "Epoch 195/200\n",
            " - 0s - loss: 257.4409\n",
            "Epoch 196/200\n",
            " - 0s - loss: 239.0504\n",
            "Epoch 197/200\n",
            " - 0s - loss: 248.3373\n",
            "Epoch 198/200\n",
            " - 0s - loss: 234.4468\n",
            "Epoch 199/200\n",
            " - 0s - loss: 219.1940\n",
            "Epoch 200/200\n",
            " - 0s - loss: 234.7958\n"
          ],
          "name": "stdout"
        },
        {
          "output_type": "execute_result",
          "data": {
            "text/plain": [
              "<keras.callbacks.History at 0x7f1c499e2668>"
            ]
          },
          "metadata": {
            "tags": []
          },
          "execution_count": 77
        }
      ]
    },
    {
      "metadata": {
        "id": "divY_TuoynBN",
        "colab_type": "code",
        "outputId": "8c659222-f371-4b58-ff1e-d11666df5d51",
        "colab": {
          "base_uri": "https://localhost:8080/",
          "height": 52
        }
      },
      "cell_type": "code",
      "source": [
        "# Estimate model performance\n",
        "trainScore = model.evaluate(trainX, trainY, verbose=0)\n",
        "print( 'Train MSE and RMSE' ,(trainScore, math.sqrt(trainScore)))\n",
        "testScore = model.evaluate(testX, testY, verbose=0)\n",
        "print('Test MSE and RMSE' ,(testScore, math.sqrt(testScore)))"
      ],
      "execution_count": 0,
      "outputs": [
        {
          "output_type": "stream",
          "text": [
            "Train MSE and RMSE (205.35969727297862, 14.330376731718486)\n",
            "Test MSE and RMSE (943.5794813368055, 30.717738870834967)\n"
          ],
          "name": "stdout"
        }
      ]
    },
    {
      "metadata": {
        "id": "tS4xyLzG2GW-",
        "colab_type": "code",
        "colab": {}
      },
      "cell_type": "code",
      "source": [
        "# generate predictions for training\n",
        "trainPredict = model.predict(trainX)\n",
        "testPredict = model.predict(testX)"
      ],
      "execution_count": 0,
      "outputs": []
    },
    {
      "metadata": {
        "id": "c0hpVcXM2YX-",
        "colab_type": "code",
        "colab": {}
      },
      "cell_type": "code",
      "source": [
        "# shift train predictions for plotting\n",
        "trainPredictPlot = numpy.empty_like(dataset)\n",
        "trainPredictPlot[:, :] = numpy.nan\n",
        "trainPredictPlot[look_back:len(trainPredict)+look_back, :] = trainPredict"
      ],
      "execution_count": 0,
      "outputs": []
    },
    {
      "metadata": {
        "id": "r5xNY1Dw2as9",
        "colab_type": "code",
        "colab": {}
      },
      "cell_type": "code",
      "source": [
        "# shift test predictions for plotting\n",
        "testPredictPlot = numpy.empty_like(dataset)\n",
        "testPredictPlot[:, :] = numpy.nan\n",
        "testPredictPlot[len(trainPredict)+(look_back*2)+1:len(dataset)-1, :] = testPredict"
      ],
      "execution_count": 0,
      "outputs": []
    },
    {
      "metadata": {
        "id": "e9sXvcSe2dSA",
        "colab_type": "code",
        "outputId": "6739bba6-737e-4e6c-b5c5-7505c7c6f264",
        "colab": {
          "base_uri": "https://localhost:8080/",
          "height": 269
        }
      },
      "cell_type": "code",
      "source": [
        "# plot baseline and predictions\n",
        "plt.plot(dataset)\n",
        "plt.plot(trainPredictPlot)\n",
        "plt.plot(testPredictPlot)\n",
        "plt.show()"
      ],
      "execution_count": 0,
      "outputs": [
        {
          "output_type": "display_data",
          "data": {
            "image/png": "[encoded data removed]",
            "text/plain": [
              "<Figure size 432x288 with 1 Axes>"
            ]
          },
          "metadata": {
            "tags": []
          }
        }
      ]
    },
    {
      "metadata": {
        "id": "O-ywXyr33ryW",
        "colab_type": "text"
      },
      "cell_type": "markdown",
      "source": [
        "#LSTM for regression"
      ]
    },
    {
      "metadata": {
        "id": "d0vS-mFB333V",
        "colab_type": "code",
        "colab": {}
      },
      "cell_type": "code",
      "source": [
        "from sklearn.preprocessing import MinMaxScaler\n",
        "scaler = MinMaxScaler(feature_range=(0, 1))\n",
        "dataset = scaler.fit_transform(dataset)"
      ],
      "execution_count": 0,
      "outputs": []
    },
    {
      "metadata": {
        "id": "bmayH414fSCS",
        "colab_type": "code",
        "colab": {}
      },
      "cell_type": "code",
      "source": [
        "train_size = int(len(dataset) * 0.67)\n",
        "test_size = len(dataset) - train_size\n",
        "train, test = dataset[0:train_size,:], dataset[train_size:len(dataset),:]"
      ],
      "execution_count": 0,
      "outputs": []
    },
    {
      "metadata": {
        "id": "e_B2whGG36B9",
        "colab_type": "code",
        "colab": {}
      },
      "cell_type": "code",
      "source": [
        "# reshape input to be [samples, time steps, features]\n",
        "trainX, trainY = create_dataset(train, look_back)\n",
        "testX, testY = create_dataset(test, look_back)\n",
        "trainX = numpy.reshape(trainX, (trainX.shape[0], trainX.shape[1], 1))\n",
        "testX = numpy.reshape(testX, (testX.shape[0], testX.shape[1], 1))"
      ],
      "execution_count": 0,
      "outputs": []
    },
    {
      "metadata": {
        "id": "zjCZcORk4IT9",
        "colab_type": "code",
        "outputId": "844ba514-092b-473b-8757-34f7d150553a",
        "colab": {
          "base_uri": "https://localhost:8080/",
          "height": 3519
        }
      },
      "cell_type": "code",
      "source": [
        "# create and fit the LSTM network\n",
        "import tensorflow as tf\n",
        "from keras.models import Sequential\n",
        "from keras.models import Sequential\n",
        "from keras import layers\n",
        "batch_size = 1\n",
        "model = Sequential()\n",
        "model.add(layers.LSTM(4, batch_input_shape=(batch_size, look_back, 1), stateful=True))\n",
        "model.add(Dense(1))\n",
        "model.compile(loss= 'mean_squared_error' , optimizer= 'adam' )\n",
        "for i in range(100):\n",
        "  model.fit(trainX, trainY, nb_epoch=1, batch_size=batch_size, verbose=2, shuffle=False)\n",
        "  model.reset_states()"
      ],
      "execution_count": 0,
      "outputs": [
        {
          "output_type": "stream",
          "text": [
            "/usr/local/lib/python3.6/dist-packages/ipykernel_launcher.py:11: UserWarning: The `nb_epoch` argument in `fit` has been renamed `epochs`.\n",
            "  # This is added back by InteractiveShellApp.init_path()\n"
          ],
          "name": "stderr"
        },
        {
          "output_type": "stream",
          "text": [
            "Epoch 1/1\n",
            " - 2s - loss: 0.0114\n",
            "Epoch 1/1\n",
            " - 0s - loss: 0.0185\n",
            "Epoch 1/1\n",
            " - 0s - loss: 0.0124\n",
            "Epoch 1/1\n",
            " - 0s - loss: 0.0083\n",
            "Epoch 1/1\n",
            " - 0s - loss: 0.0062\n",
            "Epoch 1/1\n",
            " - 0s - loss: 0.0055\n",
            "Epoch 1/1\n",
            " - 0s - loss: 0.0055\n",
            "Epoch 1/1\n",
            " - 0s - loss: 0.0055\n",
            "Epoch 1/1\n",
            " - 0s - loss: 0.0055\n",
            "Epoch 1/1\n",
            " - 0s - loss: 0.0054\n",
            "Epoch 1/1\n",
            " - 0s - loss: 0.0054\n",
            "Epoch 1/1\n",
            " - 0s - loss: 0.0053\n",
            "Epoch 1/1\n",
            " - 0s - loss: 0.0053\n",
            "Epoch 1/1\n",
            " - 0s - loss: 0.0052\n",
            "Epoch 1/1\n",
            " - 0s - loss: 0.0052\n",
            "Epoch 1/1\n",
            " - 0s - loss: 0.0051\n",
            "Epoch 1/1\n",
            " - 0s - loss: 0.0051\n",
            "Epoch 1/1\n",
            " - 0s - loss: 0.0050\n",
            "Epoch 1/1\n",
            " - 0s - loss: 0.0050\n",
            "Epoch 1/1\n",
            " - 0s - loss: 0.0050\n",
            "Epoch 1/1\n",
            " - 0s - loss: 0.0049\n",
            "Epoch 1/1\n",
            " - 0s - loss: 0.0049\n",
            "Epoch 1/1\n",
            " - 0s - loss: 0.0049\n",
            "Epoch 1/1\n",
            " - 0s - loss: 0.0048\n",
            "Epoch 1/1\n",
            " - 0s - loss: 0.0048\n",
            "Epoch 1/1\n",
            " - 0s - loss: 0.0048\n",
            "Epoch 1/1\n",
            " - 0s - loss: 0.0048\n",
            "Epoch 1/1\n",
            " - 0s - loss: 0.0047\n",
            "Epoch 1/1\n",
            " - 0s - loss: 0.0047\n",
            "Epoch 1/1\n",
            " - 0s - loss: 0.0047\n",
            "Epoch 1/1\n",
            " - 0s - loss: 0.0047\n",
            "Epoch 1/1\n",
            " - 0s - loss: 0.0046\n",
            "Epoch 1/1\n",
            " - 0s - loss: 0.0046\n",
            "Epoch 1/1\n",
            " - 0s - loss: 0.0046\n",
            "Epoch 1/1\n",
            " - 0s - loss: 0.0046\n",
            "Epoch 1/1\n",
            " - 0s - loss: 0.0046\n",
            "Epoch 1/1\n",
            " - 0s - loss: 0.0045\n",
            "Epoch 1/1\n",
            " - 0s - loss: 0.0045\n",
            "Epoch 1/1\n",
            " - 0s - loss: 0.0045\n",
            "Epoch 1/1\n",
            " - 0s - loss: 0.0045\n",
            "Epoch 1/1\n",
            " - 0s - loss: 0.0045\n",
            "Epoch 1/1\n",
            " - 0s - loss: 0.0045\n",
            "Epoch 1/1\n",
            " - 0s - loss: 0.0044\n",
            "Epoch 1/1\n",
            " - 0s - loss: 0.0044\n",
            "Epoch 1/1\n",
            " - 0s - loss: 0.0044\n",
            "Epoch 1/1\n",
            " - 0s - loss: 0.0044\n",
            "Epoch 1/1\n",
            " - 0s - loss: 0.0044\n",
            "Epoch 1/1\n",
            " - 0s - loss: 0.0043\n",
            "Epoch 1/1\n",
            " - 0s - loss: 0.0043\n",
            "Epoch 1/1\n",
            " - 0s - loss: 0.0043\n",
            "Epoch 1/1\n",
            " - 0s - loss: 0.0043\n",
            "Epoch 1/1\n",
            " - 0s - loss: 0.0043\n",
            "Epoch 1/1\n",
            " - 0s - loss: 0.0042\n",
            "Epoch 1/1\n",
            " - 0s - loss: 0.0042\n",
            "Epoch 1/1\n",
            " - 0s - loss: 0.0042\n",
            "Epoch 1/1\n",
            " - 0s - loss: 0.0042\n",
            "Epoch 1/1\n",
            " - 0s - loss: 0.0041\n",
            "Epoch 1/1\n",
            " - 0s - loss: 0.0041\n",
            "Epoch 1/1\n",
            " - 0s - loss: 0.0041\n",
            "Epoch 1/1\n",
            " - 0s - loss: 0.0040\n",
            "Epoch 1/1\n",
            " - 0s - loss: 0.0040\n",
            "Epoch 1/1\n",
            " - 0s - loss: 0.0039\n",
            "Epoch 1/1\n",
            " - 0s - loss: 0.0039\n",
            "Epoch 1/1\n",
            " - 0s - loss: 0.0039\n",
            "Epoch 1/1\n",
            " - 0s - loss: 0.0038\n",
            "Epoch 1/1\n",
            " - 0s - loss: 0.0038\n",
            "Epoch 1/1\n",
            " - 0s - loss: 0.0037\n",
            "Epoch 1/1\n",
            " - 0s - loss: 0.0037\n",
            "Epoch 1/1\n",
            " - 0s - loss: 0.0036\n",
            "Epoch 1/1\n",
            " - 0s - loss: 0.0036\n",
            "Epoch 1/1\n",
            " - 0s - loss: 0.0035\n",
            "Epoch 1/1\n",
            " - 0s - loss: 0.0035\n",
            "Epoch 1/1\n",
            " - 0s - loss: 0.0035\n",
            "Epoch 1/1\n",
            " - 0s - loss: 0.0034\n",
            "Epoch 1/1\n",
            " - 0s - loss: 0.0034\n",
            "Epoch 1/1\n",
            " - 0s - loss: 0.0033\n",
            "Epoch 1/1\n",
            " - 0s - loss: 0.0033\n",
            "Epoch 1/1\n",
            " - 0s - loss: 0.0033\n",
            "Epoch 1/1\n",
            " - 0s - loss: 0.0032\n",
            "Epoch 1/1\n",
            " - 0s - loss: 0.0032\n",
            "Epoch 1/1\n",
            " - 0s - loss: 0.0032\n",
            "Epoch 1/1\n",
            " - 0s - loss: 0.0032\n",
            "Epoch 1/1\n",
            " - 0s - loss: 0.0031\n",
            "Epoch 1/1\n",
            " - 0s - loss: 0.0031\n",
            "Epoch 1/1\n",
            " - 0s - loss: 0.0031\n",
            "Epoch 1/1\n",
            " - 0s - loss: 0.0031\n",
            "Epoch 1/1\n",
            " - 0s - loss: 0.0030\n",
            "Epoch 1/1\n",
            " - 0s - loss: 0.0030\n",
            "Epoch 1/1\n",
            " - 0s - loss: 0.0030\n",
            "Epoch 1/1\n",
            " - 0s - loss: 0.0030\n",
            "Epoch 1/1\n",
            " - 0s - loss: 0.0030\n",
            "Epoch 1/1\n",
            " - 0s - loss: 0.0029\n",
            "Epoch 1/1\n",
            " - 0s - loss: 0.0029\n",
            "Epoch 1/1\n",
            " - 0s - loss: 0.0029\n",
            "Epoch 1/1\n",
            " - 0s - loss: 0.0029\n",
            "Epoch 1/1\n",
            " - 0s - loss: 0.0029\n",
            "Epoch 1/1\n",
            " - 0s - loss: 0.0028\n",
            "Epoch 1/1\n",
            " - 0s - loss: 0.0028\n",
            "Epoch 1/1\n",
            " - 0s - loss: 0.0028\n",
            "Epoch 1/1\n",
            " - 0s - loss: 0.0028\n"
          ],
          "name": "stdout"
        }
      ]
    },
    {
      "metadata": {
        "id": "bP25KhkfcKOT",
        "colab_type": "code",
        "colab": {}
      },
      "cell_type": "code",
      "source": [
        "# make predictions\n",
        "trainPredict = model.predict(trainX, batch_size=batch_size)\n",
        "model.reset_states()\n",
        "testPredict = model.predict(testX, batch_size=batch_size)"
      ],
      "execution_count": 0,
      "outputs": []
    },
    {
      "metadata": {
        "id": "Jwa7vu1f4TC9",
        "colab_type": "code",
        "colab": {}
      },
      "cell_type": "code",
      "source": [
        "# invert predictions\n",
        "trainPredict = scaler.inverse_transform(trainPredict)\n",
        "trainY = scaler.inverse_transform([trainY])\n",
        "testPredict = scaler.inverse_transform(testPredict)\n",
        "testY = scaler.inverse_transform([testY])"
      ],
      "execution_count": 0,
      "outputs": []
    },
    {
      "metadata": {
        "id": "5KXykmGRcNZB",
        "colab_type": "code",
        "outputId": "60727d72-9968-4a1b-d4cf-3630783e5e08",
        "colab": {
          "base_uri": "https://localhost:8080/",
          "height": 52
        }
      },
      "cell_type": "code",
      "source": [
        "# calculate root mean squared error\n",
        "from sklearn.metrics import mean_squared_error\n",
        "import math\n",
        "trainScore = math.sqrt(mean_squared_error(trainY[0], trainPredict[:,0]))\n",
        "print( 'Train RMSE:',(trainScore))\n",
        "testScore = math.sqrt(mean_squared_error(testY[0], testPredict[:,0]))\n",
        "print( 'Test RMSE:', (testScore))"
      ],
      "execution_count": 0,
      "outputs": [
        {
          "output_type": "stream",
          "text": [
            "Train RMSE: 26.46956873697526\n",
            "Test RMSE: 58.10517287735403\n"
          ],
          "name": "stdout"
        }
      ]
    },
    {
      "metadata": {
        "id": "IjAZ14ERchXO",
        "colab_type": "code",
        "colab": {}
      },
      "cell_type": "code",
      "source": [
        "# shift train predictions for plotting\n",
        "trainPredictPlot = numpy.empty_like(dataset)\n",
        "trainPredictPlot[:, :] = numpy.nan\n",
        "trainPredictPlot[look_back:len(trainPredict)+look_back, :] = trainPredict"
      ],
      "execution_count": 0,
      "outputs": []
    },
    {
      "metadata": {
        "id": "qcazE5ejh-xm",
        "colab_type": "code",
        "colab": {}
      },
      "cell_type": "code",
      "source": [
        "# shift test predictions for plotting\n",
        "testPredictPlot = numpy.empty_like(dataset)\n",
        "testPredictPlot[:, :] = numpy.nan\n",
        "testPredictPlot[len(trainPredict)+(look_back*2)+1:len(dataset)-1, :] = testPredict"
      ],
      "execution_count": 0,
      "outputs": []
    },
    {
      "metadata": {
        "id": "j_paTPM4iBxJ",
        "colab_type": "code",
        "outputId": "b4a0eeaf-3601-4588-a712-a911ed05b087",
        "colab": {
          "base_uri": "https://localhost:8080/",
          "height": 269
        }
      },
      "cell_type": "code",
      "source": [
        "# plot baseline and predictions\n",
        "plt.plot(scaler.inverse_transform(dataset))\n",
        "plt.plot(trainPredictPlot)\n",
        "plt.plot(testPredictPlot)\n",
        "plt.show()"
      ],
      "execution_count": 0,
      "outputs": [
        {
          "output_type": "display_data",
          "data": {
            "image/png": "[encoded data removed]",
            "text/plain": [
              "<Figure size 432x288 with 1 Axes>"
            ]
          },
          "metadata": {
            "tags": []
          }
        }
      ]
    },
    {
      "metadata": {
        "id": "eHhGBhSrnu9z",
        "colab_type": "text"
      },
      "cell_type": "markdown",
      "source": [
        "#Chollet\tListing 6.2.3"
      ]
    },
    {
      "metadata": {
        "id": "oNDoNmdpn02_",
        "colab_type": "code",
        "colab": {}
      },
      "cell_type": "code",
      "source": [
        "from keras.datasets import imdb\n",
        "from keras.preprocessing import sequence"
      ],
      "execution_count": 0,
      "outputs": []
    },
    {
      "metadata": {
        "id": "IBpiJVK9wyY6",
        "colab_type": "text"
      },
      "cell_type": "markdown",
      "source": [
        "Input the IMDB data"
      ]
    },
    {
      "metadata": {
        "id": "5dnPdaveoNcV",
        "colab_type": "code",
        "outputId": "536b9b60-4f51-458e-8018-fe23da0e3b08",
        "colab": {
          "base_uri": "https://localhost:8080/",
          "height": 121
        }
      },
      "cell_type": "code",
      "source": [
        "max_features = 10000\n",
        "maxlen = 500\n",
        "batch_size = 32\n",
        "print('Loading data...')\n",
        "(input_train, y_train), (input_test, y_test) = imdb.load_data(\n",
        "num_words=max_features)\n",
        "print(len(input_train), 'train sequences')\n",
        "print(len(input_test), 'test sequences')\n",
        "print('Pad sequences (samples x time)')\n",
        "input_train = sequence.pad_sequences(input_train, maxlen=maxlen)\n",
        "input_test = sequence.pad_sequences(input_test, maxlen=maxlen)\n",
        "print('input_train shape:', input_train.shape)\n",
        "print('input_test shape:', input_test.shape)"
      ],
      "execution_count": 0,
      "outputs": [
        {
          "output_type": "stream",
          "text": [
            "Loading data...\n",
            "25000 train sequences\n",
            "25000 test sequences\n",
            "Pad sequences (samples x time)\n",
            "input_train shape: (25000, 500)\n",
            "input_test shape: (25000, 500)\n"
          ],
          "name": "stdout"
        }
      ]
    },
    {
      "metadata": {
        "id": "QIYg_MNXopkr",
        "colab_type": "text"
      },
      "cell_type": "markdown",
      "source": [
        " LSTM is used as model"
      ]
    },
    {
      "metadata": {
        "id": "4eJYQQznoP84",
        "colab_type": "code",
        "outputId": "f606d456-a9b6-4e6e-84e9-f8ef97224478",
        "colab": {
          "base_uri": "https://localhost:8080/",
          "height": 381
        }
      },
      "cell_type": "code",
      "source": [
        "from keras.layers import LSTM\n",
        "from keras.models import Sequential\n",
        "\n",
        "import keras\n",
        "model = Sequential()\n",
        "model.add(layers.Embedding(max_features, 32))\n",
        "model.add(LSTM(32))\n",
        "model.add(Dense(1, activation='sigmoid'))\n",
        "model.compile(optimizer='rmsprop',\n",
        "loss='binary_crossentropy',\n",
        "metrics=['acc'])\n",
        "history = model.fit(input_train, y_train,\n",
        "epochs=10,\n",
        "batch_size=128,\n",
        "validation_split=0.2)"
      ],
      "execution_count": 0,
      "outputs": [
        {
          "output_type": "stream",
          "text": [
            "Train on 20000 samples, validate on 5000 samples\n",
            "Epoch 1/10\n",
            "20000/20000 [==============================] - 77s 4ms/step - loss: 0.4982 - acc: 0.7682 - val_loss: 0.3998 - val_acc: 0.8286\n",
            "Epoch 2/10\n",
            "20000/20000 [==============================] - 75s 4ms/step - loss: 0.2974 - acc: 0.8834 - val_loss: 0.3124 - val_acc: 0.8654\n",
            "Epoch 3/10\n",
            "20000/20000 [==============================] - 75s 4ms/step - loss: 0.2395 - acc: 0.9093 - val_loss: 0.2839 - val_acc: 0.8804\n",
            "Epoch 4/10\n",
            "20000/20000 [==============================] - 75s 4ms/step - loss: 0.2016 - acc: 0.9240 - val_loss: 0.3131 - val_acc: 0.8744\n",
            "Epoch 5/10\n",
            "20000/20000 [==============================] - 75s 4ms/step - loss: 0.1739 - acc: 0.9358 - val_loss: 0.3244 - val_acc: 0.8872\n",
            "Epoch 6/10\n",
            "20000/20000 [==============================] - 75s 4ms/step - loss: 0.1617 - acc: 0.9425 - val_loss: 0.3641 - val_acc: 0.8372\n",
            "Epoch 7/10\n",
            "20000/20000 [==============================] - 75s 4ms/step - loss: 0.1411 - acc: 0.9519 - val_loss: 0.3163 - val_acc: 0.8696\n",
            "Epoch 8/10\n",
            "20000/20000 [==============================] - 75s 4ms/step - loss: 0.1312 - acc: 0.9551 - val_loss: 0.4154 - val_acc: 0.8720\n",
            "Epoch 9/10\n",
            "20000/20000 [==============================] - 75s 4ms/step - loss: 0.1261 - acc: 0.9545 - val_loss: 0.3413 - val_acc: 0.8786\n",
            "Epoch 10/10\n",
            "20000/20000 [==============================] - 75s 4ms/step - loss: 0.1090 - acc: 0.9624 - val_loss: 0.4274 - val_acc: 0.8798\n"
          ],
          "name": "stdout"
        }
      ]
    },
    {
      "metadata": {
        "id": "VGJwiA7Vou2v",
        "colab_type": "code",
        "outputId": "8c1599f6-b53f-49ec-d218-919ff1aedb99",
        "colab": {
          "base_uri": "https://localhost:8080/",
          "height": 545
        }
      },
      "cell_type": "code",
      "source": [
        "import matplotlib.pyplot as plt\n",
        "acc = history.history['acc']\n",
        "val_acc = history.history['val_acc']\n",
        "loss = history.history['loss']\n",
        "val_loss = history.history['val_loss']\n",
        "epochs = range(1, len(acc) + 1)\n",
        "plt.plot(epochs, acc, 'bo', label='Training acc')\n",
        "plt.plot(epochs, val_acc, 'b', label='Validation acc')\n",
        "\n",
        "plt.title('Training and validation accuracy')\n",
        "plt.legend()\n",
        "plt.figure()\n",
        "plt.plot(epochs, loss, 'bo', label='Training loss')\n",
        "plt.plot(epochs, val_loss, 'b', label='Validation loss')\n",
        "plt.title('Training and validation loss')\n",
        "plt.legend()\n",
        "plt.show()"
      ],
      "execution_count": 0,
      "outputs": [
        {
          "output_type": "display_data",
          "data": {
            "image/png": "[encoded data removed]",
            "text/plain": [
              "<Figure size 432x288 with 1 Axes>"
            ]
          },
          "metadata": {
            "tags": []
          }
        },
        {
          "output_type": "display_data",
          "data": {
            "image/png": "[encoded data removed]",
            "text/plain": [
              "<Figure size 432x288 with 1 Axes>"
            ]
          },
          "metadata": {
            "tags": []
          }
        }
      ]
    },
    {
      "metadata": {
        "id": "KcB-JOApCWEi",
        "colab_type": "text"
      },
      "cell_type": "markdown",
      "source": [
        "#Listing 6.49 – combine RNNs and CNNs for IMDB reviews"
      ]
    },
    {
      "metadata": {
        "id": "NGf7WQkbB7JF",
        "colab_type": "code",
        "outputId": "b483f1d1-440e-43ba-8461-ab4381e261cc",
        "colab": {
          "base_uri": "https://localhost:8080/",
          "height": 711
        }
      },
      "cell_type": "code",
      "source": [
        "from keras.models import Sequential\n",
        "from keras import layers\n",
        "from keras.layers import Activation, Dense\n",
        "from keras.optimizers import RMSprop\n",
        "model = Sequential()\n",
        "model.add(layers.Embedding(max_features, 32))\n",
        "model.add(layers.Conv1D(32, 5, activation='relu'))\n",
        "model.add(layers.MaxPooling1D(3))\n",
        "model.add(layers.Conv1D(32, 5, activation='relu'))\n",
        "model.add(layers.GRU(32, dropout=0.1, recurrent_dropout=0.5))\n",
        "model.add(Dense(1, activation='sigmoid'))                       \n",
        "model.summary()\n",
        "model.compile(optimizer=RMSprop(), loss='mae')\n",
        "history = model.fit(input_train, y_train,\n",
        "epochs=10,\n",
        "batch_size=128,\n",
        "validation_split=0.2) "
      ],
      "execution_count": 0,
      "outputs": [
        {
          "output_type": "stream",
          "text": [
            "_________________________________________________________________\n",
            "Layer (type)                 Output Shape              Param #   \n",
            "=================================================================\n",
            "embedding_4 (Embedding)      (None, None, 32)          320000    \n",
            "_________________________________________________________________\n",
            "conv1d_5 (Conv1D)            (None, None, 32)          5152      \n",
            "_________________________________________________________________\n",
            "max_pooling1d_3 (MaxPooling1 (None, None, 32)          0         \n",
            "_________________________________________________________________\n",
            "conv1d_6 (Conv1D)            (None, None, 32)          5152      \n",
            "_________________________________________________________________\n",
            "gru_12 (GRU)                 (None, 32)                6240      \n",
            "_________________________________________________________________\n",
            "dense_42 (Dense)             (None, 1)                 33        \n",
            "=================================================================\n",
            "Total params: 336,577\n",
            "Trainable params: 336,577\n",
            "Non-trainable params: 0\n",
            "_________________________________________________________________\n",
            "Train on 20000 samples, validate on 5000 samples\n",
            "Epoch 1/10\n",
            "20000/20000 [==============================] - 51s 3ms/step - loss: 0.3519 - val_loss: 0.2249\n",
            "Epoch 2/10\n",
            "20000/20000 [==============================] - 47s 2ms/step - loss: 0.1982 - val_loss: 0.2009\n",
            "Epoch 3/10\n",
            "20000/20000 [==============================] - 47s 2ms/step - loss: 0.1689 - val_loss: 0.2082\n",
            "Epoch 4/10\n",
            "20000/20000 [==============================] - 47s 2ms/step - loss: 0.1497 - val_loss: 0.1921\n",
            "Epoch 5/10\n",
            "20000/20000 [==============================] - 46s 2ms/step - loss: 0.1389 - val_loss: 0.1698\n",
            "Epoch 6/10\n",
            "20000/20000 [==============================] - 47s 2ms/step - loss: 0.1277 - val_loss: 0.1735\n",
            "Epoch 7/10\n",
            "20000/20000 [==============================] - 47s 2ms/step - loss: 0.1213 - val_loss: 0.1800\n",
            "Epoch 8/10\n",
            "20000/20000 [==============================] - 47s 2ms/step - loss: 0.1138 - val_loss: 0.2081\n",
            "Epoch 9/10\n",
            "20000/20000 [==============================] - 46s 2ms/step - loss: 0.1069 - val_loss: 0.1892\n",
            "Epoch 10/10\n",
            "20000/20000 [==============================] - 46s 2ms/step - loss: 0.1013 - val_loss: 0.1649\n"
          ],
          "name": "stdout"
        }
      ]
    },
    {
      "metadata": {
        "id": "uO5ooLRMqWAR",
        "colab_type": "code",
        "outputId": "764af6db-af9b-4704-98da-e00e6f48a805",
        "colab": {
          "base_uri": "https://localhost:8080/",
          "height": 281
        }
      },
      "cell_type": "code",
      "source": [
        "import matplotlib.pyplot as plt\n",
        "\n",
        "loss = history.history['loss']\n",
        "val_loss = history.history['val_loss']\n",
        "epochs = range(1, len(acc) + 1)\n",
        "\n",
        "\n",
        "\n",
        "plt.plot(epochs, loss, 'bo', label='Training loss')\n",
        "plt.plot(epochs, val_loss, 'b', label='Validation loss')\n",
        "plt.title('Training and validation loss')\n",
        "plt.legend()\n",
        "plt.show()"
      ],
      "execution_count": 0,
      "outputs": [
        {
          "output_type": "display_data",
          "data": {
            "image/png": "[encoded data removed]",
            "text/plain": [
              "<Figure size 432x288 with 1 Axes>"
            ]
          },
          "metadata": {
            "tags": []
          }
        }
      ]
    },
    {
      "metadata": {
        "id": "VXqt0YlqxaKo",
        "colab_type": "text"
      },
      "cell_type": "markdown",
      "source": [
        " CNN and RNN combination is the better model resulting in lower loss"
      ]
    },
    {
      "metadata": {
        "id": "fmdeOeZ2uIsR",
        "colab_type": "text"
      },
      "cell_type": "markdown",
      "source": [
        "#Chollet-\tListing 6.37 - A baseline ML model"
      ]
    },
    {
      "metadata": {
        "id": "ebM5-l3vufau",
        "colab_type": "code",
        "outputId": "77534f85-3bfa-4d16-d043-80f71cc25b06",
        "colab": {
          "base_uri": "https://localhost:8080/",
          "height": 35
        }
      },
      "cell_type": "code",
      "source": [
        "#jena_climate_2009_2016.csv\n",
        "drive.mount('/content/gdrive')\n",
        "url = \"https://drive.google.com/uc?export=download&id=19Q5fQOyhzMHIajwkhuieV1bhQvSLyjfx\" #jenna csv\n",
        "\n",
        "df = pd.read_csv(url)\n",
        "dataframe=df\n"
      ],
      "execution_count": 0,
      "outputs": [
        {
          "output_type": "stream",
          "text": [
            "Drive already mounted at /content/gdrive; to attempt to forcibly remount, call drive.mount(\"/content/gdrive\", force_remount=True).\n"
          ],
          "name": "stdout"
        }
      ]
    },
    {
      "metadata": {
        "id": "vL-0sTQdvtz2",
        "colab_type": "code",
        "colab": {}
      },
      "cell_type": "code",
      "source": [
        "import numpy as np\n",
        "import matplotlib.pyplot as plt\n",
        "import math\n",
        "from keras.models import Sequential\n",
        "from keras.layers import Dense\n",
        "import pandas as pd\n",
        "\n",
        "df = df.drop('Date Time', 1)\n",
        "dataset=df.values\n",
        "dataset=dataset.astype('float32')\n",
        "  \n",
        "type(dataset)\n",
        "float_data=dataset"
      ],
      "execution_count": 0,
      "outputs": []
    },
    {
      "metadata": {
        "id": "AfGGl66v3pqs",
        "colab_type": "code",
        "colab": {}
      },
      "cell_type": "code",
      "source": [
        "mean = float_data[:200000].mean(axis=0)\n",
        "float_data -= mean\n",
        "std = float_data[:200000].std(axis=0)\n",
        "float_data /= std \n"
      ],
      "execution_count": 0,
      "outputs": []
    },
    {
      "metadata": {
        "id": "9tl-7r0FXN7W",
        "colab_type": "code",
        "colab": {}
      },
      "cell_type": "code",
      "source": [
        "def generator(data, lookback, delay, min_index, max_index,\n",
        "              shuffle=False, batch_size=128, step=6):\n",
        "    if max_index is None:\n",
        "        max_index = len(data) - delay - 1\n",
        "    i = min_index + lookback\n",
        "    while 1:\n",
        "        if shuffle:\n",
        "            rows = np.random.randint(\n",
        "                min_index + lookback, max_index, size=batch_size)\n",
        "        else:\n",
        "            if i + batch_size >= max_index:\n",
        "                i = min_index + lookback\n",
        "            rows = np.arange(i, min(i + batch_size, max_index))\n",
        "            i += len(rows)\n",
        "\n",
        "        samples = np.zeros((len(rows),\n",
        "                           lookback // step,\n",
        "                           data.shape[-1]))\n",
        "        targets = np.zeros((len(rows),))\n",
        "        for j, row in enumerate(rows):\n",
        "            indices = range(rows[j] - lookback, rows[j], step)\n",
        "            samples[j] = data[indices]\n",
        "            targets[j] = data[rows[j] + delay][0]\n",
        "        yield samples, targets "
      ],
      "execution_count": 0,
      "outputs": []
    },
    {
      "metadata": {
        "id": "yVUB2lobXEa0",
        "colab_type": "code",
        "colab": {}
      },
      "cell_type": "code",
      "source": [
        "lookback = 1440\n",
        "step = 6\n",
        "delay = 144\n",
        "batch_size = 128\n",
        "\n",
        "train_gen = generator(float_data,\n",
        "                      lookback=lookback,\n",
        "                      delay=delay,\n",
        "                      min_index=0,\n",
        "                      max_index=200000,\n",
        "                      shuffle=True,\n",
        "                      step=step, \n",
        "                      batch_size=batch_size)\n",
        "val_gen = generator(float_data,\n",
        "                    lookback=lookback,\n",
        "                    delay=delay,\n",
        "                    min_index=200001,\n",
        "                    max_index=300000,\n",
        "                    step=step,\n",
        "                    batch_size=batch_size)\n",
        "test_gen = generator(float_data,\n",
        "                     lookback=lookback,\n",
        "                     delay=delay,\n",
        "                     min_index=300000,\n",
        "                     max_index=None,\n",
        "                     step=step,\n",
        "                     batch_size=batch_size)\n",
        "\n",
        "# This is how many steps to draw from `val_gen`\n",
        "# in order to see the whole validation set:\n",
        "val_steps = (300000 - 200001 - lookback) // batch_size\n",
        "\n",
        "# This is how many steps to draw from `test_gen`\n",
        "# in order to see the whole test set:\n",
        "test_steps = (len(float_data) - 300001 - lookback) // batch_size "
      ],
      "execution_count": 0,
      "outputs": []
    },
    {
      "metadata": {
        "id": "ODkKWWlH25hk",
        "colab_type": "code",
        "outputId": "a8f8fa31-f943-43c4-fcf1-57907695c945",
        "colab": {
          "base_uri": "https://localhost:8080/",
          "height": 711
        }
      },
      "cell_type": "code",
      "source": [
        "from keras.models import Sequential\n",
        "from keras import layers\n",
        "from keras.optimizers import RMSprop\n",
        "model = Sequential()\n",
        "model.add(layers.Flatten(input_shape=(lookback // step, float_data.shape[-1])))\n",
        "model.add(layers.Dense(32, activation='relu'))\n",
        "model.add(layers.Dense(1))\n",
        "model.compile(optimizer=RMSprop(), loss='mae')\n",
        "history = model.fit_generator(train_gen,\n",
        "steps_per_epoch=500,\n",
        "epochs=20,\n",
        "validation_data=val_gen,\n",
        "validation_steps=val_steps) "
      ],
      "execution_count": 0,
      "outputs": [
        {
          "output_type": "stream",
          "text": [
            "Epoch 1/20\n",
            "500/500 [==============================] - 16s 33ms/step - loss: 1.2341 - val_loss: 0.6148\n",
            "Epoch 2/20\n",
            "500/500 [==============================] - 14s 29ms/step - loss: 0.5764 - val_loss: 0.5647\n",
            "Epoch 3/20\n",
            "500/500 [==============================] - 15s 29ms/step - loss: 0.4759 - val_loss: 0.6014\n",
            "Epoch 4/20\n",
            "500/500 [==============================] - 15s 29ms/step - loss: 0.4379 - val_loss: 0.6166\n",
            "Epoch 5/20\n",
            "500/500 [==============================] - 14s 28ms/step - loss: 0.4163 - val_loss: 0.5668\n",
            "Epoch 6/20\n",
            "500/500 [==============================] - 14s 28ms/step - loss: 0.3987 - val_loss: 0.5854\n",
            "Epoch 7/20\n",
            "500/500 [==============================] - 14s 29ms/step - loss: 0.3869 - val_loss: 0.6104\n",
            "Epoch 8/20\n",
            "500/500 [==============================] - 15s 29ms/step - loss: 0.3735 - val_loss: 0.6341\n",
            "Epoch 9/20\n",
            "500/500 [==============================] - 15s 29ms/step - loss: 0.3634 - val_loss: 0.5880\n",
            "Epoch 10/20\n",
            "500/500 [==============================] - 15s 29ms/step - loss: 0.3559 - val_loss: 0.5905\n",
            "Epoch 11/20\n",
            "500/500 [==============================] - 14s 28ms/step - loss: 0.3430 - val_loss: 0.6070\n",
            "Epoch 12/20\n",
            "500/500 [==============================] - 14s 28ms/step - loss: 0.3398 - val_loss: 0.6246\n",
            "Epoch 13/20\n",
            "500/500 [==============================] - 15s 29ms/step - loss: 0.3305 - val_loss: 0.6854\n",
            "Epoch 14/20\n",
            "500/500 [==============================] - 14s 28ms/step - loss: 0.3232 - val_loss: 0.6359\n",
            "Epoch 15/20\n",
            "500/500 [==============================] - 15s 30ms/step - loss: 0.3215 - val_loss: 0.6439\n",
            "Epoch 16/20\n",
            "500/500 [==============================] - 15s 30ms/step - loss: 0.3144 - val_loss: 0.6224\n",
            "Epoch 17/20\n",
            "500/500 [==============================] - 14s 28ms/step - loss: 0.3098 - val_loss: 0.6244\n",
            "Epoch 18/20\n",
            "500/500 [==============================] - 14s 28ms/step - loss: 0.3063 - val_loss: 0.6567\n",
            "Epoch 19/20\n",
            "500/500 [==============================] - 14s 29ms/step - loss: 0.3010 - val_loss: 0.6239\n",
            "Epoch 20/20\n",
            "500/500 [==============================] - 15s 29ms/step - loss: 0.2988 - val_loss: 0.6250\n"
          ],
          "name": "stdout"
        }
      ]
    },
    {
      "metadata": {
        "id": "8bQrp7lO9QSC",
        "colab_type": "code",
        "outputId": "c7c9d317-7cd6-4ec0-faa8-523718ec4deb",
        "colab": {
          "base_uri": "https://localhost:8080/",
          "height": 281
        }
      },
      "cell_type": "code",
      "source": [
        "import matplotlib.pyplot as plt\n",
        "loss = history.history['loss']\n",
        "val_loss = history.history['val_loss']\n",
        "epochs = range(1, len(loss) + 1)\n",
        "plt.figure()\n",
        "plt.plot(epochs, loss, 'bo', label='Training loss')\n",
        "plt.plot(epochs, val_loss, 'b', label='Validation loss')\n",
        "plt.title('Training and validation loss')\n",
        "plt.legend()\n",
        "plt.show()"
      ],
      "execution_count": 0,
      "outputs": [
        {
          "output_type": "display_data",
          "data": {
            "image/png": "[encoded data removed]",
            "text/plain": [
              "<Figure size 432x288 with 1 Axes>"
            ]
          },
          "metadata": {
            "tags": []
          }
        }
      ]
    },
    {
      "metadata": {
        "id": "Y1R19jt66kYE",
        "colab_type": "text"
      },
      "cell_type": "markdown",
      "source": [
        "#Listing 6.40 – adding dropout to single GRU layer "
      ]
    },
    {
      "metadata": {
        "id": "B6TJOzj738ey",
        "colab_type": "code",
        "outputId": "6b7ed4c3-6b0d-4f85-ab2a-fc32ba3cda0b",
        "colab": {
          "base_uri": "https://localhost:8080/",
          "height": 711
        }
      },
      "cell_type": "code",
      "source": [
        "from keras.models import Sequential\n",
        "from keras import layers\n",
        "from keras.optimizers import RMSprop\n",
        "model = Sequential()\n",
        "model.add(layers.GRU(32,\n",
        "dropout=0.2,\n",
        "recurrent_dropout=0.2,\n",
        "input_shape=(None, float_data.shape[-1])))\n",
        "model.add(layers.Dense(1))\n",
        "model.compile(optimizer=RMSprop(), loss='mae')\n",
        "history = model.fit_generator(train_gen,\n",
        "steps_per_epoch=500,\n",
        "epochs=20,\n",
        "validation_data=val_gen,\n",
        "validation_steps=val_steps)"
      ],
      "execution_count": 0,
      "outputs": [
        {
          "output_type": "stream",
          "text": [
            "Epoch 1/20\n",
            "500/500 [==============================] - 126s 252ms/step - loss: 0.5710 - val_loss: 0.4975\n",
            "Epoch 2/20\n",
            "500/500 [==============================] - 124s 249ms/step - loss: 0.5458 - val_loss: 0.4977\n",
            "Epoch 3/20\n",
            "500/500 [==============================] - 124s 248ms/step - loss: 0.5361 - val_loss: 0.4883\n",
            "Epoch 4/20\n",
            "500/500 [==============================] - 124s 248ms/step - loss: 0.5219 - val_loss: 0.4802\n",
            "Epoch 5/20\n",
            "500/500 [==============================] - 124s 247ms/step - loss: 0.5111 - val_loss: 0.4783\n",
            "Epoch 6/20\n",
            "500/500 [==============================] - 123s 246ms/step - loss: 0.5065 - val_loss: 0.4755\n",
            "Epoch 7/20\n",
            "500/500 [==============================] - 124s 247ms/step - loss: 0.4995 - val_loss: 0.4759\n",
            "Epoch 8/20\n",
            "500/500 [==============================] - 122s 243ms/step - loss: 0.4951 - val_loss: 0.4741\n",
            "Epoch 9/20\n",
            "500/500 [==============================] - 121s 241ms/step - loss: 0.4905 - val_loss: 0.4712\n",
            "Epoch 10/20\n",
            "500/500 [==============================] - 127s 254ms/step - loss: 0.4890 - val_loss: 0.4753\n",
            "Epoch 11/20\n",
            "500/500 [==============================] - 125s 250ms/step - loss: 0.4855 - val_loss: 0.4669\n",
            "Epoch 12/20\n",
            "500/500 [==============================] - 124s 248ms/step - loss: 0.4821 - val_loss: 0.4664\n",
            "Epoch 13/20\n",
            "500/500 [==============================] - 125s 251ms/step - loss: 0.4823 - val_loss: 0.4705\n",
            "Epoch 14/20\n",
            "500/500 [==============================] - 126s 252ms/step - loss: 0.4769 - val_loss: 0.4682\n",
            "Epoch 15/20\n",
            "500/500 [==============================] - 125s 250ms/step - loss: 0.4744 - val_loss: 0.4738\n",
            "Epoch 16/20\n",
            "500/500 [==============================] - 126s 252ms/step - loss: 0.4729 - val_loss: 0.4716\n",
            "Epoch 17/20\n",
            "500/500 [==============================] - 125s 251ms/step - loss: 0.4747 - val_loss: 0.4725\n",
            "Epoch 18/20\n",
            "500/500 [==============================] - 124s 249ms/step - loss: 0.4737 - val_loss: 0.4720\n",
            "Epoch 19/20\n",
            "500/500 [==============================] - 126s 252ms/step - loss: 0.4736 - val_loss: 0.4736\n",
            "Epoch 20/20\n",
            "500/500 [==============================] - 126s 252ms/step - loss: 0.4685 - val_loss: 0.4664\n"
          ],
          "name": "stdout"
        }
      ]
    },
    {
      "metadata": {
        "id": "_9NNqjx_9it3",
        "colab_type": "code",
        "outputId": "108f8e40-0f84-48a3-ba6a-bb4192d84377",
        "colab": {
          "base_uri": "https://localhost:8080/",
          "height": 281
        }
      },
      "cell_type": "code",
      "source": [
        "import matplotlib.pyplot as plt\n",
        "loss = history.history['loss']\n",
        "val_loss = history.history['val_loss']\n",
        "epochs = range(1, len(loss) + 1)\n",
        "plt.figure()\n",
        "plt.plot(epochs, loss, 'bo', label='Training loss')\n",
        "plt.plot(epochs, val_loss, 'b', label='Validation loss')\n",
        "plt.title('Training and validation loss')\n",
        "plt.legend()\n",
        "plt.show()"
      ],
      "execution_count": 0,
      "outputs": [
        {
          "output_type": "display_data",
          "data": {
            "image/png": "[encoded data removed]",
            "text/plain": [
              "<Figure size 432x288 with 1 Axes>"
            ]
          },
          "metadata": {
            "tags": []
          }
        }
      ]
    },
    {
      "metadata": {
        "id": "qpIHNhx-9vY4",
        "colab_type": "text"
      },
      "cell_type": "markdown",
      "source": [
        "#Listing 6.41 – stacking GRUs"
      ]
    },
    {
      "metadata": {
        "id": "nICHu5AU91l-",
        "colab_type": "code",
        "outputId": "8351354a-0f60-4379-cf79-1dd48a6eca18",
        "colab": {
          "base_uri": "https://localhost:8080/",
          "height": 364
        }
      },
      "cell_type": "code",
      "source": [
        "from keras.models import Sequential\n",
        "from keras import layers\n",
        "from keras.optimizers import RMSprop\n",
        "model = Sequential()\n",
        "model.add(layers.GRU(32,\n",
        "dropout=0.1,\n",
        "recurrent_dropout=0.5,\n",
        "return_sequences=True,\n",
        "input_shape=(None, float_data.shape[-1])))\n",
        "model.add(layers.GRU(64, activation='relu',\n",
        "dropout=0.1,\n",
        "recurrent_dropout=0.5))\n",
        "model.add(layers.Dense(1))\n",
        "model.compile(optimizer=RMSprop(), loss='mae')\n",
        "history = model.fit_generator(train_gen,\n",
        "steps_per_epoch=500,\n",
        "epochs=10,\n",
        "validation_data=val_gen,\n",
        "validation_steps=val_steps)"
      ],
      "execution_count": 0,
      "outputs": [
        {
          "output_type": "stream",
          "text": [
            "Epoch 1/10\n",
            "500/500 [==============================] - 362s 724ms/step - loss: 0.5516 - val_loss: 0.4976\n",
            "Epoch 2/10\n",
            "500/500 [==============================] - 359s 719ms/step - loss: 0.5328 - val_loss: 0.4895\n",
            "Epoch 3/10\n",
            "500/500 [==============================] - 356s 712ms/step - loss: 0.5233 - val_loss: 0.4844\n",
            "Epoch 4/10\n",
            "500/500 [==============================] - 356s 712ms/step - loss: 0.5163 - val_loss: 0.4763\n",
            "Epoch 5/10\n",
            "500/500 [==============================] - 354s 709ms/step - loss: 0.5076 - val_loss: 0.4750\n",
            "Epoch 6/10\n",
            "500/500 [==============================] - 355s 710ms/step - loss: 0.4984 - val_loss: 0.4703\n",
            "Epoch 7/10\n",
            "500/500 [==============================] - 353s 707ms/step - loss: 0.4924 - val_loss: 0.4731\n",
            "Epoch 8/10\n",
            "500/500 [==============================] - 353s 706ms/step - loss: 0.4876 - val_loss: 0.4750\n",
            "Epoch 9/10\n",
            "500/500 [==============================] - 359s 717ms/step - loss: 0.4832 - val_loss: 0.4737\n",
            "Epoch 10/10\n",
            "500/500 [==============================] - 357s 714ms/step - loss: 0.4795 - val_loss: 0.4732\n"
          ],
          "name": "stdout"
        }
      ]
    },
    {
      "metadata": {
        "id": "55QeI1Vv-Cu4",
        "colab_type": "code",
        "outputId": "f10e6abc-37b9-4832-8105-b4de3e6d6f9e",
        "colab": {
          "base_uri": "https://localhost:8080/",
          "height": 281
        }
      },
      "cell_type": "code",
      "source": [
        "import matplotlib.pyplot as plt\n",
        "loss = history.history['loss']\n",
        "val_loss = history.history['val_loss']\n",
        "epochs = range(1, len(loss) + 1)\n",
        "plt.figure()\n",
        "plt.plot(epochs, loss, 'bo', label='Training loss')\n",
        "plt.plot(epochs, val_loss, 'b', label='Validation loss')\n",
        "plt.title('Training and validation loss')\n",
        "plt.legend()\n",
        "plt.show()"
      ],
      "execution_count": 0,
      "outputs": [
        {
          "output_type": "display_data",
          "data": {
            "image/png": "[encoded data removed]",
            "text/plain": [
              "<Figure size 432x288 with 1 Axes>"
            ]
          },
          "metadata": {
            "tags": []
          }
        }
      ]
    },
    {
      "metadata": {
        "id": "rECnwsXO-hk2",
        "colab_type": "text"
      },
      "cell_type": "markdown",
      "source": [
        "#\tListing 6.42 – bidirectional GRUs"
      ]
    },
    {
      "metadata": {
        "id": "yfRu_JME-g2J",
        "colab_type": "code",
        "colab": {}
      },
      "cell_type": "code",
      "source": [
        "def reverse_order_generator(data, lookback, delay, min_index, max_index,\n",
        "                            shuffle=False, batch_size=128, step=6):\n",
        "    if max_index is None:\n",
        "        max_index = len(data) - delay - 1\n",
        "    i = min_index + lookback\n",
        "    while 1:\n",
        "        if shuffle:\n",
        "            rows = np.random.randint(\n",
        "                min_index + lookback, max_index, size=batch_size)\n",
        "        else:\n",
        "            if i + batch_size >= max_index:\n",
        "                i = min_index + lookback\n",
        "            rows = np.arange(i, min(i + batch_size, max_index))\n",
        "            i += len(rows)\n",
        "\n",
        "        samples = np.zeros((len(rows),\n",
        "                           lookback // step,\n",
        "                           data.shape[-1]))\n",
        "        targets = np.zeros((len(rows),))\n",
        "        for j, row in enumerate(rows):\n",
        "            indices = range(rows[j] - lookback, rows[j], step)\n",
        "            samples[j] = data[indices]\n",
        "            targets[j] = data[rows[j] + delay][1]\n",
        "        yield samples[:, ::-1, :], targets\n",
        "        \n",
        "train_gen_reverse = reverse_order_generator(\n",
        "    float_data,\n",
        "    lookback=lookback,\n",
        "    delay=delay,\n",
        "    min_index=0,\n",
        "    max_index=200000,\n",
        "    shuffle=True,\n",
        "    step=step, \n",
        "    batch_size=batch_size)\n",
        "val_gen_reverse = reverse_order_generator(\n",
        "    float_data,\n",
        "    lookback=lookback,\n",
        "    delay=delay,\n",
        "    min_index=200001,\n",
        "    max_index=300000,\n",
        "    step=step,\n",
        "    batch_size=batch_size)"
      ],
      "execution_count": 0,
      "outputs": []
    },
    {
      "metadata": {
        "id": "UWIxAE_4AlZ-",
        "colab_type": "code",
        "outputId": "ada528f3-3b5c-4bd7-c2b4-25d7164eab73",
        "colab": {
          "base_uri": "https://localhost:8080/",
          "height": 364
        }
      },
      "cell_type": "code",
      "source": [
        "model = Sequential()\n",
        "model.add(layers.GRU(32, input_shape=(None, float_data.shape[-1])))\n",
        "model.add(layers.Dense(1))\n",
        "\n",
        "model.compile(optimizer=RMSprop(), loss='mae')\n",
        "history = model.fit_generator(train_gen_reverse,\n",
        "                              steps_per_epoch=500,\n",
        "                              epochs=10,\n",
        "                              validation_data=val_gen_reverse,\n",
        "                              validation_steps=val_steps)"
      ],
      "execution_count": 0,
      "outputs": [
        {
          "output_type": "stream",
          "text": [
            "Epoch 1/10\n",
            "500/500 [==============================] - 113s 227ms/step - loss: 0.4757 - val_loss: 0.4849\n",
            "Epoch 2/10\n",
            "500/500 [==============================] - 108s 215ms/step - loss: 0.4343 - val_loss: 0.4771\n",
            "Epoch 3/10\n",
            "500/500 [==============================] - 108s 217ms/step - loss: 0.3827 - val_loss: 0.4468\n",
            "Epoch 4/10\n",
            "500/500 [==============================] - 108s 216ms/step - loss: 0.3509 - val_loss: 0.4520\n",
            "Epoch 5/10\n",
            "500/500 [==============================] - 107s 215ms/step - loss: 0.3287 - val_loss: 0.4639\n",
            "Epoch 6/10\n",
            "500/500 [==============================] - 107s 214ms/step - loss: 0.3137 - val_loss: 0.4611\n",
            "Epoch 7/10\n",
            "500/500 [==============================] - 108s 217ms/step - loss: 0.2978 - val_loss: 0.4529\n",
            "Epoch 8/10\n",
            "500/500 [==============================] - 108s 216ms/step - loss: 0.2864 - val_loss: 0.4599\n",
            "Epoch 9/10\n",
            "500/500 [==============================] - 109s 218ms/step - loss: 0.2756 - val_loss: 0.4665\n",
            "Epoch 10/10\n",
            "500/500 [==============================] - 110s 220ms/step - loss: 0.2672 - val_loss: 0.4709\n"
          ],
          "name": "stdout"
        }
      ]
    },
    {
      "metadata": {
        "id": "x9ixUcvA-9FH",
        "colab_type": "code",
        "outputId": "ad16744b-1546-4d4c-a9f8-46313c32f56a",
        "colab": {
          "base_uri": "https://localhost:8080/",
          "height": 281
        }
      },
      "cell_type": "code",
      "source": [
        "loss = history.history['loss']\n",
        "val_loss = history.history['val_loss']\n",
        "\n",
        "epochs = range(len(loss))\n",
        "\n",
        "plt.figure()\n",
        "\n",
        "plt.plot(epochs, loss, 'bo', label='Training loss')\n",
        "plt.plot(epochs, val_loss, 'b', label='Validation loss')\n",
        "plt.title('Training and validation loss')\n",
        "plt.legend()\n",
        "\n",
        "plt.show()"
      ],
      "execution_count": 0,
      "outputs": [
        {
          "output_type": "display_data",
          "data": {
            "image/png": "[encoded data removed]",
            "text/plain": [
              "<Figure size 432x288 with 1 Axes>"
            ]
          },
          "metadata": {
            "tags": []
          }
        }
      ]
    },
    {
      "metadata": {
        "id": "q9r4GOxq_FV1",
        "colab_type": "text"
      },
      "cell_type": "markdown",
      "source": [
        "#Listing 6.49 – combine RNNs and CNNs for weather forecasting "
      ]
    },
    {
      "metadata": {
        "id": "fdxcQFGd_E-4",
        "colab_type": "code",
        "outputId": "f7b3a3a9-d025-44ea-81aa-7cefc646d7e7",
        "colab": {
          "base_uri": "https://localhost:8080/",
          "height": 659
        }
      },
      "cell_type": "code",
      "source": [
        "from keras.models import Sequential\n",
        "from keras import layers\n",
        "from keras.optimizers import RMSprop\n",
        "model = Sequential()\n",
        "model.add(layers.Conv1D(32, 5, activation='relu',\n",
        "\n",
        "input_shape=(None, float_data.shape[-1])))\n",
        "\n",
        "model.add(layers.MaxPooling1D(3))\n",
        "model.add(layers.Conv1D(32, 5, activation='relu'))\n",
        "model.add(layers.GRU(32, dropout=0.1, recurrent_dropout=0.5))\n",
        "model.add(layers.Dense(1))\n",
        "model.summary()\n",
        "model.compile(optimizer=RMSprop(), loss='mae')\n",
        "history = model.fit_generator(train_gen,\n",
        "steps_per_epoch=500,\n",
        "epochs=10,\n",
        "validation_data=val_gen,\n",
        "validation_steps=val_steps) \n"
      ],
      "execution_count": 0,
      "outputs": [
        {
          "output_type": "stream",
          "text": [
            "_________________________________________________________________\n",
            "Layer (type)                 Output Shape              Param #   \n",
            "=================================================================\n",
            "conv1d_7 (Conv1D)            (None, None, 32)          2272      \n",
            "_________________________________________________________________\n",
            "max_pooling1d_4 (MaxPooling1 (None, None, 32)          0         \n",
            "_________________________________________________________________\n",
            "conv1d_8 (Conv1D)            (None, None, 32)          5152      \n",
            "_________________________________________________________________\n",
            "gru_13 (GRU)                 (None, 32)                6240      \n",
            "_________________________________________________________________\n",
            "dense_43 (Dense)             (None, 1)                 33        \n",
            "=================================================================\n",
            "Total params: 13,697\n",
            "Trainable params: 13,697\n",
            "Non-trainable params: 0\n",
            "_________________________________________________________________\n",
            "Epoch 1/10\n",
            "500/500 [==============================] - 90s 179ms/step - loss: 0.5534 - val_loss: 0.5398\n",
            "Epoch 2/10\n",
            "500/500 [==============================] - 85s 169ms/step - loss: 0.5123 - val_loss: 0.5282\n",
            "Epoch 3/10\n",
            "500/500 [==============================] - 84s 169ms/step - loss: 0.4919 - val_loss: 0.5348\n",
            "Epoch 4/10\n",
            "500/500 [==============================] - 85s 169ms/step - loss: 0.4779 - val_loss: 0.5292\n",
            "Epoch 5/10\n",
            "500/500 [==============================] - 85s 170ms/step - loss: 0.4624 - val_loss: 0.5403\n",
            "Epoch 6/10\n",
            "500/500 [==============================] - 85s 169ms/step - loss: 0.4484 - val_loss: 0.5321\n",
            "Epoch 7/10\n",
            "500/500 [==============================] - 84s 168ms/step - loss: 0.4341 - val_loss: 0.5523\n",
            "Epoch 8/10\n",
            "500/500 [==============================] - 84s 169ms/step - loss: 0.4264 - val_loss: 0.5420\n",
            "Epoch 9/10\n",
            "500/500 [==============================] - 86s 171ms/step - loss: 0.4126 - val_loss: 0.5518\n",
            "Epoch 10/10\n",
            "500/500 [==============================] - 85s 169ms/step - loss: 0.4020 - val_loss: 0.5560\n"
          ],
          "name": "stdout"
        }
      ]
    },
    {
      "metadata": {
        "id": "4MbOnOi4_Axx",
        "colab_type": "code",
        "outputId": "c75164f3-0f8f-4ac3-9ceb-9dd30939b7be",
        "colab": {
          "base_uri": "https://localhost:8080/",
          "height": 281
        }
      },
      "cell_type": "code",
      "source": [
        "loss = history.history['loss']\n",
        "val_loss = history.history['val_loss']\n",
        "\n",
        "epochs = range(len(loss))\n",
        "\n",
        "plt.figure()\n",
        "\n",
        "plt.plot(epochs, loss, 'bo', label='Training loss')\n",
        "plt.plot(epochs, val_loss, 'b', label='Validation loss')\n",
        "plt.title('Training and validation loss')\n",
        "plt.legend()\n",
        "\n",
        "plt.show()"
      ],
      "execution_count": 0,
      "outputs": [
        {
          "output_type": "display_data",
          "data": {
            "image/png": "[encoded data removed]",
            "text/plain": [
              "<Figure size 432x288 with 1 Axes>"
            ]
          },
          "metadata": {
            "tags": []
          }
        }
      ]
    }
  ]
}