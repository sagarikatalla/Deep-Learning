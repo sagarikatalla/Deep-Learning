{
  "nbformat": 4,
  "nbformat_minor": 0,
  "metadata": {
    "colab": {
      "name": "2798178,3.7-predicting-house-prices.ipynb",
      "version": "0.3.2",
      "provenance": [],
      "collapsed_sections": []
    },
    "kernelspec": {
      "display_name": "Python 3",
      "language": "python",
      "name": "python3"
    }
  },
  "cells": [
    {
      "metadata": {
        "id": "kPQwwQcLoCyx",
        "colab_type": "code",
        "outputId": "b3634eaa-f2e4-493d-a899-4ba7a6b4070d",
        "colab": {
          "base_uri": "https://localhost:8080/",
          "height": 35
        }
      },
      "cell_type": "code",
      "source": [
        "import keras\n",
        "keras.__version__"
      ],
      "execution_count": 43,
      "outputs": [
        {
          "output_type": "execute_result",
          "data": {
            "text/plain": [
              "'2.2.4'"
            ]
          },
          "metadata": {
            "tags": []
          },
          "execution_count": 43
        }
      ]
    },
    {
      "metadata": {
        "id": "g82klDmaoCzO",
        "colab_type": "text"
      },
      "cell_type": "markdown",
      "source": [
        "# Predicting house prices: a regression example\n",
        "\n",
        "This notebook contains the code samples found in Chapter 3, Section 6 of [Deep Learning with Python](https://www.manning.com/books/deep-learning-with-python?a_aid=keras&a_bid=76564dff). Note that the original text features far more content, in particular further explanations and figures: in this notebook, you will only find source code and related comments.\n",
        "\n",
        "----\n",
        "\n",
        "\n",
        "In our two previous examples, we were considering classification problems, where the goal was to predict a single discrete label of an \n",
        "input data point. Another common type of machine learning problem is \"regression\", which consists of predicting a continuous value instead \n",
        "of a discrete label. For instance, predicting the temperature tomorrow, given meteorological data, or predicting the time that a \n",
        "software project will take to complete, given its specifications.\n",
        "\n",
        "Do not mix up \"regression\" with the algorithm \"logistic regression\": confusingly, \"logistic regression\" is not a regression algorithm, \n",
        "it is a classification algorithm."
      ]
    },
    {
      "metadata": {
        "id": "HULYMWJ6oCzT",
        "colab_type": "text"
      },
      "cell_type": "markdown",
      "source": [
        "## The Boston Housing Price dataset\n",
        "\n",
        "\n",
        "We will be attempting to predict the median price of homes in a given Boston suburb in the mid-1970s, given a few data points about the \n",
        "suburb at the time, such as the crime rate, the local property tax rate, etc.\n",
        "\n",
        "The dataset we will be using has another interesting difference from our two previous examples: it has very few data points, only 506 in \n",
        "total, split between 404 training samples and 102 test samples, and each \"feature\" in the input data (e.g. the crime rate is a feature) has \n",
        "a different scale. For instance some values are proportions, which take a values between 0 and 1, others take values between 1 and 12, \n",
        "others between 0 and 100...\n",
        "\n",
        "Let's take a look at the data:"
      ]
    },
    {
      "metadata": {
        "id": "91ObFpP4oCzX",
        "colab_type": "code",
        "colab": {}
      },
      "cell_type": "code",
      "source": [
        "from keras.datasets import boston_housing\n",
        "\n",
        "(train_data, train_targets), (test_data, test_targets) =  boston_housing.load_data()"
      ],
      "execution_count": 0,
      "outputs": []
    },
    {
      "metadata": {
        "id": "shL4kF9-oCzy",
        "colab_type": "code",
        "outputId": "ef543b78-25ac-4fa6-97ce-c5693185c642",
        "colab": {
          "base_uri": "https://localhost:8080/",
          "height": 35
        }
      },
      "cell_type": "code",
      "source": [
        "train_data.shape"
      ],
      "execution_count": 45,
      "outputs": [
        {
          "output_type": "execute_result",
          "data": {
            "text/plain": [
              "(404, 13)"
            ]
          },
          "metadata": {
            "tags": []
          },
          "execution_count": 45
        }
      ]
    },
    {
      "metadata": {
        "id": "5Fw5v8McoCz_",
        "colab_type": "code",
        "outputId": "506c526a-0667-4d1c-f79f-69a422bfc347",
        "colab": {
          "base_uri": "https://localhost:8080/",
          "height": 35
        }
      },
      "cell_type": "code",
      "source": [
        "test_data.shape"
      ],
      "execution_count": 46,
      "outputs": [
        {
          "output_type": "execute_result",
          "data": {
            "text/plain": [
              "(102, 13)"
            ]
          },
          "metadata": {
            "tags": []
          },
          "execution_count": 46
        }
      ]
    },
    {
      "metadata": {
        "id": "0Kx3EhsHoC0K",
        "colab_type": "text"
      },
      "cell_type": "markdown",
      "source": [
        "\n",
        "As you can see, we have 404 training samples and 102 test samples. The data comprises 13 features. The 13 features in the input data are as \n",
        "follow:\n",
        "\n",
        "1. Per capita crime rate.\n",
        "2. Proportion of residential land zoned for lots over 25,000 square feet.\n",
        "3. Proportion of non-retail business acres per town.\n",
        "4. Charles River dummy variable (= 1 if tract bounds river; 0 otherwise).\n",
        "5. Nitric oxides concentration (parts per 10 million).\n",
        "6. Average number of rooms per dwelling.\n",
        "7. Proportion of owner-occupied units built prior to 1940.\n",
        "8. Weighted distances to five Boston employment centres.\n",
        "9. Index of accessibility to radial highways.\n",
        "10. Full-value property-tax rate per $10,000.\n",
        "11. Pupil-teacher ratio by town.\n",
        "12. 1000 * (Bk - 0.63) ** 2 where Bk is the proportion of Black people by town.\n",
        "13. % lower status of the population.\n",
        "\n",
        "The targets are the median values of owner-occupied homes, in thousands of dollars:"
      ]
    },
    {
      "metadata": {
        "id": "OXM3qStkoC0M",
        "colab_type": "code",
        "outputId": "b53b94c8-408b-46ca-857f-eea67ced6677",
        "colab": {
          "base_uri": "https://localhost:8080/",
          "height": 659
        }
      },
      "cell_type": "code",
      "source": [
        "train_targets"
      ],
      "execution_count": 47,
      "outputs": [
        {
          "output_type": "execute_result",
          "data": {
            "text/plain": [
              "array([15.2, 42.3, 50. , 21.1, 17.7, 18.5, 11.3, 15.6, 15.6, 14.4, 12.1,\n",
              "       17.9, 23.1, 19.9, 15.7,  8.8, 50. , 22.5, 24.1, 27.5, 10.9, 30.8,\n",
              "       32.9, 24. , 18.5, 13.3, 22.9, 34.7, 16.6, 17.5, 22.3, 16.1, 14.9,\n",
              "       23.1, 34.9, 25. , 13.9, 13.1, 20.4, 20. , 15.2, 24.7, 22.2, 16.7,\n",
              "       12.7, 15.6, 18.4, 21. , 30.1, 15.1, 18.7,  9.6, 31.5, 24.8, 19.1,\n",
              "       22. , 14.5, 11. , 32. , 29.4, 20.3, 24.4, 14.6, 19.5, 14.1, 14.3,\n",
              "       15.6, 10.5,  6.3, 19.3, 19.3, 13.4, 36.4, 17.8, 13.5, 16.5,  8.3,\n",
              "       14.3, 16. , 13.4, 28.6, 43.5, 20.2, 22. , 23. , 20.7, 12.5, 48.5,\n",
              "       14.6, 13.4, 23.7, 50. , 21.7, 39.8, 38.7, 22.2, 34.9, 22.5, 31.1,\n",
              "       28.7, 46. , 41.7, 21. , 26.6, 15. , 24.4, 13.3, 21.2, 11.7, 21.7,\n",
              "       19.4, 50. , 22.8, 19.7, 24.7, 36.2, 14.2, 18.9, 18.3, 20.6, 24.6,\n",
              "       18.2,  8.7, 44. , 10.4, 13.2, 21.2, 37. , 30.7, 22.9, 20. , 19.3,\n",
              "       31.7, 32. , 23.1, 18.8, 10.9, 50. , 19.6,  5. , 14.4, 19.8, 13.8,\n",
              "       19.6, 23.9, 24.5, 25. , 19.9, 17.2, 24.6, 13.5, 26.6, 21.4, 11.9,\n",
              "       22.6, 19.6,  8.5, 23.7, 23.1, 22.4, 20.5, 23.6, 18.4, 35.2, 23.1,\n",
              "       27.9, 20.6, 23.7, 28. , 13.6, 27.1, 23.6, 20.6, 18.2, 21.7, 17.1,\n",
              "        8.4, 25.3, 13.8, 22.2, 18.4, 20.7, 31.6, 30.5, 20.3,  8.8, 19.2,\n",
              "       19.4, 23.1, 23. , 14.8, 48.8, 22.6, 33.4, 21.1, 13.6, 32.2, 13.1,\n",
              "       23.4, 18.9, 23.9, 11.8, 23.3, 22.8, 19.6, 16.7, 13.4, 22.2, 20.4,\n",
              "       21.8, 26.4, 14.9, 24.1, 23.8, 12.3, 29.1, 21. , 19.5, 23.3, 23.8,\n",
              "       17.8, 11.5, 21.7, 19.9, 25. , 33.4, 28.5, 21.4, 24.3, 27.5, 33.1,\n",
              "       16.2, 23.3, 48.3, 22.9, 22.8, 13.1, 12.7, 22.6, 15. , 15.3, 10.5,\n",
              "       24. , 18.5, 21.7, 19.5, 33.2, 23.2,  5. , 19.1, 12.7, 22.3, 10.2,\n",
              "       13.9, 16.3, 17. , 20.1, 29.9, 17.2, 37.3, 45.4, 17.8, 23.2, 29. ,\n",
              "       22. , 18. , 17.4, 34.6, 20.1, 25. , 15.6, 24.8, 28.2, 21.2, 21.4,\n",
              "       23.8, 31. , 26.2, 17.4, 37.9, 17.5, 20. ,  8.3, 23.9,  8.4, 13.8,\n",
              "        7.2, 11.7, 17.1, 21.6, 50. , 16.1, 20.4, 20.6, 21.4, 20.6, 36.5,\n",
              "        8.5, 24.8, 10.8, 21.9, 17.3, 18.9, 36.2, 14.9, 18.2, 33.3, 21.8,\n",
              "       19.7, 31.6, 24.8, 19.4, 22.8,  7.5, 44.8, 16.8, 18.7, 50. , 50. ,\n",
              "       19.5, 20.1, 50. , 17.2, 20.8, 19.3, 41.3, 20.4, 20.5, 13.8, 16.5,\n",
              "       23.9, 20.6, 31.5, 23.3, 16.8, 14. , 33.8, 36.1, 12.8, 18.3, 18.7,\n",
              "       19.1, 29. , 30.1, 50. , 50. , 22. , 11.9, 37.6, 50. , 22.7, 20.8,\n",
              "       23.5, 27.9, 50. , 19.3, 23.9, 22.6, 15.2, 21.7, 19.2, 43.8, 20.3,\n",
              "       33.2, 19.9, 22.5, 32.7, 22. , 17.1, 19. , 15. , 16.1, 25.1, 23.7,\n",
              "       28.7, 37.2, 22.6, 16.4, 25. , 29.8, 22.1, 17.4, 18.1, 30.3, 17.5,\n",
              "       24.7, 12.6, 26.5, 28.7, 13.3, 10.4, 24.4, 23. , 20. , 17.8,  7. ,\n",
              "       11.8, 24.4, 13.8, 19.4, 25.2, 19.4, 19.4, 29.1])"
            ]
          },
          "metadata": {
            "tags": []
          },
          "execution_count": 47
        }
      ]
    },
    {
      "metadata": {
        "id": "gbQN-p38oC0V",
        "colab_type": "text"
      },
      "cell_type": "markdown",
      "source": [
        "\n",
        "The prices are typically between \\$10,000 and \\$50,000. If that sounds cheap, remember this was the mid-1970s, and these prices are not \n",
        "inflation-adjusted."
      ]
    },
    {
      "metadata": {
        "id": "XCAZzUwfoC0Y",
        "colab_type": "text"
      },
      "cell_type": "markdown",
      "source": [
        "## Preparing the data\n",
        "\n",
        "\n",
        "It would be problematic to feed into a neural network values that all take wildly different ranges. The network might be able to \n",
        "automatically adapt to such heterogeneous data, but it would definitely make learning more difficult. A widespread best practice to deal \n",
        "with such data is to do feature-wise normalization: for each feature in the input data (a column in the input data matrix), we \n",
        "will subtract the mean of the feature and divide by the standard deviation, so that the feature will be centered around 0 and will have a \n",
        "unit standard deviation. This is easily done in Numpy:"
      ]
    },
    {
      "metadata": {
        "id": "0j5MvCxKoC0c",
        "colab_type": "code",
        "colab": {}
      },
      "cell_type": "code",
      "source": [
        "mean = train_data.mean(axis=0)\n",
        "train_data -= mean\n",
        "std = train_data.std(axis=0)\n",
        "train_data /= std\n",
        "\n",
        "test_data -= mean\n",
        "test_data /= std"
      ],
      "execution_count": 0,
      "outputs": []
    },
    {
      "metadata": {
        "id": "6S68w_T3oC0k",
        "colab_type": "text"
      },
      "cell_type": "markdown",
      "source": [
        "\n",
        "Note that the quantities that we use for normalizing the test data have been computed using the training data. We should never use in our \n",
        "workflow any quantity computed on the test data, even for something as simple as data normalization."
      ]
    },
    {
      "metadata": {
        "id": "d9apQ3tooC0m",
        "colab_type": "text"
      },
      "cell_type": "markdown",
      "source": [
        "## Building our network\n",
        "\n",
        "\n",
        "Because so few samples are available, we will be using a very small network with two \n",
        "hidden layers, each with 64 units. In general, the less training data you have, the worse overfitting will be, and using \n",
        "a small network is one way to mitigate overfitting."
      ]
    },
    {
      "metadata": {
        "id": "g-SoCLlcoC0p",
        "colab_type": "code",
        "colab": {}
      },
      "cell_type": "code",
      "source": [
        "from keras import models\n",
        "from keras import layers\n",
        "\n",
        "def build_model():\n",
        "    # Because we will need to instantiate\n",
        "    # the same model multiple times,\n",
        "    # we use a function to construct it.\n",
        "    model = models.Sequential()\n",
        "    model.add(layers.Dense(64, activation='relu',\n",
        "                           input_shape=(train_data.shape[1],)))\n",
        "    model.add(layers.Dense(64, activation='relu'))\n",
        "    model.add(layers.Dense(1))\n",
        "    model.compile(optimizer='rmsprop', loss='mse', metrics=['mae'])\n",
        "    return model"
      ],
      "execution_count": 0,
      "outputs": []
    },
    {
      "metadata": {
        "id": "3bZmdDQroC0x",
        "colab_type": "text"
      },
      "cell_type": "markdown",
      "source": [
        "\n",
        "Our network ends with a single unit, and no activation (i.e. it will be linear layer). \n",
        "This is a typical setup for scalar regression (i.e. regression where we are trying to predict a single continuous value). \n",
        "Applying an activation function would constrain the range that the output can take; for instance if \n",
        "we applied a `sigmoid` activation function to our last layer, the network could only learn to predict values between 0 and 1. Here, because \n",
        "the last layer is purely linear, the network is free to learn to predict values in any range.\n",
        "\n",
        "Note that we are compiling the network with the `mse` loss function -- Mean Squared Error, the square of the difference between the \n",
        "predictions and the targets, a widely used loss function for regression problems.\n",
        "\n",
        "We are also monitoring a new metric during training: `mae`. This stands for Mean Absolute Error. It is simply the absolute value of the \n",
        "difference between the predictions and the targets. For instance, a MAE of 0.5 on this problem would mean that our predictions are off by \n",
        "\\$500 on average."
      ]
    },
    {
      "metadata": {
        "id": "u01WwmD_oC0z",
        "colab_type": "text"
      },
      "cell_type": "markdown",
      "source": [
        "## Validating our approach using K-fold validation\n",
        "\n",
        "\n",
        "To evaluate our network while we keep adjusting its parameters (such as the number of epochs used for training), we could simply split the \n",
        "data into a training set and a validation set, as we were doing in our previous examples. However, because we have so few data points, the \n",
        "validation set would end up being very small (e.g. about 100 examples). A consequence is that our validation scores may change a lot \n",
        "depending on _which_ data points we choose to use for validation and which we choose for training, i.e. the validation scores may have a \n",
        "high _variance_ with regard to the validation split. This would prevent us from reliably evaluating our model.\n",
        "\n",
        "The best practice in such situations is to use K-fold cross-validation. It consists of splitting the available data into K partitions \n",
        "(typically K=4 or 5), then instantiating K identical models, and training each one on K-1 partitions while evaluating on the remaining \n",
        "partition. The validation score for the model used would then be the average of the K validation scores obtained."
      ]
    },
    {
      "metadata": {
        "id": "CY-3WqIsoC02",
        "colab_type": "text"
      },
      "cell_type": "markdown",
      "source": [
        "In terms of code, this is straightforward:"
      ]
    },
    {
      "metadata": {
        "id": "I1yrLNjNoC04",
        "colab_type": "code",
        "outputId": "bc632097-1394-4c7b-9f43-1644d657dfd7",
        "colab": {
          "base_uri": "https://localhost:8080/",
          "height": 87
        }
      },
      "cell_type": "code",
      "source": [
        "import numpy as np\n",
        "\n",
        "k = 4\n",
        "num_val_samples = len(train_data) // k\n",
        "num_epochs = 100\n",
        "all_scores = []\n",
        "for i in range(k):\n",
        "    print('processing fold #', i)\n",
        "    # Prepare the validation data: data from partition # k\n",
        "    val_data = train_data[i * num_val_samples: (i + 1) * num_val_samples]\n",
        "    val_targets = train_targets[i * num_val_samples: (i + 1) * num_val_samples]\n",
        "\n",
        "    # Prepare the training data: data from all other partitions\n",
        "    partial_train_data = np.concatenate(\n",
        "        [train_data[:i * num_val_samples],\n",
        "         train_data[(i + 1) * num_val_samples:]],\n",
        "        axis=0)\n",
        "    partial_train_targets = np.concatenate(\n",
        "        [train_targets[:i * num_val_samples],\n",
        "         train_targets[(i + 1) * num_val_samples:]],\n",
        "        axis=0)\n",
        "\n",
        "    # Build the Keras model (already compiled)\n",
        "    model = build_model()\n",
        "    # Train the model (in silent mode, verbose=0)\n",
        "    model.fit(partial_train_data, partial_train_targets,\n",
        "              epochs=num_epochs, batch_size=1, verbose=0)\n",
        "    # Evaluate the model on the validation data\n",
        "    val_mse, val_mae = model.evaluate(val_data, val_targets, verbose=0)\n",
        "    all_scores.append(val_mae)"
      ],
      "execution_count": 50,
      "outputs": [
        {
          "output_type": "stream",
          "text": [
            "processing fold # 0\n",
            "processing fold # 1\n",
            "processing fold # 2\n",
            "processing fold # 3\n"
          ],
          "name": "stdout"
        }
      ]
    },
    {
      "metadata": {
        "id": "LeL5EKHToC1C",
        "colab_type": "code",
        "outputId": "1c94f0ad-c19d-4cc6-eda9-c8a83fdea600",
        "colab": {
          "base_uri": "https://localhost:8080/",
          "height": 35
        }
      },
      "cell_type": "code",
      "source": [
        "all_scores"
      ],
      "execution_count": 51,
      "outputs": [
        {
          "output_type": "execute_result",
          "data": {
            "text/plain": [
              "[2.0198909480973044, 2.2549697337764325, 2.8603119637706493, 2.389122274252448]"
            ]
          },
          "metadata": {
            "tags": []
          },
          "execution_count": 51
        }
      ]
    },
    {
      "metadata": {
        "id": "sESRosDgoC1L",
        "colab_type": "code",
        "outputId": "930a4710-2e4c-4944-96c8-35a44d7a87fd",
        "colab": {
          "base_uri": "https://localhost:8080/",
          "height": 35
        }
      },
      "cell_type": "code",
      "source": [
        "np.mean(all_scores)"
      ],
      "execution_count": 52,
      "outputs": [
        {
          "output_type": "execute_result",
          "data": {
            "text/plain": [
              "2.3810737299742084"
            ]
          },
          "metadata": {
            "tags": []
          },
          "execution_count": 52
        }
      ]
    },
    {
      "metadata": {
        "id": "BCOn_jXsoC1V",
        "colab_type": "text"
      },
      "cell_type": "markdown",
      "source": [
        "\n",
        "As you can notice, the different runs do indeed show rather different validation scores, from 2.1 to 2.9. Their average (2.4) is a much more \n",
        "reliable metric than any single of these scores -- that's the entire point of K-fold cross-validation. In this case, we are off by \\$2,400 on \n",
        "average, which is still significant considering that the prices range from \\$10,000 to \\$50,000. \n",
        "\n",
        "Let's try training the network for a bit longer: 500 epochs. To keep a record of how well the model did at each epoch, we will modify our training loop \n",
        "to save the per-epoch validation score log:"
      ]
    },
    {
      "metadata": {
        "id": "bzSDtjXgoC1Y",
        "colab_type": "code",
        "colab": {}
      },
      "cell_type": "code",
      "source": [
        "from keras import backend as K\n",
        "\n",
        "# Some memory clean-up\n",
        "K.clear_session()"
      ],
      "execution_count": 0,
      "outputs": []
    },
    {
      "metadata": {
        "id": "C2VnDRBXoC1n",
        "colab_type": "code",
        "colab": {}
      },
      "cell_type": "code",
      "source": [
        "num_epochs = 500\n",
        "all_mae_histories = []\n",
        "for i in range(k):\n",
        "    print('processing fold #', i)\n",
        "    # Prepare the validation data: data from partition # k\n",
        "    val_data = train_data[i * num_val_samples: (i + 1) * num_val_samples]\n",
        "    val_targets = train_targets[i * num_val_samples: (i + 1) * num_val_samples]\n",
        "\n",
        "    # Prepare the training data: data from all other partitions\n",
        "    partial_train_data = np.concatenate(\n",
        "        [train_data[:i * num_val_samples],\n",
        "         train_data[(i + 1) * num_val_samples:]],\n",
        "        axis=0)\n",
        "    partial_train_targets = np.concatenate(\n",
        "        [train_targets[:i * num_val_samples],\n",
        "         train_targets[(i + 1) * num_val_samples:]],\n",
        "        axis=0)\n",
        "\n",
        "    # Build the Keras model (already compiled)\n",
        "    model = build_model()\n",
        "    # Train the model (in silent mode, verbose=0)\n",
        "    history = model.fit(partial_train_data, partial_train_targets,\n",
        "                        validation_data=(val_data, val_targets),\n",
        "                        epochs=num_epochs, batch_size=1, verbose=0)\n",
        "    mae_history = history.history['val_mean_absolute_error']\n",
        "    all_mae_histories.append(mae_history)"
      ],
      "execution_count": 0,
      "outputs": []
    },
    {
      "metadata": {
        "id": "ESxiwRJNoC12",
        "colab_type": "text"
      },
      "cell_type": "markdown",
      "source": [
        "We can then compute the average of the per-epoch MAE scores for all folds:"
      ]
    },
    {
      "metadata": {
        "id": "Ji3LL2d7oC17",
        "colab_type": "code",
        "colab": {}
      },
      "cell_type": "code",
      "source": [
        "average_mae_history = [\n",
        "    np.mean([x[i] for x in all_mae_histories]) for i in range(num_epochs)]"
      ],
      "execution_count": 0,
      "outputs": []
    },
    {
      "metadata": {
        "id": "3rWyyNPAoC2D",
        "colab_type": "text"
      },
      "cell_type": "markdown",
      "source": [
        "Let's plot this:"
      ]
    },
    {
      "metadata": {
        "id": "GzEZJanfoC2G",
        "colab_type": "code",
        "colab": {}
      },
      "cell_type": "code",
      "source": [
        "import matplotlib.pyplot as plt\n",
        "\n",
        "plt.plot(range(1, len(average_mae_history) + 1), average_mae_history)\n",
        "plt.xlabel('Epochs')\n",
        "plt.ylabel('Validation MAE')\n",
        "plt.show()"
      ],
      "execution_count": 0,
      "outputs": []
    },
    {
      "metadata": {
        "id": "h-8OuiLgoC2R",
        "colab_type": "text"
      },
      "cell_type": "markdown",
      "source": [
        "\n",
        "It may be a bit hard to see the plot due to scaling issues and relatively high variance. Let's:\n",
        "\n",
        "* Omit the first 10 data points, which are on a different scale from the rest of the curve.\n",
        "* Replace each point with an exponential moving average of the previous points, to obtain a smooth curve."
      ]
    },
    {
      "metadata": {
        "id": "Q4MvxtoOoC2T",
        "colab_type": "code",
        "colab": {}
      },
      "cell_type": "code",
      "source": [
        "def smooth_curve(points, factor=0.9):\n",
        "  smoothed_points = []\n",
        "  for point in points:\n",
        "    if smoothed_points:\n",
        "      previous = smoothed_points[-1]\n",
        "      smoothed_points.append(previous * factor + point * (1 - factor))\n",
        "    else:\n",
        "      smoothed_points.append(point)\n",
        "  return smoothed_points\n",
        "\n",
        "smooth_mae_history = smooth_curve(average_mae_history[10:])\n",
        "\n",
        "plt.plot(range(1, len(smooth_mae_history) + 1), smooth_mae_history)\n",
        "plt.xlabel('Epochs')\n",
        "plt.ylabel('Validation MAE')\n",
        "plt.show()"
      ],
      "execution_count": 0,
      "outputs": []
    },
    {
      "metadata": {
        "id": "vWk6Bnx2oC2a",
        "colab_type": "text"
      },
      "cell_type": "markdown",
      "source": [
        "\n",
        "According to this plot, it seems that validation MAE stops improving significantly after 80 epochs. Past that point, we start overfitting.\n",
        "\n",
        "Once we are done tuning other parameters of our model (besides the number of epochs, we could also adjust the size of the hidden layers), we \n",
        "can train a final \"production\" model on all of the training data, with the best parameters, then look at its performance on the test data:"
      ]
    },
    {
      "metadata": {
        "id": "px1PgHj4oC2b",
        "colab_type": "code",
        "outputId": "8c48135a-a22b-455c-e40a-81f02a17555d",
        "colab": {
          "base_uri": "https://localhost:8080/",
          "height": 225
        }
      },
      "cell_type": "code",
      "source": [
        "# Get a fresh, compiled model.\n",
        "model = build_model()\n",
        "import pandas as pd\n",
        "df = pd.DataFrame([],columns = [\"Epochs\",\"Batch_size\",\"MAE\",\"MSE\"])\n",
        "ls = []\n",
        "# Train it on the entirety of the data.\n",
        "for num_batch in range(1,120):\n",
        "  for num_epochs in range(10,200):\n",
        "    \n",
        "    \n",
        "    model.fit(train_data, train_targets,epochs=num_epochs, batch_size=num_batch, verbose=0)\n",
        "    test_mse_score, test_mae_score = model.evaluate(test_data, test_targets)\n",
        "    ls.append([num_batch,num_epochs,test_mse_score, test_mae_score])\n",
        "    print(test_mae_score)\n",
        "    if test_mae_score <2.55:\n",
        "      break\n",
        "  if test_mae_score <2.55:\n",
        "    break\n",
        "    #df_c = pd.concat([pd.Series(y_pred_reg,name='Prediction_reg'), \n",
        "    #                pd.Series(y_pred_clf,name='Prediction_rf'),pd.Series(y_pred_gbm,name='Prediction_gbm')], axis=1)\n",
        "  \n",
        "valid_res = pd.DataFrame(ls,columns = [\"Batch_size\",\"Epochs\",\"MAE\",\"MSE\"])\n",
        "    \n"
      ],
      "execution_count": 53,
      "outputs": [
        {
          "output_type": "stream",
          "text": [
            "102/102 [==============================] - 0s 2ms/step\n",
            "2.8002449484432446\n",
            "102/102 [==============================] - 0s 120us/step\n",
            "2.6555626439113245\n",
            "102/102 [==============================] - 0s 39us/step\n",
            "2.5592962526807597\n",
            "102/102 [==============================] - 0s 87us/step\n",
            "2.808759651932062\n",
            "102/102 [==============================] - 0s 80us/step\n",
            "2.555296869838939\n",
            "102/102 [==============================] - 0s 65us/step\n",
            "2.521936005237056\n"
          ],
          "name": "stdout"
        }
      ]
    },
    {
      "metadata": {
        "id": "z_0t5Pid1v-6",
        "colab_type": "code",
        "colab": {
          "base_uri": "https://localhost:8080/",
          "height": 233
        },
        "outputId": "09193796-094d-479c-8c75-076d0ce9c814"
      },
      "cell_type": "code",
      "source": [
        "valid_res"
      ],
      "execution_count": 54,
      "outputs": [
        {
          "output_type": "execute_result",
          "data": {
            "text/html": [
              "<div>\n",
              "<style scoped>\n",
              "    .dataframe tbody tr th:only-of-type {\n",
              "        vertical-align: middle;\n",
              "    }\n",
              "\n",
              "    .dataframe tbody tr th {\n",
              "        vertical-align: top;\n",
              "    }\n",
              "\n",
              "    .dataframe thead th {\n",
              "        text-align: right;\n",
              "    }\n",
              "</style>\n",
              "<table border=\"1\" class=\"dataframe\">\n",
              "  <thead>\n",
              "    <tr style=\"text-align: right;\">\n",
              "      <th></th>\n",
              "      <th>Batch_size</th>\n",
              "      <th>Epochs</th>\n",
              "      <th>MAE</th>\n",
              "      <th>MSE</th>\n",
              "    </tr>\n",
              "  </thead>\n",
              "  <tbody>\n",
              "    <tr>\n",
              "      <th>0</th>\n",
              "      <td>1</td>\n",
              "      <td>10</td>\n",
              "      <td>19.159348</td>\n",
              "      <td>2.800245</td>\n",
              "    </tr>\n",
              "    <tr>\n",
              "      <th>1</th>\n",
              "      <td>1</td>\n",
              "      <td>11</td>\n",
              "      <td>18.382372</td>\n",
              "      <td>2.655563</td>\n",
              "    </tr>\n",
              "    <tr>\n",
              "      <th>2</th>\n",
              "      <td>1</td>\n",
              "      <td>12</td>\n",
              "      <td>17.598573</td>\n",
              "      <td>2.559296</td>\n",
              "    </tr>\n",
              "    <tr>\n",
              "      <th>3</th>\n",
              "      <td>1</td>\n",
              "      <td>13</td>\n",
              "      <td>19.918338</td>\n",
              "      <td>2.808760</td>\n",
              "    </tr>\n",
              "    <tr>\n",
              "      <th>4</th>\n",
              "      <td>1</td>\n",
              "      <td>14</td>\n",
              "      <td>17.215915</td>\n",
              "      <td>2.555297</td>\n",
              "    </tr>\n",
              "    <tr>\n",
              "      <th>5</th>\n",
              "      <td>1</td>\n",
              "      <td>15</td>\n",
              "      <td>15.569595</td>\n",
              "      <td>2.521936</td>\n",
              "    </tr>\n",
              "  </tbody>\n",
              "</table>\n",
              "</div>"
            ],
            "text/plain": [
              "   Batch_size  Epochs        MAE       MSE\n",
              "0           1      10  19.159348  2.800245\n",
              "1           1      11  18.382372  2.655563\n",
              "2           1      12  17.598573  2.559296\n",
              "3           1      13  19.918338  2.808760\n",
              "4           1      14  17.215915  2.555297\n",
              "5           1      15  15.569595  2.521936"
            ]
          },
          "metadata": {
            "tags": []
          },
          "execution_count": 54
        }
      ]
    },
    {
      "metadata": {
        "id": "6s9BRFvMoC2i",
        "colab_type": "code",
        "outputId": "538cb1ff-6a7f-4aa8-ef0e-0f6b8c10f573",
        "colab": {
          "base_uri": "https://localhost:8080/",
          "height": 35
        }
      },
      "cell_type": "code",
      "source": [
        "test_mae_score"
      ],
      "execution_count": 55,
      "outputs": [
        {
          "output_type": "execute_result",
          "data": {
            "text/plain": [
              "2.521936005237056"
            ]
          },
          "metadata": {
            "tags": []
          },
          "execution_count": 55
        }
      ]
    },
    {
      "metadata": {
        "id": "L9W3HLo_oC2o",
        "colab_type": "text"
      },
      "cell_type": "markdown",
      "source": [
        "We are still off by about \\$2,550."
      ]
    },
    {
      "metadata": {
        "id": "wmQC7Ont19gZ",
        "colab_type": "text"
      },
      "cell_type": "markdown",
      "source": [
        "#Writeup\n",
        "\n",
        "*   Yes, I got a better Test MAE score\n",
        "*   I got a lower error than existing MAE = 2.55, for batch size, 1 and 15 epochs with MAE, error of 2.52 by running a for loop for batch size varying from 1 to 120 and epochs varying from 10 to 200.\n",
        "\n"
      ]
    },
    {
      "metadata": {
        "id": "pezQ0erroC2q",
        "colab_type": "text"
      },
      "cell_type": "markdown",
      "source": [
        "## Wrapping up\n",
        "\n",
        "\n",
        "Here's what you should take away from this example:\n",
        "\n",
        "* Regression is done using different loss functions from classification; Mean Squared Error (MSE) is a commonly used loss function for \n",
        "regression.\n",
        "* Similarly, evaluation metrics to be used for regression differ from those used for classification; naturally the concept of \"accuracy\" \n",
        "does not apply for regression. A common regression metric is Mean Absolute Error (MAE).\n",
        "* When features in the input data have values in different ranges, each feature should be scaled independently as a preprocessing step.\n",
        "* When there is little data available, using K-Fold validation is a great way to reliably evaluate a model.\n",
        "* When little training data is available, it is preferable to use a small network with very few hidden layers (typically only one or two), \n",
        "in order to avoid severe overfitting.\n",
        "\n",
        "This example concludes our series of three introductory practical examples. You are now able to handle common types of problems with vector data input:\n",
        "\n",
        "* Binary (2-class) classification.\n",
        "* Multi-class, single-label classification.\n",
        "* Scalar regression.\n",
        "\n",
        "In the next chapter, you will acquire a more formal understanding of some of the concepts you have encountered in these first examples, \n",
        "such as data preprocessing, model evaluation, and overfitting."
      ]
    }
  ]
}